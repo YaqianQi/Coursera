{
 "cells": [
  {
   "cell_type": "code",
   "execution_count": 2,
   "metadata": {},
   "outputs": [],
   "source": [
    "import math\n",
    "import pandas as pd\n",
    "import numpy as np\n",
    "from math import sqrt"
   ]
  },
  {
   "cell_type": "code",
   "execution_count": 10,
   "metadata": {},
   "outputs": [
    {
     "data": {
      "text/html": [
       "<div>\n",
       "<style scoped>\n",
       "    .dataframe tbody tr th:only-of-type {\n",
       "        vertical-align: middle;\n",
       "    }\n",
       "\n",
       "    .dataframe tbody tr th {\n",
       "        vertical-align: top;\n",
       "    }\n",
       "\n",
       "    .dataframe thead th {\n",
       "        text-align: right;\n",
       "    }\n",
       "</style>\n",
       "<table border=\"1\" class=\"dataframe\">\n",
       "  <thead>\n",
       "    <tr style=\"text-align: right;\">\n",
       "      <th></th>\n",
       "      <th>spread</th>\n",
       "      <th>target_median</th>\n",
       "      <th>number_KNN</th>\n",
       "      <th>ABS Metrics</th>\n",
       "      <th>fsignal</th>\n",
       "    </tr>\n",
       "  </thead>\n",
       "  <tbody>\n",
       "    <tr>\n",
       "      <th>1</th>\n",
       "      <td>1.000</td>\n",
       "      <td>1.000</td>\n",
       "      <td>1.0</td>\n",
       "      <td>0.00</td>\n",
       "      <td>0.0</td>\n",
       "    </tr>\n",
       "    <tr>\n",
       "      <th>3</th>\n",
       "      <td>1.393</td>\n",
       "      <td>1.393</td>\n",
       "      <td>1.0</td>\n",
       "      <td>0.00</td>\n",
       "      <td>0.0</td>\n",
       "    </tr>\n",
       "    <tr>\n",
       "      <th>5</th>\n",
       "      <td>1.610</td>\n",
       "      <td>1.824</td>\n",
       "      <td>2.0</td>\n",
       "      <td>0.12</td>\n",
       "      <td>0.0</td>\n",
       "    </tr>\n",
       "    <tr>\n",
       "      <th>7</th>\n",
       "      <td>1.018</td>\n",
       "      <td>1.018</td>\n",
       "      <td>1.0</td>\n",
       "      <td>0.00</td>\n",
       "      <td>0.0</td>\n",
       "    </tr>\n",
       "    <tr>\n",
       "      <th>9</th>\n",
       "      <td>2.517</td>\n",
       "      <td>1.345</td>\n",
       "      <td>4.0</td>\n",
       "      <td>0.87</td>\n",
       "      <td>0.0</td>\n",
       "    </tr>\n",
       "  </tbody>\n",
       "</table>\n",
       "</div>"
      ],
      "text/plain": [
       "   spread  target_median  number_KNN  ABS Metrics   fsignal\n",
       "1   1.000          1.000         1.0          0.00      0.0\n",
       "3   1.393          1.393         1.0          0.00      0.0\n",
       "5   1.610          1.824         2.0          0.12      0.0\n",
       "7   1.018          1.018         1.0          0.00      0.0\n",
       "9   2.517          1.345         4.0          0.87      0.0"
      ]
     },
     "execution_count": 10,
     "metadata": {},
     "output_type": "execute_result"
    }
   ],
   "source": [
    "data = pd.read_csv(\"clean_median_metrix_data.csv\")\n",
    "data = data.dropna()\n",
    "data['spread'] = data['spread']/1000\n",
    "data['target_median'] = data['target_median']/1000\n",
    "data.head()"
   ]
  },
  {
   "cell_type": "code",
   "execution_count": 12,
   "metadata": {},
   "outputs": [],
   "source": [
    "feature_matrix = data.values[:,:-1]\n",
    "weights = [1,2,3,4]"
   ]
  },
  {
   "cell_type": "code",
   "execution_count": 36,
   "metadata": {},
   "outputs": [],
   "source": [
    "obs = data.values[:,-1]\n",
    "step_size = 10-6"
   ]
  },
  {
   "cell_type": "code",
   "execution_count": 16,
   "metadata": {},
   "outputs": [],
   "source": [
    "scores =  get_score(weights,feature_matrix)"
   ]
  },
  {
   "cell_type": "code",
   "execution_count": 29,
   "metadata": {},
   "outputs": [
    {
     "data": {
      "text/plain": [
       "-24537.472194654125"
      ]
     },
     "execution_count": 29,
     "metadata": {},
     "output_type": "execute_result"
    }
   ],
   "source": [
    "calculate_log_likelihood(feature_matrix,obs,weights)"
   ]
  },
  {
   "cell_type": "code",
   "execution_count": 52,
   "metadata": {},
   "outputs": [
    {
     "data": {
      "text/plain": [
       "[111460887040859.08, 112207350253620.44, 17119976097505.06, 322992202096.92664]"
      ]
     },
     "execution_count": 52,
     "metadata": {},
     "output_type": "execute_result"
    }
   ],
   "source": [
    "get_logistic_regression(feature_matrix, weights, obs,step_size)"
   ]
  },
  {
   "cell_type": "code",
   "execution_count": 15,
   "metadata": {},
   "outputs": [],
   "source": [
    "def get_score(weights,feature_matrix):\n",
    "    scores = np.dot(feature_matrix, weights)\n",
    "    return scores"
   ]
  },
  {
   "cell_type": "code",
   "execution_count": 19,
   "metadata": {},
   "outputs": [],
   "source": [
    "# calculate probability \n",
    "def calculate_prob(scores):\n",
    "    prob_pred = []\n",
    "    for score in scores:\n",
    "        prob = 1/(1+math.exp(-score))\n",
    "        prob_pred.append(prob)\n",
    "    return prob_pred"
   ]
  },
  {
   "cell_type": "code",
   "execution_count": 21,
   "metadata": {},
   "outputs": [],
   "source": [
    "# get accuracy \n",
    "def get_classification_accuracy(pred, obs):\n",
    "    num_correct = sum(pred==obs)\n",
    "    accuracy = num_correct/len(pred)\n",
    "    return accuracy"
   ]
  },
  {
   "cell_type": "code",
   "execution_count": 28,
   "metadata": {},
   "outputs": [],
   "source": [
    "# compute derivative of log likelihood with respect to a single coefficient \n",
    "def calculate_log_likelihood(feature_matrix,obs,weights):\n",
    "    pred = np.dot(feature_matrix, weights)\n",
    "    logexp = 1/(1+np.exp(-pred))\n",
    "    lp = np.sum((obs -1)*pred - logexp)\n",
    "    return lp"
   ]
  },
  {
   "cell_type": "code",
   "execution_count": 42,
   "metadata": {},
   "outputs": [],
   "source": [
    "# logistic regression -- gradient descent \n",
    "# 1. gradient function \n",
    "# 2.logistic regression \n",
    "def get_gradient(error,feature_matrix):\n",
    "    derivatives = np.dot(error,feature_matrix)\n",
    "    return derivatives \n",
    "\n",
    "def get_logistic_regression(feature_matrix, weights, obs,step_size):\n",
    "    D = feature_matrix.shape[1]\n",
    "    pred = np.dot(feature_matrix, weights)\n",
    "    error = obs - pred\n",
    "    for j in range(D):\n",
    "        derivatives = get_gradient(error,feature_matrix[:,j])\n",
    "        weights[j] += step_size * derivatives\n",
    "    return weights"
   ]
  },
  {
   "cell_type": "code",
   "execution_count": 53,
   "metadata": {},
   "outputs": [],
   "source": [
    "# build decision tree\n",
    "# 1. count number of mistake while predicting marjority class \n",
    "def intermediate_node_num_mistake(labels_in_node):\n",
    "    if (len(labels_in_node) == 0):\n",
    "        return 0\n",
    "    num_positive = (labels_in_node == 1).sum()\n",
    "    num_negative = (labels_in_node == -1).sum()\n",
    "    return num_negative if num_positive > num_negative else num_positive"
   ]
  },
  {
   "cell_type": "code",
   "execution_count": 55,
   "metadata": {},
   "outputs": [],
   "source": [
    "##2. pick up best feature to split \n",
    "def best_spliting_feature(data,features, target):\n",
    "    best_feature = []\n",
    "    best_error = 10\n",
    "    num_record = len(data)\n",
    "    \n",
    "    for feature in features:\n",
    "        right_size = data[data[feature] == 1]\n",
    "        left_side = data[data[feature] == 0]\n",
    "        left_mistake  =  intermediate_node_num_mistake(left_side)\n",
    "        right_mistake = intermediate_node_num_mistake(right_side)\n",
    "        avg_mistake = (left_mistake+ right_mistake)/num_record\n",
    "        if avg_mistake< best_error:\n",
    "            best_error = avg_mistake\n",
    "            best_feature = feature \n",
    "    return best_feature"
   ]
  },
  {
   "cell_type": "code",
   "execution_count": 56,
   "metadata": {},
   "outputs": [],
   "source": [
    "# 3. create leaf \n",
    "def create_leaf(target_value):\n",
    "    leaf = {\"spliting feature\": None,\n",
    "           \"left\" : None,\n",
    "            \"right\" : None,\n",
    "            \"is_leaf\":True\n",
    "           }\n",
    "    num_ones = len(target_values[target_values == 1])\n",
    "    num_minus_ones = len(target_values[target_value == -1])\n",
    "    \n",
    "    if num_ones> num_minus_one:\n",
    "        leaf['prediction'] = 1\n",
    "    else:\n",
    "        leaf['prediction'] = -1\n",
    "    return leaf "
   ]
  },
  {
   "cell_type": "code",
   "execution_count": null,
   "metadata": {},
   "outputs": [],
   "source": [
    "## stoping condition 1: all points in a node are in the same class \n",
    "## stoping condition 2: no  more feature \n",
    "## stoping condition 3: max depth \n",
    "def decision_tre_create(data, features,'safe_loan',max_depth = 3):\n",
    "    remaining_feature = feature[:]\n",
    "    target_values = data[target]\n",
    "    print('--------------------------------------------------------------------------')\n",
    "    print(\"subtree , depth = %s(%s data pints).\") %(current_depth, len(target_values))\n",
    "    \n",
    "    if intermediate_node_num_mistake(labels_in_node) == 0:\n",
    "        print(\"stop condition 1 reached\")\n",
    "        return create_leaf(target_values)\n",
    "    \n",
    "    if remaining_feature == []:\n",
    "        print(\"stop condiction 2 reached\")\n",
    "        return create_leaf(target_values)\n",
    "    if current_depth >= max_depth:\n",
    "        print(\"reached maximum depth. stop for now\")\n",
    "        return create(targe_values)\n",
    "    ## fine the best splitting feature \n",
    "    splitting_feature = best_spliting_feature(data,features, target)\n",
    "    left_split = data[data[splitting_feature] == 0]\n",
    "    right_split = data[data[splitting_feature] == 1]\n",
    "    remaining_feature.remove(spliting_feature)\n",
    "    print(\"split on feature %s.(%s ,%s)\"%(splitting_feature,len(left_split),len(right_split)))\n",
    "    \n",
    "    if len(left_split) == len(data):\n",
    "        print(\"create leaf node\")\n",
    "        return create_leaf(left_split[target])\n",
    "    if len(right_split) == len(data):\n",
    "        print(\"create leaf node\")\n",
    "        return create_leaf(right_split[target])\n",
    "    \n",
    "    # repeat on left and right subtree\n",
    "    left_tree = decision_tree_create\n",
    "    right_tree = decicsion_tree_create \n",
    "    return {\"is_leaf\"          : False,\n",
    "            \"predction\"        : None,\n",
    "            \"spllting_feature\" : splitting_feature,\n",
    "            \"left\"             : left_tree, \n",
    "            \"right\"            :right_tree\n",
    "           }"
   ]
  },
  {
   "cell_type": "code",
   "execution_count": 57,
   "metadata": {},
   "outputs": [],
   "source": [
    "def cout_node(tree):\n",
    "    if tree[\"is_leaf\"]:\n",
    "        return 1\n",
    "    return 1 + count_nodes(tree['left']) + count_node(tree['right'])"
   ]
  },
  {
   "cell_type": "code",
   "execution_count": 1,
   "metadata": {},
   "outputs": [],
   "source": [
    "## explore loan data "
   ]
  },
  {
   "cell_type": "code",
   "execution_count": 142,
   "metadata": {},
   "outputs": [
    {
     "name": "stderr",
     "output_type": "stream",
     "text": [
      "C:\\Users\\AQi\\AppData\\Local\\Continuum\\anaconda3\\lib\\site-packages\\IPython\\core\\interactiveshell.py:2785: DtypeWarning: Columns (45) have mixed types. Specify dtype option on import or set low_memory=False.\n",
      "  interactivity=interactivity, compiler=compiler, result=result)\n"
     ]
    },
    {
     "data": {
      "text/html": [
       "<div>\n",
       "<style scoped>\n",
       "    .dataframe tbody tr th:only-of-type {\n",
       "        vertical-align: middle;\n",
       "    }\n",
       "\n",
       "    .dataframe tbody tr th {\n",
       "        vertical-align: top;\n",
       "    }\n",
       "\n",
       "    .dataframe thead th {\n",
       "        text-align: right;\n",
       "    }\n",
       "</style>\n",
       "<table border=\"1\" class=\"dataframe\">\n",
       "  <thead>\n",
       "    <tr style=\"text-align: right;\">\n",
       "      <th></th>\n",
       "      <th>loan_amnt</th>\n",
       "      <th>funded_amnt</th>\n",
       "      <th>funded_amnt_inv</th>\n",
       "      <th>term</th>\n",
       "      <th>int_rate</th>\n",
       "      <th>installment</th>\n",
       "      <th>grade</th>\n",
       "      <th>sub_grade</th>\n",
       "      <th>emp_title</th>\n",
       "      <th>emp_length</th>\n",
       "      <th>...</th>\n",
       "      <th>sec_app_open_acc</th>\n",
       "      <th>sec_app_revol_util</th>\n",
       "      <th>sec_app_open_act_il</th>\n",
       "      <th>sec_app_num_rev_accts</th>\n",
       "      <th>sec_app_chargeoff_within_12_mths</th>\n",
       "      <th>sec_app_collections_12_mths_ex_med</th>\n",
       "      <th>sec_app_mths_since_last_major_derog</th>\n",
       "      <th>hardship_flag</th>\n",
       "      <th>disbursement_method</th>\n",
       "      <th>debt_settlement_flag</th>\n",
       "    </tr>\n",
       "  </thead>\n",
       "  <tbody>\n",
       "    <tr>\n",
       "      <th>0</th>\n",
       "      <td>8000</td>\n",
       "      <td>8000</td>\n",
       "      <td>8000.0</td>\n",
       "      <td>36 months</td>\n",
       "      <td>10.99%</td>\n",
       "      <td>261.88</td>\n",
       "      <td>B</td>\n",
       "      <td>B2</td>\n",
       "      <td>PARTS MANAGER</td>\n",
       "      <td>2 years</td>\n",
       "      <td>...</td>\n",
       "      <td>NaN</td>\n",
       "      <td>NaN</td>\n",
       "      <td>NaN</td>\n",
       "      <td>NaN</td>\n",
       "      <td>NaN</td>\n",
       "      <td>NaN</td>\n",
       "      <td>NaN</td>\n",
       "      <td>N</td>\n",
       "      <td>Cash</td>\n",
       "      <td>N</td>\n",
       "    </tr>\n",
       "    <tr>\n",
       "      <th>1</th>\n",
       "      <td>12000</td>\n",
       "      <td>12000</td>\n",
       "      <td>12000.0</td>\n",
       "      <td>36 months</td>\n",
       "      <td>7.62%</td>\n",
       "      <td>373.94</td>\n",
       "      <td>A</td>\n",
       "      <td>A3</td>\n",
       "      <td>Systems Engineer</td>\n",
       "      <td>3 years</td>\n",
       "      <td>...</td>\n",
       "      <td>NaN</td>\n",
       "      <td>NaN</td>\n",
       "      <td>NaN</td>\n",
       "      <td>NaN</td>\n",
       "      <td>NaN</td>\n",
       "      <td>NaN</td>\n",
       "      <td>NaN</td>\n",
       "      <td>N</td>\n",
       "      <td>Cash</td>\n",
       "      <td>N</td>\n",
       "    </tr>\n",
       "    <tr>\n",
       "      <th>2</th>\n",
       "      <td>20800</td>\n",
       "      <td>20800</td>\n",
       "      <td>20800.0</td>\n",
       "      <td>36 months</td>\n",
       "      <td>13.53%</td>\n",
       "      <td>706.16</td>\n",
       "      <td>B</td>\n",
       "      <td>B5</td>\n",
       "      <td>Operations Manager</td>\n",
       "      <td>10+ years</td>\n",
       "      <td>...</td>\n",
       "      <td>NaN</td>\n",
       "      <td>NaN</td>\n",
       "      <td>NaN</td>\n",
       "      <td>NaN</td>\n",
       "      <td>NaN</td>\n",
       "      <td>NaN</td>\n",
       "      <td>NaN</td>\n",
       "      <td>N</td>\n",
       "      <td>Cash</td>\n",
       "      <td>N</td>\n",
       "    </tr>\n",
       "    <tr>\n",
       "      <th>3</th>\n",
       "      <td>10000</td>\n",
       "      <td>10000</td>\n",
       "      <td>10000.0</td>\n",
       "      <td>36 months</td>\n",
       "      <td>9.67%</td>\n",
       "      <td>321.13</td>\n",
       "      <td>B</td>\n",
       "      <td>B1</td>\n",
       "      <td>Registered Nurse</td>\n",
       "      <td>7 years</td>\n",
       "      <td>...</td>\n",
       "      <td>NaN</td>\n",
       "      <td>NaN</td>\n",
       "      <td>NaN</td>\n",
       "      <td>NaN</td>\n",
       "      <td>NaN</td>\n",
       "      <td>NaN</td>\n",
       "      <td>NaN</td>\n",
       "      <td>N</td>\n",
       "      <td>Cash</td>\n",
       "      <td>N</td>\n",
       "    </tr>\n",
       "    <tr>\n",
       "      <th>4</th>\n",
       "      <td>24000</td>\n",
       "      <td>24000</td>\n",
       "      <td>24000.0</td>\n",
       "      <td>36 months</td>\n",
       "      <td>13.53%</td>\n",
       "      <td>814.80</td>\n",
       "      <td>B</td>\n",
       "      <td>B5</td>\n",
       "      <td>driver</td>\n",
       "      <td>10+ years</td>\n",
       "      <td>...</td>\n",
       "      <td>NaN</td>\n",
       "      <td>NaN</td>\n",
       "      <td>NaN</td>\n",
       "      <td>NaN</td>\n",
       "      <td>NaN</td>\n",
       "      <td>NaN</td>\n",
       "      <td>NaN</td>\n",
       "      <td>N</td>\n",
       "      <td>Cash</td>\n",
       "      <td>N</td>\n",
       "    </tr>\n",
       "  </tbody>\n",
       "</table>\n",
       "<p>5 rows × 123 columns</p>\n",
       "</div>"
      ],
      "text/plain": [
       "   loan_amnt  funded_amnt  funded_amnt_inv        term int_rate  installment  \\\n",
       "0       8000         8000           8000.0   36 months   10.99%       261.88   \n",
       "1      12000        12000          12000.0   36 months    7.62%       373.94   \n",
       "2      20800        20800          20800.0   36 months   13.53%       706.16   \n",
       "3      10000        10000          10000.0   36 months    9.67%       321.13   \n",
       "4      24000        24000          24000.0   36 months   13.53%       814.80   \n",
       "\n",
       "  grade sub_grade           emp_title emp_length         ...           \\\n",
       "0     B        B2       PARTS MANAGER    2 years         ...            \n",
       "1     A        A3    Systems Engineer    3 years         ...            \n",
       "2     B        B5  Operations Manager  10+ years         ...            \n",
       "3     B        B1    Registered Nurse    7 years         ...            \n",
       "4     B        B5              driver  10+ years         ...            \n",
       "\n",
       "  sec_app_open_acc  sec_app_revol_util sec_app_open_act_il  \\\n",
       "0              NaN                 NaN                 NaN   \n",
       "1              NaN                 NaN                 NaN   \n",
       "2              NaN                 NaN                 NaN   \n",
       "3              NaN                 NaN                 NaN   \n",
       "4              NaN                 NaN                 NaN   \n",
       "\n",
       "  sec_app_num_rev_accts sec_app_chargeoff_within_12_mths  \\\n",
       "0                   NaN                              NaN   \n",
       "1                   NaN                              NaN   \n",
       "2                   NaN                              NaN   \n",
       "3                   NaN                              NaN   \n",
       "4                   NaN                              NaN   \n",
       "\n",
       "  sec_app_collections_12_mths_ex_med  sec_app_mths_since_last_major_derog  \\\n",
       "0                                NaN                                  NaN   \n",
       "1                                NaN                                  NaN   \n",
       "2                                NaN                                  NaN   \n",
       "3                                NaN                                  NaN   \n",
       "4                                NaN                                  NaN   \n",
       "\n",
       "  hardship_flag disbursement_method debt_settlement_flag  \n",
       "0             N                Cash                    N  \n",
       "1             N                Cash                    N  \n",
       "2             N                Cash                    N  \n",
       "3             N                Cash                    N  \n",
       "4             N                Cash                    N  \n",
       "\n",
       "[5 rows x 123 columns]"
      ]
     },
     "execution_count": 142,
     "metadata": {},
     "output_type": "execute_result"
    }
   ],
   "source": [
    "loans = pd.read_csv(\"decision_tree_data.csv\")\n",
    "loans = loans.iloc[:,:]\n",
    "loans.head()"
   ]
  },
  {
   "cell_type": "code",
   "execution_count": 143,
   "metadata": {},
   "outputs": [
    {
     "data": {
      "text/plain": [
       "['grade', 'term', 'emp_length', 'home_ownership', 'debt_settlement_flag']"
      ]
     },
     "execution_count": 143,
     "metadata": {},
     "output_type": "execute_result"
    }
   ],
   "source": [
    "features = ['grade','term','emp_length',\"home_ownership\"]\n",
    "target = ['debt_settlement_flag']\n",
    "features + target"
   ]
  },
  {
   "cell_type": "code",
   "execution_count": 139,
   "metadata": {},
   "outputs": [],
   "source": [
    "loans = loans[features + target]"
   ]
  },
  {
   "cell_type": "code",
   "execution_count": null,
   "metadata": {},
   "outputs": [],
   "source": []
  },
  {
   "cell_type": "code",
   "execution_count": 144,
   "metadata": {},
   "outputs": [
    {
     "name": "stdout",
     "output_type": "stream",
     "text": [
      "1.0\n"
     ]
    }
   ],
   "source": [
    "safe_loan_raw = loans[loans[target] == \"Y\"]\n",
    "risky_loan_raw = loans[loans[target] == \"N\"]\n",
    "percentage = len(safe_loan_raw)/len(risky_loan_raw)\n",
    "print(percentage)"
   ]
  },
  {
   "cell_type": "code",
   "execution_count": null,
   "metadata": {},
   "outputs": [],
   "source": []
  }
 ],
 "metadata": {
  "kernelspec": {
   "display_name": "Python 3",
   "language": "python",
   "name": "python3"
  },
  "language_info": {
   "codemirror_mode": {
    "name": "ipython",
    "version": 3
   },
   "file_extension": ".py",
   "mimetype": "text/x-python",
   "name": "python",
   "nbconvert_exporter": "python",
   "pygments_lexer": "ipython3",
   "version": "3.6.6"
  }
 },
 "nbformat": 4,
 "nbformat_minor": 2
}
