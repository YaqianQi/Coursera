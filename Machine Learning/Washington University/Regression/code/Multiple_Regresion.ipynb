{
 "cells": [
  {
   "cell_type": "code",
   "execution_count": 2,
   "metadata": {},
   "outputs": [],
   "source": [
    "# Calcuate RSS \n",
    "def get_residual_sum_of_sqaure(y_obs, y_hat):\n",
    "    residuals = y_obs - y_hat \n",
    "    RSS = (residuals ** 2).sum()\n",
    "    return RSS\n",
    "\n",
    "def get_residual_sum_of_squares(input_feature, output, intercept, slope):\n",
    "    # First get the predictions\n",
    "    predicted_values = intercept + (slope * input_feature)\n",
    "    # then compute the residuals (since we are squaring it doesn't matter which order you subtract)\n",
    "    residuals = output - predicted_values\n",
    "    # square the residuals and add them up\n",
    "    RSS = (residuals * residuals).sum()\n",
    "    return(RSS)"
   ]
  },
  {
   "cell_type": "code",
   "execution_count": 3,
   "metadata": {},
   "outputs": [],
   "source": [
    "def simple_linear_regression(input_feature, output):\n",
    "    x = input_feature\n",
    "    y = output \n",
    "    slope =np.dot(np.dot(np.linalg.inv(np.dot(np.transpose(x),x)), np.transpose(x)) , y)\n",
    "    intercept = y.mean() - np.dot(x.mean(), slope)\n",
    "    return intercept, slope"
   ]
  },
  {
   "cell_type": "code",
   "execution_count": 4,
   "metadata": {},
   "outputs": [],
   "source": [
    "def get_regression_predictions(input_feature, intercept, slope):\n",
    "    # calculate the predicted values:\n",
    "    predicted_values = intercept + (slope * input_feature)\n",
    "    return predicted_values"
   ]
  },
  {
   "cell_type": "code",
   "execution_count": 5,
   "metadata": {},
   "outputs": [],
   "source": [
    "def get_numpy_data(df):\n",
    "    df['constant'] = 1\n",
    "    df = pd.concat([df['constant'],df.iloc[:,:-2]],axis = 1)\n",
    "    df = df.values\n",
    "    return df"
   ]
  },
  {
   "cell_type": "code",
   "execution_count": 6,
   "metadata": {},
   "outputs": [],
   "source": [
    "def get_prediction_output(feature_matrix, weights):\n",
    "    res = np.dot(feature_matrix, weights)\n",
    "    return res"
   ]
  },
  {
   "cell_type": "code",
   "execution_count": 7,
   "metadata": {},
   "outputs": [],
   "source": [
    "def feature_derivative(errors, feature):\n",
    "    derivative = 2 * np.dot(errors, feature)\n",
    "    return derivative"
   ]
  },
  {
   "cell_type": "code",
   "execution_count": 8,
   "metadata": {},
   "outputs": [],
   "source": [
    "def regression_gradient_descent(feature_matrix,output, initial_weights,step_size,tolerence):\n",
    "    converged = False \n",
    "    weights = np.array(initial_weights)\n",
    "    while not converged:\n",
    "        #computing the prediction base on feature matrix and weights \n",
    "        prediction = get_prediction_output(feature_matrix,weights)\n",
    "        errors = prediction - output\n",
    "        gradient_sum_square = 0 ## initial the gradient sum of squares \n",
    "        for i in range(len(weights)):\n",
    "            derivatives = feature_derivative(errors, feature_matrix[:,i])\n",
    "            # add sum of sqaured value of the derivative to the gradient magnitide\n",
    "            gradient_sum_square +=  derivatives ** 2\n",
    "            weights[i]-= (step_size * derivatives)\n",
    "        gradient_magnitude = np.sqrt(gradient_sum_square)\n",
    "        print(gradient_magnitude)\n",
    "        if  gradient_magnitude < tolerence:\n",
    "            coverged = True\n",
    "        return weights          "
   ]
  },
  {
   "cell_type": "code",
   "execution_count": 9,
   "metadata": {},
   "outputs": [],
   "source": [
    "## polynomial regression \n",
    "## generate polynomial degeree\n",
    "def polynomial_frame(feature,degree):\n",
    "    df = pd.DataFrame()\n",
    "    df['power_1'] = feature \n",
    "    if degree > 1:\n",
    "        for power in range(2, degree+1):\n",
    "            name = 'power_' +str(power)\n",
    "            df[name] = feature ** power\n",
    "    return df"
   ]
  },
  {
   "cell_type": "code",
   "execution_count": 10,
   "metadata": {},
   "outputs": [],
   "source": [
    "def feature_derivative_ridge(feature, output, l2_penalty, feature_is_constant):\n",
    "    if feature_is_constant == True:\n",
    "        derivative = 2 * np.dot(feature, error)\n",
    "    else:\n",
    "        derivative = 2 * np.dot(feature, error) + 2 * l2_penalty* weight \n",
    "    return derivative"
   ]
  },
  {
   "cell_type": "code",
   "execution_count": 11,
   "metadata": {},
   "outputs": [],
   "source": [
    "def ridge_regression_gradient_descent(feature_matrix, output, initial_weights, step_size, l2_penalty, max_iterations=100):\n",
    "    weights = np.array(initial_weights) # make sure it's a numpy array\n",
    "    \n",
    "    #while not reached maximum number of iterations:\n",
    "    while max_iterations > 0:\n",
    "        # compute the predictions based on feature_matrix and weights using your predict_output() function\n",
    "        predictions = predict_output(feature_matrix, weights)\n",
    "        # compute the errors as predictions - output\n",
    "        errors = predictions - output\n",
    "        for i in xrange(len(weights)): # loop over each weight\n",
    "            # Recall that feature_matrix[:,i] is the feature column associated with weights[i]\n",
    "            # compute the derivative for weight[i].\n",
    "            #(Remember: when i=0, you are computing the derivative of the constant!)\n",
    "            if i == 0:\n",
    "                feature_is_constant = True\n",
    "            else:\n",
    "                feature_is_constant = False\n",
    "            derivative = feature_derivative_ridge(errors, feature_matrix[:,i], weights[i], l2_penalty, feature_is_constant)\n",
    "\n",
    "            # subtract the step size times the derivative from the current weight\n",
    "            weights[i] = weights[i] - (step_size * derivative)\n",
    "        max_iterations -= 1            \n",
    "    return weights"
   ]
  },
  {
   "cell_type": "code",
   "execution_count": 12,
   "metadata": {},
   "outputs": [],
   "source": [
    "def normlized_features(feature_matrix):\n",
    "    norms = np.linalg.norm(feature_matrix,axis = 0 )\n",
    "    normalized_feature = feature_matrix/norms\n",
    "    return normalized_feature, norms\n",
    "# test \n",
    "#normalized_feature, norms = normlized_features (data_value)"
   ]
  },
  {
   "cell_type": "code",
   "execution_count": 13,
   "metadata": {},
   "outputs": [],
   "source": [
    "#implement coordinate descent with normalized feature \n",
    "# minimize lasso cost function \n",
    "#signal coordinate descent \n",
    "def lasso_coordinate_descent_step(i,feature_matrix, output,weights, l1_penalty):\n",
    "    prediction = np.dot(feature_matrix , weights)\n",
    "    error = prediction - output \n",
    "    ro_i = (feature_matrix[:,i] *(output - prediction + (weight[i]* feature_matrix[:,i]))).sum()    \n",
    "    if i == 0:\n",
    "        new_weight_i = ro_i\n",
    "    elif ro_i< l1_penalty /2:\n",
    "        new_weight = ro_i + l1_penalty/2 \n",
    "    elif ro_i > l2_penalty /2 :\n",
    "        new_weight = ro_i - l1_penalty/2 \n",
    "    else :\n",
    "        new_weight = 0 \n",
    "    return new_weight"
   ]
  },
  {
   "cell_type": "code",
   "execution_count": 14,
   "metadata": {},
   "outputs": [],
   "source": [
    "def lasso_cyclical_coordinate_descent(feature_matrix, output, initial_weights, l1_penalty, tolerance):\n",
    "    D = feature_matrix.shape[1]\n",
    "    weights = np.array(initial_weigths)\n",
    "    change = np.array(initial_weights) * 0\n",
    "    converged = false\n",
    "    \n",
    "    while not converged:\n",
    "        for idx in range(D):\n",
    "            new_weight = lasso_coordinate_descent_step(i,feature_matrix, output,weights, l1_penalty)\n",
    "            ## this change only store for 1 step of all the feature \n",
    "            change[idx] = np.abs(new_weight - weights[idx])\n",
    "            weights[idx] = new_weight\n",
    "        max_change = max(change)\n",
    "        if max_change < tolerance:\n",
    "            converged = True\n",
    "    return weights"
   ]
  },
  {
   "cell_type": "code",
   "execution_count": 39,
   "metadata": {},
   "outputs": [],
   "source": [
    "def compute_distance(train_matrix, query_matrix):\n",
    "    diff = train_matrix - query_matrix \n",
    "    distance = np.sqrt(np.sum(diff**2,axis = 1))\n",
    "    return distance "
   ]
  },
  {
   "cell_type": "code",
   "execution_count": 40,
   "metadata": {},
   "outputs": [],
   "source": [
    "x = data_value[:4,:]\n",
    "y = data_value[5,:]"
   ]
  },
  {
   "cell_type": "code",
   "execution_count": 94,
   "metadata": {},
   "outputs": [],
   "source": [
    "def compute_k_nearest_neighbors(k,train_matrix,feature_vector):\n",
    "    distance = compute_distance(train_matrix,feature_vector)\n",
    "    k_neighbors= np.argsort(distance, axis = 0)[:k]\n",
    "    return k_neighbors "
   ]
  },
  {
   "cell_type": "code",
   "execution_count": 95,
   "metadata": {},
   "outputs": [],
   "source": [
    "def compute_distance_k_avg(k,train_matrix,output_value,feature_vector):\n",
    "    k_neighbors = compute_k_nearest_neighbors(k,train_matrix,feature_vector)\n",
    "    avg_output =np.mean(output_value[k_neighbors])\n",
    "    #print(output_value[k_neighbors])\n",
    "    return avg_output"
   ]
  },
  {
   "cell_type": "code",
   "execution_count": 100,
   "metadata": {},
   "outputs": [],
   "source": [
    "def comput_distance_k_all(k,train_matrix,output_value,feature_vector):\n",
    "    num_of_rows = feature_vector.shape[0]\n",
    "    predict_value = []\n",
    "    for i in range(num_of_rows):\n",
    "        avg_value = compute_distance_k_avg(k,train_matrix,output_value,feature_vector)\n",
    "        predict_value.append(avg_value)\n",
    "        return predict_value"
   ]
  },
  {
   "cell_type": "code",
   "execution_count": 114,
   "metadata": {},
   "outputs": [],
   "source": [
    "def grid_search_for_k_num(train_matrix,output_value,feature_vector,obs):\n",
    "    \n",
    "    for k in range(1,16):\n",
    "        predict_value = comput_distance_k_all(k,train_matrix,output_value,feature_vector)\n",
    "        rss = np.sqrt(np.sum((predict_value - obs)**2))\n",
    "        #plt the resut \n",
    "    import matplotlib.pyplot as plt\n",
    "    %matplotlib inline\n",
    "    plt.plot(k,rss)\n",
    "    return rss\n"
   ]
  },
  {
   "cell_type": "code",
   "execution_count": 115,
   "metadata": {},
   "outputs": [],
   "source": [
    "query_vector = data_value[1,:-1]\n",
    "query_output = data_value[1,-1]\n",
    "train_matrix = data_value[1:,:-1]\n",
    "output_matrix = data_value[1:,-1]"
   ]
  },
  {
   "cell_type": "code",
   "execution_count": 117,
   "metadata": {},
   "outputs": [
    {
     "data": {
      "text/plain": [
       "0.0"
      ]
     },
     "execution_count": 117,
     "metadata": {},
     "output_type": "execute_result"
    },
    {
     "data": {
      "image/png": "[encoded data removed]",
      "text/plain": [
       "<Figure size 432x288 with 1 Axes>"
      ]
     },
     "metadata": {
      "needs_background": "light"
     },
     "output_type": "display_data"
    }
   ],
   "source": [
    "grid_search_for_k_num(train_matrix,output_matrix,query_vector,query_output)"
   ]
  },
  {
   "cell_type": "code",
   "execution_count": 110,
   "metadata": {},
   "outputs": [],
   "source": [
    "import pandas as pd \n",
    "import numpy as np"
   ]
  },
  {
   "cell_type": "code",
   "execution_count": 17,
   "metadata": {},
   "outputs": [
    {
     "data": {
      "text/html": [
       "<div>\n",
       "<style scoped>\n",
       "    .dataframe tbody tr th:only-of-type {\n",
       "        vertical-align: middle;\n",
       "    }\n",
       "\n",
       "    .dataframe tbody tr th {\n",
       "        vertical-align: top;\n",
       "    }\n",
       "\n",
       "    .dataframe thead th {\n",
       "        text-align: right;\n",
       "    }\n",
       "</style>\n",
       "<table border=\"1\" class=\"dataframe\">\n",
       "  <thead>\n",
       "    <tr style=\"text-align: right;\">\n",
       "      <th></th>\n",
       "      <th>spread</th>\n",
       "      <th>target_median</th>\n",
       "      <th>number_KNN</th>\n",
       "      <th>ABS Metrics</th>\n",
       "      <th>fsignal</th>\n",
       "    </tr>\n",
       "  </thead>\n",
       "  <tbody>\n",
       "    <tr>\n",
       "      <th>1</th>\n",
       "      <td>1.000</td>\n",
       "      <td>1.000</td>\n",
       "      <td>1.0</td>\n",
       "      <td>0.00</td>\n",
       "      <td>0.0</td>\n",
       "    </tr>\n",
       "    <tr>\n",
       "      <th>3</th>\n",
       "      <td>1.393</td>\n",
       "      <td>1.393</td>\n",
       "      <td>1.0</td>\n",
       "      <td>0.00</td>\n",
       "      <td>0.0</td>\n",
       "    </tr>\n",
       "    <tr>\n",
       "      <th>5</th>\n",
       "      <td>1.610</td>\n",
       "      <td>1.824</td>\n",
       "      <td>2.0</td>\n",
       "      <td>0.12</td>\n",
       "      <td>0.0</td>\n",
       "    </tr>\n",
       "    <tr>\n",
       "      <th>7</th>\n",
       "      <td>1.018</td>\n",
       "      <td>1.018</td>\n",
       "      <td>1.0</td>\n",
       "      <td>0.00</td>\n",
       "      <td>0.0</td>\n",
       "    </tr>\n",
       "    <tr>\n",
       "      <th>9</th>\n",
       "      <td>2.517</td>\n",
       "      <td>1.345</td>\n",
       "      <td>4.0</td>\n",
       "      <td>0.87</td>\n",
       "      <td>0.0</td>\n",
       "    </tr>\n",
       "  </tbody>\n",
       "</table>\n",
       "</div>"
      ],
      "text/plain": [
       "   spread  target_median  number_KNN  ABS Metrics   fsignal\n",
       "1   1.000          1.000         1.0          0.00      0.0\n",
       "3   1.393          1.393         1.0          0.00      0.0\n",
       "5   1.610          1.824         2.0          0.12      0.0\n",
       "7   1.018          1.018         1.0          0.00      0.0\n",
       "9   2.517          1.345         4.0          0.87      0.0"
      ]
     },
     "execution_count": 17,
     "metadata": {},
     "output_type": "execute_result"
    }
   ],
   "source": [
    "data = pd.read_csv(\"clean_median_metrix_data.csv\")\n",
    "data = data.dropna()\n",
    "data['spread'] = data['spread']/1000\n",
    "data['target_median'] = data['target_median']/1000\n",
    "data.head()"
   ]
  },
  {
   "cell_type": "code",
   "execution_count": 72,
   "metadata": {},
   "outputs": [],
   "source": [
    "data_value = get_numpy_data(data)\n",
    "query_vector = data_value[1,-1]\n",
    "feature_matrix = data_value[1:,:-1]\n",
    "output_matrix = data_value[1:,-1]"
   ]
  },
  {
   "cell_type": "code",
   "execution_count": 51,
   "metadata": {},
   "outputs": [
    {
     "data": {
      "text/plain": [
       "(2537, 5)"
      ]
     },
     "execution_count": 51,
     "metadata": {},
     "output_type": "execute_result"
    }
   ],
   "source": [
    "data_value.shape"
   ]
  },
  {
   "cell_type": "code",
   "execution_count": 20,
   "metadata": {},
   "outputs": [],
   "source": [
    "my_weight = np.array([0,0,0,0])\n",
    "my_feature = data_value[:,:-1]"
   ]
  },
  {
   "cell_type": "code",
   "execution_count": 21,
   "metadata": {},
   "outputs": [],
   "source": [
    "intercept, slope = simple_linear_regression( data_value[:,:-1],data_value[:,-1])"
   ]
  },
  {
   "cell_type": "code",
   "execution_count": 22,
   "metadata": {},
   "outputs": [],
   "source": [
    "example_output = data_value[:,-1]"
   ]
  },
  {
   "cell_type": "code",
   "execution_count": 23,
   "metadata": {},
   "outputs": [
    {
     "name": "stdout",
     "output_type": "stream",
     "text": [
      "[ -586.62    -8879.37622   402.54682 -4711.6    ]\n"
     ]
    }
   ],
   "source": [
    "test_prediction = get_prediction_output(my_feature , my_weight)\n",
    "error = test_prediction - example_output \n",
    "derivative = feature_derivative(error , my_feature )\n",
    "print(derivative)"
   ]
  },
  {
   "cell_type": "code",
   "execution_count": 24,
   "metadata": {},
   "outputs": [
    {
     "data": {
      "text/plain": [
       "86030.75610000003"
      ]
     },
     "execution_count": 24,
     "metadata": {},
     "output_type": "execute_result"
    }
   ],
   "source": [
    "np.sum(example_output )**2 "
   ]
  },
  {
   "cell_type": "code",
   "execution_count": 25,
   "metadata": {},
   "outputs": [
    {
     "name": "stdout",
     "output_type": "stream",
     "text": [
      "10077.135683466488\n"
     ]
    }
   ],
   "source": [
    "feature_matrix = data_value[:,:-1]\n",
    "output = data_value[:,-1]\n",
    "initial_weights = np.array([0,0,0,0])\n",
    "step_size = 10-6\n",
    "tolerence =2.5e100\n",
    "penalty = 100\n",
    "weights_regression = regression_gradient_descent(feature_matrix,output, initial_weights,step_size,tolerence)\n"
   ]
  },
  {
   "cell_type": "code",
   "execution_count": 26,
   "metadata": {},
   "outputs": [
    {
     "data": {
      "text/html": [
       "<div>\n",
       "<style scoped>\n",
       "    .dataframe tbody tr th:only-of-type {\n",
       "        vertical-align: middle;\n",
       "    }\n",
       "\n",
       "    .dataframe tbody tr th {\n",
       "        vertical-align: top;\n",
       "    }\n",
       "\n",
       "    .dataframe thead th {\n",
       "        text-align: right;\n",
       "    }\n",
       "</style>\n",
       "<table border=\"1\" class=\"dataframe\">\n",
       "  <thead>\n",
       "    <tr style=\"text-align: right;\">\n",
       "      <th></th>\n",
       "      <th>power_1</th>\n",
       "      <th>power_2</th>\n",
       "      <th>power_3</th>\n",
       "    </tr>\n",
       "  </thead>\n",
       "  <tbody>\n",
       "    <tr>\n",
       "      <th>0</th>\n",
       "      <td>1</td>\n",
       "      <td>1</td>\n",
       "      <td>1</td>\n",
       "    </tr>\n",
       "    <tr>\n",
       "      <th>1</th>\n",
       "      <td>2</td>\n",
       "      <td>4</td>\n",
       "      <td>8</td>\n",
       "    </tr>\n",
       "    <tr>\n",
       "      <th>2</th>\n",
       "      <td>3</td>\n",
       "      <td>9</td>\n",
       "      <td>27</td>\n",
       "    </tr>\n",
       "  </tbody>\n",
       "</table>\n",
       "</div>"
      ],
      "text/plain": [
       "   power_1  power_2  power_3\n",
       "0        1        1        1\n",
       "1        2        4        8\n",
       "2        3        9       27"
      ]
     },
     "execution_count": 26,
     "metadata": {},
     "output_type": "execute_result"
    }
   ],
   "source": [
    "tmp = pd.DataFrame([1,2,3])\n",
    "tmp_cubic = tmp.apply(lambda x:x**3)\n",
    "polynomial_frame(tmp.iloc[:,0].values,3)"
   ]
  },
  {
   "cell_type": "code",
   "execution_count": 27,
   "metadata": {},
   "outputs": [
    {
     "ename": "NameError",
     "evalue": "name 'regression_gradient_descent_l2_penalty' is not defined",
     "output_type": "error",
     "traceback": [
      "\u001b[1;31m---------------------------------------------------------------------------\u001b[0m",
      "\u001b[1;31mNameError\u001b[0m                                 Traceback (most recent call last)",
      "\u001b[1;32m<ipython-input-27-4b6d32f6ecfb>\u001b[0m in \u001b[0;36m<module>\u001b[1;34m()\u001b[0m\n\u001b[0;32m      1\u001b[0m \u001b[0mpenalty\u001b[0m \u001b[1;33m=\u001b[0m \u001b[1;36m100\u001b[0m\u001b[1;33m\u001b[0m\u001b[0m\n\u001b[1;32m----> 2\u001b[1;33m regression_gradient_descent_l2_penalty(feature_matrix, output,initial_weights, step_size,\n\u001b[0m\u001b[0;32m      3\u001b[0m                                            tolerence, penalty)\n",
      "\u001b[1;31mNameError\u001b[0m: name 'regression_gradient_descent_l2_penalty' is not defined"
     ]
    }
   ],
   "source": [
    "penalty = 100\n",
    "regression_gradient_descent_l2_penalty(feature_matrix, output,initial_weights, step_size,\n",
    "                                           tolerence, penalty)"
   ]
  },
  {
   "cell_type": "code",
   "execution_count": null,
   "metadata": {},
   "outputs": [],
   "source": [
    "l2_penalty = 10\n",
    "ridge_regression_gradient_descent(feature_matrix, output, initial_weights,\n",
    "                                  step_size, l2_penalty, max_iterations=100)"
   ]
  },
  {
   "cell_type": "code",
   "execution_count": null,
   "metadata": {},
   "outputs": [],
   "source": []
  },
  {
   "cell_type": "code",
   "execution_count": null,
   "metadata": {},
   "outputs": [],
   "source": []
  }
 ],
 "metadata": {
  "kernelspec": {
   "display_name": "Python 3",
   "language": "python",
   "name": "python3"
  },
  "language_info": {
   "codemirror_mode": {
    "name": "ipython",
    "version": 3
   },
   "file_extension": ".py",
   "mimetype": "text/x-python",
   "name": "python",
   "nbconvert_exporter": "python",
   "pygments_lexer": "ipython3",
   "version": "3.6.6"
  }
 },
 "nbformat": 4,
 "nbformat_minor": 2
}
