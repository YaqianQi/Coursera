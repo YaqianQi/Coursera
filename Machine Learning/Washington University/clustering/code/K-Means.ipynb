{
 "cells": [
  {
   "cell_type": "code",
   "execution_count": 215,
   "metadata": {},
   "outputs": [],
   "source": [
    "import numpy as np\n",
    "import pandas as pd\n",
    "import matplotlib.pyplot as plt"
   ]
  },
  {
   "cell_type": "code",
   "execution_count": 11,
   "metadata": {},
   "outputs": [
    {
     "data": {
      "text/plain": [
       "3"
      ]
     },
     "execution_count": 11,
     "metadata": {},
     "output_type": "execute_result"
    }
   ],
   "source": [
    "np.random.randint(1,8)"
   ]
  },
  {
   "cell_type": "code",
   "execution_count": 306,
   "metadata": {},
   "outputs": [
    {
     "data": {
      "text/html": [
       "<div>\n",
       "<style scoped>\n",
       "    .dataframe tbody tr th:only-of-type {\n",
       "        vertical-align: middle;\n",
       "    }\n",
       "\n",
       "    .dataframe tbody tr th {\n",
       "        vertical-align: top;\n",
       "    }\n",
       "\n",
       "    .dataframe thead th {\n",
       "        text-align: right;\n",
       "    }\n",
       "</style>\n",
       "<table border=\"1\" class=\"dataframe\">\n",
       "  <thead>\n",
       "    <tr style=\"text-align: right;\">\n",
       "      <th></th>\n",
       "      <th>dealType</th>\n",
       "      <th>class</th>\n",
       "      <th>isIO</th>\n",
       "      <th>Vintage</th>\n",
       "      <th>overrideType</th>\n",
       "      <th>wal</th>\n",
       "      <th>swapspread</th>\n",
       "      <th>Trepp</th>\n",
       "      <th>ratingOrdinal</th>\n",
       "      <th>cusip</th>\n",
       "      <th>dealname</th>\n",
       "      <th>price</th>\n",
       "      <th>yield</th>\n",
       "      <th>overrideValue</th>\n",
       "      <th>comments</th>\n",
       "      <th>spread</th>\n",
       "      <th>dm</th>\n",
       "      <th>price.1</th>\n",
       "    </tr>\n",
       "  </thead>\n",
       "  <tbody>\n",
       "    <tr>\n",
       "      <th>0</th>\n",
       "      <td>SnglAsset/Borr</td>\n",
       "      <td>A1</td>\n",
       "      <td>NaN</td>\n",
       "      <td>2005.0</td>\n",
       "      <td>A</td>\n",
       "      <td>3.0</td>\n",
       "      <td>67.1370</td>\n",
       "      <td>AAA</td>\n",
       "      <td>NaN</td>\n",
       "      <td>682439AA2</td>\n",
       "      <td>116605c6</td>\n",
       "      <td>106.26949</td>\n",
       "      <td>3.30037</td>\n",
       "      <td>-7.0</td>\n",
       "      <td>test (tk;1/31/19). Adj S+72 (cm;2017-08-30 2:2...</td>\n",
       "      <td>78.98579</td>\n",
       "      <td>NaN</td>\n",
       "      <td>106.26949</td>\n",
       "    </tr>\n",
       "    <tr>\n",
       "      <th>1</th>\n",
       "      <td>SnglAsset/Borr</td>\n",
       "      <td>A2</td>\n",
       "      <td>NaN</td>\n",
       "      <td>2005.0</td>\n",
       "      <td>A</td>\n",
       "      <td>7.0</td>\n",
       "      <td>110.0290</td>\n",
       "      <td>AAA</td>\n",
       "      <td>NaN</td>\n",
       "      <td>682439AC8</td>\n",
       "      <td>116605c6</td>\n",
       "      <td>112.65863</td>\n",
       "      <td>3.75677</td>\n",
       "      <td>11.0</td>\n",
       "      <td>Adj S+123 (cm;2017-08-30 2:22 PM).</td>\n",
       "      <td>114.30915</td>\n",
       "      <td>NaN</td>\n",
       "      <td>112.65863</td>\n",
       "    </tr>\n",
       "    <tr>\n",
       "      <th>2</th>\n",
       "      <td>SnglAsset/Borr</td>\n",
       "      <td>A3</td>\n",
       "      <td>NaN</td>\n",
       "      <td>2005.0</td>\n",
       "      <td>A</td>\n",
       "      <td>11.0</td>\n",
       "      <td>155.3175</td>\n",
       "      <td>AAA</td>\n",
       "      <td>NaN</td>\n",
       "      <td>682439AE4</td>\n",
       "      <td>116605c6</td>\n",
       "      <td>112.61407</td>\n",
       "      <td>4.29788</td>\n",
       "      <td>34.0</td>\n",
       "      <td>Adj S+173 (cm;2017-08-30 2:22 PM). Mrkt px cha...</td>\n",
       "      <td>157.85252</td>\n",
       "      <td>NaN</td>\n",
       "      <td>112.61407</td>\n",
       "    </tr>\n",
       "    <tr>\n",
       "      <th>3</th>\n",
       "      <td>SnglAsset/Borr</td>\n",
       "      <td>B</td>\n",
       "      <td>NaN</td>\n",
       "      <td>2005.0</td>\n",
       "      <td>A</td>\n",
       "      <td>13.0</td>\n",
       "      <td>193.4508</td>\n",
       "      <td>AA1</td>\n",
       "      <td>NaN</td>\n",
       "      <td>682439AG9</td>\n",
       "      <td>116605c6</td>\n",
       "      <td>109.91968</td>\n",
       "      <td>4.71619</td>\n",
       "      <td>29.0</td>\n",
       "      <td>Adj S+203 (cm;2017-08-30 2:22 PM). Mrkt px cha...</td>\n",
       "      <td>196.46688</td>\n",
       "      <td>NaN</td>\n",
       "      <td>109.91968</td>\n",
       "    </tr>\n",
       "    <tr>\n",
       "      <th>4</th>\n",
       "      <td>SnglAsset/Borr</td>\n",
       "      <td>C</td>\n",
       "      <td>NaN</td>\n",
       "      <td>2005.0</td>\n",
       "      <td>A</td>\n",
       "      <td>14.0</td>\n",
       "      <td>204.4098</td>\n",
       "      <td>AA2</td>\n",
       "      <td>NaN</td>\n",
       "      <td>682439AJ3</td>\n",
       "      <td>116605c6</td>\n",
       "      <td>108.95353</td>\n",
       "      <td>4.83517</td>\n",
       "      <td>28.0</td>\n",
       "      <td>Adj S+205 (cm;2017-08-30 2:22 PM). Mrkt px cha...</td>\n",
       "      <td>207.54811</td>\n",
       "      <td>NaN</td>\n",
       "      <td>108.95353</td>\n",
       "    </tr>\n",
       "  </tbody>\n",
       "</table>\n",
       "</div>"
      ],
      "text/plain": [
       "         dealType class  isIO  Vintage overrideType   wal  swapspread Trepp  \\\n",
       "0  SnglAsset/Borr    A1   NaN   2005.0            A   3.0     67.1370   AAA   \n",
       "1  SnglAsset/Borr    A2   NaN   2005.0            A   7.0    110.0290   AAA   \n",
       "2  SnglAsset/Borr    A3   NaN   2005.0            A  11.0    155.3175   AAA   \n",
       "3  SnglAsset/Borr     B   NaN   2005.0            A  13.0    193.4508   AA1   \n",
       "4  SnglAsset/Borr     C   NaN   2005.0            A  14.0    204.4098   AA2   \n",
       "\n",
       "   ratingOrdinal      cusip  dealname      price    yield  overrideValue  \\\n",
       "0            NaN  682439AA2  116605c6  106.26949  3.30037           -7.0   \n",
       "1            NaN  682439AC8  116605c6  112.65863  3.75677           11.0   \n",
       "2            NaN  682439AE4  116605c6  112.61407  4.29788           34.0   \n",
       "3            NaN  682439AG9  116605c6  109.91968  4.71619           29.0   \n",
       "4            NaN  682439AJ3  116605c6  108.95353  4.83517           28.0   \n",
       "\n",
       "                                            comments     spread  dm    price.1  \n",
       "0  test (tk;1/31/19). Adj S+72 (cm;2017-08-30 2:2...   78.98579 NaN  106.26949  \n",
       "1                Adj S+123 (cm;2017-08-30 2:22 PM).   114.30915 NaN  112.65863  \n",
       "2  Adj S+173 (cm;2017-08-30 2:22 PM). Mrkt px cha...  157.85252 NaN  112.61407  \n",
       "3  Adj S+203 (cm;2017-08-30 2:22 PM). Mrkt px cha...  196.46688 NaN  109.91968  \n",
       "4  Adj S+205 (cm;2017-08-30 2:22 PM). Mrkt px cha...  207.54811 NaN  108.95353  "
      ]
     },
     "execution_count": 306,
     "metadata": {},
     "output_type": "execute_result"
    }
   ],
   "source": [
    "data = pd.read_excel(\"O:/pricing/Average Spreads/02052019_Current_Pricing_Data.xlsx\")\n",
    "data.head()"
   ]
  },
  {
   "cell_type": "code",
   "execution_count": 14,
   "metadata": {},
   "outputs": [
    {
     "data": {
      "text/plain": [
       "Index(['dealType', 'class', 'isIO', 'Vintage', 'overrideType', 'wal',\n",
       "       'swapspread', 'Trepp', 'ratingOrdinal', 'cusip', 'dealname', 'price',\n",
       "       'yield', 'overrideValue', 'comments', 'spread', 'dm', 'price.1'],\n",
       "      dtype='object')"
      ]
     },
     "execution_count": 14,
     "metadata": {},
     "output_type": "execute_result"
    }
   ],
   "source": [
    "data.columns"
   ]
  },
  {
   "cell_type": "code",
   "execution_count": 18,
   "metadata": {},
   "outputs": [],
   "source": [
    "data = data[data['overrideType'] == \"A\"]\n",
    "df = data\n",
    "df = pd.concat([df['class'],df['wal'],df['ratingOrdinal'],df['swapspread']],axis = 1)"
   ]
  },
  {
   "cell_type": "code",
   "execution_count": null,
   "metadata": {},
   "outputs": [],
   "source": [
    "def tranform_data_into_category(data):\n",
    "    for x in data.columns:\n",
    "        data = pd.get_dummies(data, columns=[x])\n",
    "    return data"
   ]
  },
  {
   "cell_type": "code",
   "execution_count": 21,
   "metadata": {},
   "outputs": [
    {
     "data": {
      "text/html": [
       "<div>\n",
       "<style scoped>\n",
       "    .dataframe tbody tr th:only-of-type {\n",
       "        vertical-align: middle;\n",
       "    }\n",
       "\n",
       "    .dataframe tbody tr th {\n",
       "        vertical-align: top;\n",
       "    }\n",
       "\n",
       "    .dataframe thead th {\n",
       "        text-align: right;\n",
       "    }\n",
       "</style>\n",
       "<table border=\"1\" class=\"dataframe\">\n",
       "  <thead>\n",
       "    <tr style=\"text-align: right;\">\n",
       "      <th></th>\n",
       "      <th>wal</th>\n",
       "      <th>ratingOrdinal</th>\n",
       "      <th>swapspread</th>\n",
       "      <th>class_7E-A</th>\n",
       "      <th>class_A</th>\n",
       "      <th>class_A1</th>\n",
       "      <th>class_A10</th>\n",
       "      <th>class_A2</th>\n",
       "      <th>class_A3</th>\n",
       "      <th>class_A4</th>\n",
       "      <th>...</th>\n",
       "      <th>class_PEZ</th>\n",
       "      <th>class_PO</th>\n",
       "      <th>class_PST</th>\n",
       "      <th>class_R</th>\n",
       "      <th>class_RR</th>\n",
       "      <th>class_T</th>\n",
       "      <th>class_U</th>\n",
       "      <th>class_V</th>\n",
       "      <th>class_W</th>\n",
       "      <th>class_Z</th>\n",
       "    </tr>\n",
       "  </thead>\n",
       "  <tbody>\n",
       "    <tr>\n",
       "      <th>0</th>\n",
       "      <td>3.0</td>\n",
       "      <td>NaN</td>\n",
       "      <td>67.1370</td>\n",
       "      <td>0</td>\n",
       "      <td>0</td>\n",
       "      <td>1</td>\n",
       "      <td>0</td>\n",
       "      <td>0</td>\n",
       "      <td>0</td>\n",
       "      <td>0</td>\n",
       "      <td>...</td>\n",
       "      <td>0</td>\n",
       "      <td>0</td>\n",
       "      <td>0</td>\n",
       "      <td>0</td>\n",
       "      <td>0</td>\n",
       "      <td>0</td>\n",
       "      <td>0</td>\n",
       "      <td>0</td>\n",
       "      <td>0</td>\n",
       "      <td>0</td>\n",
       "    </tr>\n",
       "    <tr>\n",
       "      <th>1</th>\n",
       "      <td>7.0</td>\n",
       "      <td>NaN</td>\n",
       "      <td>110.0290</td>\n",
       "      <td>0</td>\n",
       "      <td>0</td>\n",
       "      <td>0</td>\n",
       "      <td>0</td>\n",
       "      <td>1</td>\n",
       "      <td>0</td>\n",
       "      <td>0</td>\n",
       "      <td>...</td>\n",
       "      <td>0</td>\n",
       "      <td>0</td>\n",
       "      <td>0</td>\n",
       "      <td>0</td>\n",
       "      <td>0</td>\n",
       "      <td>0</td>\n",
       "      <td>0</td>\n",
       "      <td>0</td>\n",
       "      <td>0</td>\n",
       "      <td>0</td>\n",
       "    </tr>\n",
       "    <tr>\n",
       "      <th>2</th>\n",
       "      <td>11.0</td>\n",
       "      <td>NaN</td>\n",
       "      <td>155.3175</td>\n",
       "      <td>0</td>\n",
       "      <td>0</td>\n",
       "      <td>0</td>\n",
       "      <td>0</td>\n",
       "      <td>0</td>\n",
       "      <td>1</td>\n",
       "      <td>0</td>\n",
       "      <td>...</td>\n",
       "      <td>0</td>\n",
       "      <td>0</td>\n",
       "      <td>0</td>\n",
       "      <td>0</td>\n",
       "      <td>0</td>\n",
       "      <td>0</td>\n",
       "      <td>0</td>\n",
       "      <td>0</td>\n",
       "      <td>0</td>\n",
       "      <td>0</td>\n",
       "    </tr>\n",
       "    <tr>\n",
       "      <th>3</th>\n",
       "      <td>13.0</td>\n",
       "      <td>NaN</td>\n",
       "      <td>193.4508</td>\n",
       "      <td>0</td>\n",
       "      <td>0</td>\n",
       "      <td>0</td>\n",
       "      <td>0</td>\n",
       "      <td>0</td>\n",
       "      <td>0</td>\n",
       "      <td>0</td>\n",
       "      <td>...</td>\n",
       "      <td>0</td>\n",
       "      <td>0</td>\n",
       "      <td>0</td>\n",
       "      <td>0</td>\n",
       "      <td>0</td>\n",
       "      <td>0</td>\n",
       "      <td>0</td>\n",
       "      <td>0</td>\n",
       "      <td>0</td>\n",
       "      <td>0</td>\n",
       "    </tr>\n",
       "    <tr>\n",
       "      <th>4</th>\n",
       "      <td>14.0</td>\n",
       "      <td>NaN</td>\n",
       "      <td>204.4098</td>\n",
       "      <td>0</td>\n",
       "      <td>0</td>\n",
       "      <td>0</td>\n",
       "      <td>0</td>\n",
       "      <td>0</td>\n",
       "      <td>0</td>\n",
       "      <td>0</td>\n",
       "      <td>...</td>\n",
       "      <td>0</td>\n",
       "      <td>0</td>\n",
       "      <td>0</td>\n",
       "      <td>0</td>\n",
       "      <td>0</td>\n",
       "      <td>0</td>\n",
       "      <td>0</td>\n",
       "      <td>0</td>\n",
       "      <td>0</td>\n",
       "      <td>0</td>\n",
       "    </tr>\n",
       "  </tbody>\n",
       "</table>\n",
       "<p>5 rows × 44 columns</p>\n",
       "</div>"
      ],
      "text/plain": [
       "    wal  ratingOrdinal  swapspread  class_7E-A  class_A  class_A1  class_A10  \\\n",
       "0   3.0            NaN     67.1370           0        0         1          0   \n",
       "1   7.0            NaN    110.0290           0        0         0          0   \n",
       "2  11.0            NaN    155.3175           0        0         0          0   \n",
       "3  13.0            NaN    193.4508           0        0         0          0   \n",
       "4  14.0            NaN    204.4098           0        0         0          0   \n",
       "\n",
       "   class_A2  class_A3  class_A4   ...     class_PEZ  class_PO  class_PST  \\\n",
       "0         0         0         0   ...             0         0          0   \n",
       "1         1         0         0   ...             0         0          0   \n",
       "2         0         1         0   ...             0         0          0   \n",
       "3         0         0         0   ...             0         0          0   \n",
       "4         0         0         0   ...             0         0          0   \n",
       "\n",
       "   class_R  class_RR  class_T  class_U  class_V  class_W  class_Z  \n",
       "0        0         0        0        0        0        0        0  \n",
       "1        0         0        0        0        0        0        0  \n",
       "2        0         0        0        0        0        0        0  \n",
       "3        0         0        0        0        0        0        0  \n",
       "4        0         0        0        0        0        0        0  \n",
       "\n",
       "[5 rows x 44 columns]"
      ]
     },
     "execution_count": 21,
     "metadata": {},
     "output_type": "execute_result"
    }
   ],
   "source": [
    "df = pd.get_dummies(df, columns=['class'])\n",
    "df.head()"
   ]
  },
  {
   "cell_type": "code",
   "execution_count": 22,
   "metadata": {},
   "outputs": [
    {
     "data": {
      "text/plain": [
       "Index(['wal', 'ratingOrdinal', 'swapspread', 'class_7E-A', 'class_A',\n",
       "       'class_A1', 'class_A10', 'class_A2', 'class_A3', 'class_A4', 'class_A5',\n",
       "       'class_A6', 'class_A7', 'class_AFX', 'class_AH', 'class_AJ', 'class_AL',\n",
       "       'class_AM', 'class_ASB', 'class_B', 'class_C', 'class_D', 'class_E',\n",
       "       'class_F', 'class_G', 'class_H', 'class_I', 'class_IO', 'class_J',\n",
       "       'class_K', 'class_L', 'class_M', 'class_N', 'class_O', 'class_PEZ',\n",
       "       'class_PO', 'class_PST', 'class_R', 'class_RR', 'class_T', 'class_U',\n",
       "       'class_V', 'class_W', 'class_Z'],\n",
       "      dtype='object')"
      ]
     },
     "execution_count": 22,
     "metadata": {},
     "output_type": "execute_result"
    }
   ],
   "source": [
    "df.columns"
   ]
  },
  {
   "cell_type": "code",
   "execution_count": 24,
   "metadata": {},
   "outputs": [],
   "source": [
    "target = df['swapspread']\n",
    "variables = df.drop(columns = 'swapspread')"
   ]
  },
  {
   "cell_type": "code",
   "execution_count": 27,
   "metadata": {},
   "outputs": [
    {
     "data": {
      "text/plain": [
       "array([[0.        , 0.99995   , 0.        , ..., 0.        , 0.        ,\n",
       "        0.        ],\n",
       "       [0.009999  , 0.99990001, 0.        , ..., 0.        , 0.        ,\n",
       "        0.        ],\n",
       "       [0.019995  , 0.99975009, 0.        , ..., 0.        , 0.        ,\n",
       "        0.        ],\n",
       "       ...,\n",
       "       [0.09949879, 0.99498793, 0.        , ..., 0.        , 0.        ,\n",
       "        0.        ],\n",
       "       [0.09949879, 0.99498793, 0.        , ..., 0.        , 0.        ,\n",
       "        0.        ],\n",
       "       [0.09949879, 0.99498793, 0.        , ..., 0.        , 0.        ,\n",
       "        0.        ]])"
      ]
     },
     "execution_count": 27,
     "metadata": {},
     "output_type": "execute_result"
    }
   ],
   "source": [
    "from sklearn.preprocessing import normalize\n",
    "variables = variables.dropna()\n",
    "variables = normalize(variables)\n",
    "variables"
   ]
  },
  {
   "cell_type": "code",
   "execution_count": 194,
   "metadata": {},
   "outputs": [],
   "source": [
    "def get_initial_centroids(data, k, seed=None):\n",
    "    if seed is not None: # useful for obtaining consistent results\n",
    "        np.random.seed(seed)\n",
    "    n = data.shape[0] # number of data points\n",
    "        \n",
    "    # Pick K indices from range [0, N).\n",
    "    rand_indices = np.random.randint(0, n, k)\n",
    "    \n",
    "    # Keep centroids as dense format, as many entries will be nonzero due to averaging.\n",
    "    # As long as at least one document in a cluster contains a word,\n",
    "    # it will carry a nonzero weight in the TF-IDF vector of the centroid.\n",
    "    centroids = np.array(data[rand_indices,:])\n",
    "    \n",
    "    return centroids"
   ]
  },
  {
   "cell_type": "code",
   "execution_count": 195,
   "metadata": {},
   "outputs": [
    {
     "data": {
      "text/plain": [
       "array([[1.05411363, 0.08104414],\n",
       "       [1.04566916, 0.06981266],\n",
       "       [1.03720132, 0.06146402],\n",
       "       ...,\n",
       "       [0.96885476, 0.02432848],\n",
       "       [0.96885476, 0.02432848],\n",
       "       [0.96885476, 0.02432848]])"
      ]
     },
     "execution_count": 195,
     "metadata": {},
     "output_type": "execute_result"
    }
   ],
   "source": [
    "## step2 assign cluster \n",
    "from sklearn.metrics import pairwise_distances \n",
    "queries = variables[100:102,:]\n",
    "dis = pairwise_distances(variables, queries,metric = \"euclidean\")\n",
    "dis"
   ]
  },
  {
   "cell_type": "code",
   "execution_count": 196,
   "metadata": {},
   "outputs": [
    {
     "data": {
      "text/plain": [
       "1.2632874653161636"
      ]
     },
     "execution_count": 196,
     "metadata": {},
     "output_type": "execute_result"
    }
   ],
   "source": [
    "## check \n",
    "## assume we initialize three centroids with first 3 rows of variables \n",
    "## find the disctance between row 430 and 2nd centroid \n",
    "first_3_centroid = variables[:3,:]\n",
    "distances = pairwise_distances(variables, first_3_centroid, metric = \"euclidean\")\n",
    "distances[430,1]"
   ]
  },
  {
   "cell_type": "code",
   "execution_count": 197,
   "metadata": {},
   "outputs": [],
   "source": [
    "distances = distances.copy()\n",
    "closest_cluster = np.argmin(distances, axis = 1)"
   ]
  },
  {
   "cell_type": "code",
   "execution_count": 198,
   "metadata": {},
   "outputs": [
    {
     "data": {
      "text/plain": [
       "(3, 43)"
      ]
     },
     "execution_count": 198,
     "metadata": {},
     "output_type": "execute_result"
    }
   ],
   "source": [
    "first_3_centroid.shape"
   ]
  },
  {
   "cell_type": "code",
   "execution_count": 199,
   "metadata": {},
   "outputs": [
    {
     "data": {
      "text/plain": [
       "(4599,)"
      ]
     },
     "execution_count": 199,
     "metadata": {},
     "output_type": "execute_result"
    }
   ],
   "source": [
    "closest_cluster.shape"
   ]
  },
  {
   "cell_type": "code",
   "execution_count": 200,
   "metadata": {},
   "outputs": [
    {
     "data": {
      "text/plain": [
       "(4599, 43)"
      ]
     },
     "execution_count": 200,
     "metadata": {},
     "output_type": "execute_result"
    }
   ],
   "source": [
    "variables.shape"
   ]
  },
  {
   "cell_type": "code",
   "execution_count": 201,
   "metadata": {},
   "outputs": [
    {
     "name": "stdout",
     "output_type": "stream",
     "text": [
      "Check your code again\n"
     ]
    }
   ],
   "source": [
    "## check the distances within certain threshold\n",
    "reference =  [ min(rows) for rows in distances]\n",
    "if np.allclose(closest_cluster, reference):\n",
    "    print('Pass')\n",
    "else:\n",
    "    print('Check your code again')"
   ]
  },
  {
   "cell_type": "code",
   "execution_count": 202,
   "metadata": {},
   "outputs": [],
   "source": [
    "def assign_clusters(data, centroids):\n",
    "    \n",
    "    # Compute distances between each data point and the set of centroids:\n",
    "    # Fill in the blank (RHS only)\n",
    "    distances_from_centroids = pairwise_distances(data, centroids, metric='euclidean')\n",
    "    \n",
    "    # Compute cluster assignments for each data point:\n",
    "    # Fill in the blank (RHS only)\n",
    "    cluster_assignment = np.argmin(distances_from_centroids, axis=1)\n",
    "    \n",
    "    return cluster_assignment"
   ]
  },
  {
   "cell_type": "code",
   "execution_count": 249,
   "metadata": {},
   "outputs": [
    {
     "name": "stdout",
     "output_type": "stream",
     "text": [
      "[0 1 0]\n"
     ]
    },
    {
     "name": "stderr",
     "output_type": "stream",
     "text": [
      "C:\\Users\\AQi\\AppData\\Local\\Continuum\\anaconda3\\lib\\site-packages\\ipykernel_launcher.py:7: RuntimeWarning: Mean of empty slice.\n",
      "  import sys\n",
      "C:\\Users\\AQi\\AppData\\Local\\Continuum\\anaconda3\\lib\\site-packages\\numpy\\core\\_methods.py:78: RuntimeWarning: invalid value encountered in true_divide\n",
      "  ret, rcount, out=ret, casting='unsafe', subok=False)\n"
     ]
    }
   ],
   "source": [
    "data = np.array([[1., 2., 0.],\n",
    "                 [0., 0., 0.],\n",
    "                 [2., 2., 0.]])\n",
    "centroids = np.array([[0.5, 0.5, 0.],\n",
    "                      [0., -0.5, 0.]])\n",
    "\n",
    "cluster_assignment = assign_clusters(data, centroids)\n",
    "centroids = revise_centroids(data, k, cluster_assignment)\n",
    "score = compute_heterogeneity(data, k, centroids, cluster_assignment)\n",
    "print (cluster_assignment)"
   ]
  },
  {
   "cell_type": "code",
   "execution_count": 204,
   "metadata": {},
   "outputs": [
    {
     "data": {
      "text/plain": [
       "array([1.5, 2. , 0. ])"
      ]
     },
     "execution_count": 204,
     "metadata": {},
     "output_type": "execute_result"
    }
   ],
   "source": [
    "data[cluster_assignment == 0].mean(axis = 0)"
   ]
  },
  {
   "cell_type": "code",
   "execution_count": 205,
   "metadata": {},
   "outputs": [],
   "source": [
    "def centroids_remove_nan(centroids):\n",
    "    centroids = pd.DataFrame(centroids)\n",
    "    centroids = centroids.dropna()\n",
    "    centroids = np.array(centroids)\n",
    "    return centroids"
   ]
  },
  {
   "cell_type": "code",
   "execution_count": 206,
   "metadata": {},
   "outputs": [],
   "source": [
    "def revise_centroids(data, k, cluster_assignment):\n",
    "    new_centroids = []\n",
    "    for i in range(k):\n",
    "        # Select all data points that belong to cluster i. Fill in the blank (RHS only)\n",
    "        member_data_points = data[cluster_assignment==i]\n",
    "        # Compute the mean of the data points. Fill in the blank (RHS only)\n",
    "        centroid = member_data_points.mean(axis=0)\n",
    "        \n",
    "        # Convert numpy.matrix type to numpy.ndarray type\n",
    "        centroid = np.array(centroid)\n",
    "        new_centroids.append(centroid)\n",
    "    new_centroids = np.array(new_centroids)\n",
    "    new_centroids = centroids_remove_nan(new_centroids)\n",
    "    return new_centroids"
   ]
  },
  {
   "cell_type": "code",
   "execution_count": 207,
   "metadata": {},
   "outputs": [],
   "source": [
    "def compute_heterogeneity(data, k, centroids, cluster_assignment):\n",
    "    \n",
    "    heterogeneity = 0.0\n",
    "    for i in range(k):\n",
    "        \n",
    "        # Select all data points that belong to cluster i. Fill in the blank (RHS only)\n",
    "        member_data_points = data[cluster_assignment==i, :]\n",
    "        \n",
    "        if member_data_points.shape[0] > 0: # check if i-th cluster is non-empty\n",
    "            # Compute distances from centroid to data points (RHS only)\n",
    "            distances = pairwise_distances(member_data_points, [centroids[i]], metric='euclidean')\n",
    "            squared_distances = distances**2\n",
    "            heterogeneity += np.sum(squared_distances)\n",
    "        \n",
    "    return heterogeneity"
   ]
  },
  {
   "cell_type": "code",
   "execution_count": 208,
   "metadata": {},
   "outputs": [
    {
     "data": {
      "text/plain": [
       "7.25"
      ]
     },
     "execution_count": 208,
     "metadata": {},
     "output_type": "execute_result"
    }
   ],
   "source": [
    "compute_heterogeneity(data, 2, centroids, cluster_assignment)"
   ]
  },
  {
   "cell_type": "code",
   "execution_count": 254,
   "metadata": {},
   "outputs": [],
   "source": [
    "# Fill in the blanks\n",
    "def kmeans(data, k, initial_centroids, maxiter, record_heterogeneity=None, verbose=False):\n",
    "\n",
    "    centroids = initial_centroids[:]\n",
    "    prev_cluster_assignment = None\n",
    "\n",
    "    for itr in range(maxiter):        \n",
    "        if verbose:\n",
    "            print(itr)\n",
    "\n",
    "        # 1. Make cluster assignments using nearest centroids\n",
    "        # YOUR CODE HERE\n",
    "        cluster_assignment = assign_clusters(data, centroids)\n",
    "\n",
    "        # 2. Compute a new centroid for each of the k clusters, averaging all data points assigned to that cluster.\n",
    "        # YOUR CODE HERE\n",
    "        centroids = revise_centroids(data, k, cluster_assignment)\n",
    "\n",
    "        # Check for convergence: if none of the assignments changed, stop\n",
    "        if prev_cluster_assignment is not None and \\\n",
    "          (prev_cluster_assignment==cluster_assignment).all():\n",
    "            break\n",
    "\n",
    "        # Print number of new assignments \n",
    "        if prev_cluster_assignment is not None:\n",
    "            num_changed = sum(abs(prev_cluster_assignment-cluster_assignment))\n",
    "            if verbose:\n",
    "                print('    {0:5d} elements changed their cluster assignment.'.format(num_changed))   \n",
    "\n",
    "        # Record heterogeneity convergence metric\n",
    "        if record_heterogeneity is not None:\n",
    "            # YOUR CODE HERE\n",
    "            score = compute_heterogeneity(data, k, centroids, cluster_assignment)\n",
    "            record_heterogeneity.append(score)\n",
    "\n",
    "        prev_cluster_assignment = cluster_assignment[:]\n",
    "    #plot_heterogeneity( record_heterogeneity, k)\n",
    "    return centroids, cluster_assignment"
   ]
  },
  {
   "cell_type": "code",
   "execution_count": 255,
   "metadata": {},
   "outputs": [],
   "source": [
    "def plot_heterogeneity(heterogeneity, k):\n",
    "    plt.figure(figsize=(7,4))\n",
    "    plt.plot(heterogeneity, linewidth=4)\n",
    "    plt.xlabel('# Iterations')\n",
    "    plt.ylabel('Heterogeneity')\n",
    "    plt.title('Heterogeneity of clustering over time, K={0:d}'.format(k))\n",
    "    plt.rcParams.update({'font.size': 16})\n",
    "    plt.tight_layout()"
   ]
  },
  {
   "cell_type": "code",
   "execution_count": 256,
   "metadata": {},
   "outputs": [
    {
     "name": "stdout",
     "output_type": "stream",
     "text": [
      "0\n",
      "1\n",
      "      466 elements changed their cluster assignment.\n",
      "2\n",
      "       77 elements changed their cluster assignment.\n",
      "3\n",
      "       20 elements changed their cluster assignment.\n",
      "4\n"
     ]
    }
   ],
   "source": [
    "k = 3\n",
    "heterogeneity = []\n",
    "initial_centroids = get_initial_centroids(variables, k, seed=0)\n",
    "centroids, cluster_assignment= kmeans(variables, k, initial_centroids, maxiter=400,\n",
    "                                       record_heterogeneity=heterogeneity, verbose=True)\n",
    "#plot_heterogeneity(record_heterogeneity , k)"
   ]
  },
  {
   "cell_type": "code",
   "execution_count": 257,
   "metadata": {},
   "outputs": [
    {
     "name": "stdout",
     "output_type": "stream",
     "text": [
      "seed=000000, heterogeneity=171.91387, cluster_distribution=[   8  278  161  925   55 1860  315  509   51  437]\n",
      "seed=020000, heterogeneity=151.51686, cluster_distribution=[  55    8  250 1796 1486  377   29  253  173  172]\n",
      "seed=040000, heterogeneity=153.87471, cluster_distribution=[ 285  173  332  740   31   31 1124  275  138 1470]\n",
      "seed=060000, heterogeneity=129.72988, cluster_distribution=[ 173  344   55  365  464  294  593  280  172 1859]\n",
      "seed=080000, heterogeneity=136.83210, cluster_distribution=[ 106 1910  779  449  165  185   89  328  588]\n",
      "seed=100000, heterogeneity=189.36364, cluster_distribution=[   7  447  405   55 1943  372  846  517    7]\n"
     ]
    },
    {
     "name": "stderr",
     "output_type": "stream",
     "text": [
      "C:\\Users\\AQi\\AppData\\Local\\Continuum\\anaconda3\\lib\\site-packages\\ipykernel_launcher.py:7: RuntimeWarning: Mean of empty slice.\n",
      "  import sys\n",
      "C:\\Users\\AQi\\AppData\\Local\\Continuum\\anaconda3\\lib\\site-packages\\numpy\\core\\_methods.py:78: RuntimeWarning: invalid value encountered in true_divide\n",
      "  ret, rcount, out=ret, casting='unsafe', subok=False)\n",
      "C:\\Users\\AQi\\AppData\\Local\\Continuum\\anaconda3\\lib\\site-packages\\ipykernel_launcher.py:7: RuntimeWarning: Mean of empty slice.\n",
      "  import sys\n",
      "C:\\Users\\AQi\\AppData\\Local\\Continuum\\anaconda3\\lib\\site-packages\\numpy\\core\\_methods.py:78: RuntimeWarning: invalid value encountered in true_divide\n",
      "  ret, rcount, out=ret, casting='unsafe', subok=False)\n",
      "C:\\Users\\AQi\\AppData\\Local\\Continuum\\anaconda3\\lib\\site-packages\\ipykernel_launcher.py:7: RuntimeWarning: Mean of empty slice.\n",
      "  import sys\n",
      "C:\\Users\\AQi\\AppData\\Local\\Continuum\\anaconda3\\lib\\site-packages\\numpy\\core\\_methods.py:78: RuntimeWarning: invalid value encountered in true_divide\n",
      "  ret, rcount, out=ret, casting='unsafe', subok=False)\n",
      "C:\\Users\\AQi\\AppData\\Local\\Continuum\\anaconda3\\lib\\site-packages\\ipykernel_launcher.py:7: RuntimeWarning: Mean of empty slice.\n",
      "  import sys\n",
      "C:\\Users\\AQi\\AppData\\Local\\Continuum\\anaconda3\\lib\\site-packages\\numpy\\core\\_methods.py:78: RuntimeWarning: invalid value encountered in true_divide\n",
      "  ret, rcount, out=ret, casting='unsafe', subok=False)\n",
      "C:\\Users\\AQi\\AppData\\Local\\Continuum\\anaconda3\\lib\\site-packages\\ipykernel_launcher.py:7: RuntimeWarning: Mean of empty slice.\n",
      "  import sys\n",
      "C:\\Users\\AQi\\AppData\\Local\\Continuum\\anaconda3\\lib\\site-packages\\numpy\\core\\_methods.py:78: RuntimeWarning: invalid value encountered in true_divide\n",
      "  ret, rcount, out=ret, casting='unsafe', subok=False)\n",
      "C:\\Users\\AQi\\AppData\\Local\\Continuum\\anaconda3\\lib\\site-packages\\ipykernel_launcher.py:7: RuntimeWarning: Mean of empty slice.\n",
      "  import sys\n",
      "C:\\Users\\AQi\\AppData\\Local\\Continuum\\anaconda3\\lib\\site-packages\\numpy\\core\\_methods.py:78: RuntimeWarning: invalid value encountered in true_divide\n",
      "  ret, rcount, out=ret, casting='unsafe', subok=False)\n",
      "C:\\Users\\AQi\\AppData\\Local\\Continuum\\anaconda3\\lib\\site-packages\\ipykernel_launcher.py:7: RuntimeWarning: Mean of empty slice.\n",
      "  import sys\n",
      "C:\\Users\\AQi\\AppData\\Local\\Continuum\\anaconda3\\lib\\site-packages\\numpy\\core\\_methods.py:78: RuntimeWarning: invalid value encountered in true_divide\n",
      "  ret, rcount, out=ret, casting='unsafe', subok=False)\n",
      "C:\\Users\\AQi\\AppData\\Local\\Continuum\\anaconda3\\lib\\site-packages\\ipykernel_launcher.py:7: RuntimeWarning: Mean of empty slice.\n",
      "  import sys\n",
      "C:\\Users\\AQi\\AppData\\Local\\Continuum\\anaconda3\\lib\\site-packages\\numpy\\core\\_methods.py:78: RuntimeWarning: invalid value encountered in true_divide\n",
      "  ret, rcount, out=ret, casting='unsafe', subok=False)\n",
      "C:\\Users\\AQi\\AppData\\Local\\Continuum\\anaconda3\\lib\\site-packages\\ipykernel_launcher.py:7: RuntimeWarning: Mean of empty slice.\n",
      "  import sys\n",
      "C:\\Users\\AQi\\AppData\\Local\\Continuum\\anaconda3\\lib\\site-packages\\numpy\\core\\_methods.py:78: RuntimeWarning: invalid value encountered in true_divide\n",
      "  ret, rcount, out=ret, casting='unsafe', subok=False)\n",
      "C:\\Users\\AQi\\AppData\\Local\\Continuum\\anaconda3\\lib\\site-packages\\ipykernel_launcher.py:7: RuntimeWarning: Mean of empty slice.\n",
      "  import sys\n",
      "C:\\Users\\AQi\\AppData\\Local\\Continuum\\anaconda3\\lib\\site-packages\\numpy\\core\\_methods.py:78: RuntimeWarning: invalid value encountered in true_divide\n",
      "  ret, rcount, out=ret, casting='unsafe', subok=False)\n",
      "C:\\Users\\AQi\\AppData\\Local\\Continuum\\anaconda3\\lib\\site-packages\\ipykernel_launcher.py:7: RuntimeWarning: Mean of empty slice.\n",
      "  import sys\n",
      "C:\\Users\\AQi\\AppData\\Local\\Continuum\\anaconda3\\lib\\site-packages\\numpy\\core\\_methods.py:78: RuntimeWarning: invalid value encountered in true_divide\n",
      "  ret, rcount, out=ret, casting='unsafe', subok=False)\n",
      "C:\\Users\\AQi\\AppData\\Local\\Continuum\\anaconda3\\lib\\site-packages\\ipykernel_launcher.py:7: RuntimeWarning: Mean of empty slice.\n",
      "  import sys\n",
      "C:\\Users\\AQi\\AppData\\Local\\Continuum\\anaconda3\\lib\\site-packages\\numpy\\core\\_methods.py:78: RuntimeWarning: invalid value encountered in true_divide\n",
      "  ret, rcount, out=ret, casting='unsafe', subok=False)\n",
      "C:\\Users\\AQi\\AppData\\Local\\Continuum\\anaconda3\\lib\\site-packages\\ipykernel_launcher.py:7: RuntimeWarning: Mean of empty slice.\n",
      "  import sys\n",
      "C:\\Users\\AQi\\AppData\\Local\\Continuum\\anaconda3\\lib\\site-packages\\numpy\\core\\_methods.py:78: RuntimeWarning: invalid value encountered in true_divide\n",
      "  ret, rcount, out=ret, casting='unsafe', subok=False)\n",
      "C:\\Users\\AQi\\AppData\\Local\\Continuum\\anaconda3\\lib\\site-packages\\ipykernel_launcher.py:7: RuntimeWarning: Mean of empty slice.\n",
      "  import sys\n",
      "C:\\Users\\AQi\\AppData\\Local\\Continuum\\anaconda3\\lib\\site-packages\\numpy\\core\\_methods.py:78: RuntimeWarning: invalid value encountered in true_divide\n",
      "  ret, rcount, out=ret, casting='unsafe', subok=False)\n",
      "C:\\Users\\AQi\\AppData\\Local\\Continuum\\anaconda3\\lib\\site-packages\\ipykernel_launcher.py:7: RuntimeWarning: Mean of empty slice.\n",
      "  import sys\n",
      "C:\\Users\\AQi\\AppData\\Local\\Continuum\\anaconda3\\lib\\site-packages\\numpy\\core\\_methods.py:78: RuntimeWarning: invalid value encountered in true_divide\n",
      "  ret, rcount, out=ret, casting='unsafe', subok=False)\n",
      "C:\\Users\\AQi\\AppData\\Local\\Continuum\\anaconda3\\lib\\site-packages\\ipykernel_launcher.py:7: RuntimeWarning: Mean of empty slice.\n",
      "  import sys\n",
      "C:\\Users\\AQi\\AppData\\Local\\Continuum\\anaconda3\\lib\\site-packages\\numpy\\core\\_methods.py:78: RuntimeWarning: invalid value encountered in true_divide\n",
      "  ret, rcount, out=ret, casting='unsafe', subok=False)\n",
      "C:\\Users\\AQi\\AppData\\Local\\Continuum\\anaconda3\\lib\\site-packages\\ipykernel_launcher.py:7: RuntimeWarning: Mean of empty slice.\n",
      "  import sys\n",
      "C:\\Users\\AQi\\AppData\\Local\\Continuum\\anaconda3\\lib\\site-packages\\numpy\\core\\_methods.py:78: RuntimeWarning: invalid value encountered in true_divide\n",
      "  ret, rcount, out=ret, casting='unsafe', subok=False)\n",
      "C:\\Users\\AQi\\AppData\\Local\\Continuum\\anaconda3\\lib\\site-packages\\ipykernel_launcher.py:7: RuntimeWarning: Mean of empty slice.\n",
      "  import sys\n",
      "C:\\Users\\AQi\\AppData\\Local\\Continuum\\anaconda3\\lib\\site-packages\\numpy\\core\\_methods.py:78: RuntimeWarning: invalid value encountered in true_divide\n",
      "  ret, rcount, out=ret, casting='unsafe', subok=False)\n",
      "C:\\Users\\AQi\\AppData\\Local\\Continuum\\anaconda3\\lib\\site-packages\\ipykernel_launcher.py:7: RuntimeWarning: Mean of empty slice.\n",
      "  import sys\n",
      "C:\\Users\\AQi\\AppData\\Local\\Continuum\\anaconda3\\lib\\site-packages\\numpy\\core\\_methods.py:78: RuntimeWarning: invalid value encountered in true_divide\n",
      "  ret, rcount, out=ret, casting='unsafe', subok=False)\n",
      "C:\\Users\\AQi\\AppData\\Local\\Continuum\\anaconda3\\lib\\site-packages\\ipykernel_launcher.py:7: RuntimeWarning: Mean of empty slice.\n",
      "  import sys\n",
      "C:\\Users\\AQi\\AppData\\Local\\Continuum\\anaconda3\\lib\\site-packages\\numpy\\core\\_methods.py:78: RuntimeWarning: invalid value encountered in true_divide\n",
      "  ret, rcount, out=ret, casting='unsafe', subok=False)\n",
      "C:\\Users\\AQi\\AppData\\Local\\Continuum\\anaconda3\\lib\\site-packages\\ipykernel_launcher.py:7: RuntimeWarning: Mean of empty slice.\n",
      "  import sys\n",
      "C:\\Users\\AQi\\AppData\\Local\\Continuum\\anaconda3\\lib\\site-packages\\numpy\\core\\_methods.py:78: RuntimeWarning: invalid value encountered in true_divide\n",
      "  ret, rcount, out=ret, casting='unsafe', subok=False)\n",
      "C:\\Users\\AQi\\AppData\\Local\\Continuum\\anaconda3\\lib\\site-packages\\ipykernel_launcher.py:7: RuntimeWarning: Mean of empty slice.\n",
      "  import sys\n",
      "C:\\Users\\AQi\\AppData\\Local\\Continuum\\anaconda3\\lib\\site-packages\\numpy\\core\\_methods.py:78: RuntimeWarning: invalid value encountered in true_divide\n",
      "  ret, rcount, out=ret, casting='unsafe', subok=False)\n",
      "C:\\Users\\AQi\\AppData\\Local\\Continuum\\anaconda3\\lib\\site-packages\\ipykernel_launcher.py:7: RuntimeWarning: Mean of empty slice.\n",
      "  import sys\n",
      "C:\\Users\\AQi\\AppData\\Local\\Continuum\\anaconda3\\lib\\site-packages\\numpy\\core\\_methods.py:78: RuntimeWarning: invalid value encountered in true_divide\n",
      "  ret, rcount, out=ret, casting='unsafe', subok=False)\n",
      "C:\\Users\\AQi\\AppData\\Local\\Continuum\\anaconda3\\lib\\site-packages\\ipykernel_launcher.py:7: RuntimeWarning: Mean of empty slice.\n",
      "  import sys\n",
      "C:\\Users\\AQi\\AppData\\Local\\Continuum\\anaconda3\\lib\\site-packages\\numpy\\core\\_methods.py:78: RuntimeWarning: invalid value encountered in true_divide\n",
      "  ret, rcount, out=ret, casting='unsafe', subok=False)\n",
      "C:\\Users\\AQi\\AppData\\Local\\Continuum\\anaconda3\\lib\\site-packages\\ipykernel_launcher.py:7: RuntimeWarning: Mean of empty slice.\n",
      "  import sys\n",
      "C:\\Users\\AQi\\AppData\\Local\\Continuum\\anaconda3\\lib\\site-packages\\numpy\\core\\_methods.py:78: RuntimeWarning: invalid value encountered in true_divide\n",
      "  ret, rcount, out=ret, casting='unsafe', subok=False)\n",
      "C:\\Users\\AQi\\AppData\\Local\\Continuum\\anaconda3\\lib\\site-packages\\ipykernel_launcher.py:7: RuntimeWarning: Mean of empty slice.\n",
      "  import sys\n",
      "C:\\Users\\AQi\\AppData\\Local\\Continuum\\anaconda3\\lib\\site-packages\\numpy\\core\\_methods.py:78: RuntimeWarning: invalid value encountered in true_divide\n",
      "  ret, rcount, out=ret, casting='unsafe', subok=False)\n"
     ]
    },
    {
     "name": "stdout",
     "output_type": "stream",
     "text": [
      "seed=120000, heterogeneity=161.71281, cluster_distribution=[  55 2054   51  372  261  599  247  281  172  507]\n"
     ]
    }
   ],
   "source": [
    "k = 10\n",
    "heterogeneity = {}\n",
    "cluster_assignment_dict = {}\n",
    "import time\n",
    "import  sys\n",
    "start = time.time()\n",
    "tf_idf = variables\n",
    "for seed in [0, 20000, 40000, 60000, 80000, 100000, 120000]:\n",
    "    initial_centroids = get_initial_centroids(tf_idf, k, seed)\n",
    "    centroids, cluster_assignment = kmeans(tf_idf, k, initial_centroids, maxiter=400,\n",
    "                                           record_heterogeneity=None, verbose=False)\n",
    "    # To save time, compute heterogeneity only once in the end\n",
    "    heterogeneity[seed] = compute_heterogeneity(tf_idf, k, centroids, cluster_assignment)\n",
    "    cluster_assignment_dict[seed] = np.bincount(cluster_assignment)\n",
    "    print('seed={0:06d}, heterogeneity={1:.5f}, cluster_distribution={2}'.format(seed, heterogeneity[seed], \n",
    "                                           cluster_assignment_dict[seed]))\n",
    "    sys.stdout.flush()\n",
    "#end = time.time()\n",
    "#print(end-start)"
   ]
  },
  {
   "cell_type": "code",
   "execution_count": 264,
   "metadata": {},
   "outputs": [],
   "source": [
    "def smart_initialize(data, k, seed=None):\n",
    "    '''Use k-means++ to initialize a good set of centroids'''\n",
    "    if seed is not None: # useful for obtaining consistent results\n",
    "        np.random.seed(seed)\n",
    "    centroids = np.zeros((k, data.shape[1]))\n",
    "    \n",
    "    # Randomly choose the first centroid.\n",
    "    # Since we have no prior knowledge, choose uniformly at random\n",
    "    idx = np.random.randint(data.shape[0])\n",
    "    centroids[0] = data[idx,:]\n",
    "    # Compute distances from the first centroid chosen to all the other data points\n",
    "    distances = pairwise_distances(data, centroids[0:1], metric='euclidean').flatten()\n",
    "    \n",
    "    for i in range(1, k):\n",
    "        # Choose the next centroid randomly, so that the probability for each data point to be chosen\n",
    "        # is directly proportional to its squared distance from the nearest centroid.\n",
    "        # Roughtly speaking, a new centroid should be as far as from ohter centroids as possible.\n",
    "        idx = np.random.choice(data.shape[0], 1, p=distances/sum(distances))\n",
    "        centroids[i] = data[idx,:]\n",
    "        # Now compute distances from the centroids to all data points\n",
    "        distances = np.min(pairwise_distances(data, centroids[0:i+1], metric='euclidean'),axis=1)\n",
    "    \n",
    "    return centroids"
   ]
  },
  {
   "cell_type": "code",
   "execution_count": 265,
   "metadata": {},
   "outputs": [
    {
     "name": "stdout",
     "output_type": "stream",
     "text": [
      "seed=000000, heterogeneity=183.87770\n",
      "seed=020000, heterogeneity=161.89208\n",
      "seed=040000, heterogeneity=159.34157\n",
      "seed=060000, heterogeneity=150.31168\n",
      "seed=080000, heterogeneity=171.62800\n",
      "seed=100000, heterogeneity=132.24140\n",
      "seed=120000, heterogeneity=133.98515\n",
      "0.46473264694213867\n"
     ]
    }
   ],
   "source": [
    "k = 10\n",
    "heterogeneity_smart = {}\n",
    "start = time.time()\n",
    "for seed in [0, 20000, 40000, 60000, 80000, 100000, 120000]:\n",
    "    initial_centroids = smart_initialize(tf_idf, k, seed)\n",
    "    centroids, cluster_assignment = kmeans(tf_idf, k, initial_centroids, maxiter=400,\n",
    "                                           record_heterogeneity=None, verbose=False)\n",
    "    # To save time, compute heterogeneity only once in the end\n",
    "    heterogeneity_smart[seed] = compute_heterogeneity(tf_idf, k, centroids, cluster_assignment)\n",
    "    print('seed={0:06d}, heterogeneity={1:.5f}'.format(seed, heterogeneity_smart[seed]))\n",
    "    sys.stdout.flush()\n",
    "end = time.time()\n",
    "print(end-start)"
   ]
  },
  {
   "cell_type": "code",
   "execution_count": 277,
   "metadata": {},
   "outputs": [
    {
     "name": "stdout",
     "output_type": "stream",
     "text": [
      "171.91387273334385\n"
     ]
    },
    {
     "ename": "AttributeError",
     "evalue": "'list' object has no attribute 'apend'",
     "output_type": "error",
     "traceback": [
      "\u001b[1;31m---------------------------------------------------------------------------\u001b[0m",
      "\u001b[1;31mAttributeError\u001b[0m                            Traceback (most recent call last)",
      "\u001b[1;32m<ipython-input-277-22d406498bb3>\u001b[0m in \u001b[0;36m<module>\u001b[1;34m()\u001b[0m\n\u001b[0;32m      2\u001b[0m \u001b[1;32mfor\u001b[0m \u001b[0mkey\u001b[0m \u001b[1;33m,\u001b[0m \u001b[0mvalues\u001b[0m \u001b[1;32min\u001b[0m \u001b[0mheterogeneity\u001b[0m\u001b[1;33m.\u001b[0m\u001b[0mitems\u001b[0m\u001b[1;33m(\u001b[0m\u001b[1;33m)\u001b[0m\u001b[1;33m:\u001b[0m\u001b[1;33m\u001b[0m\u001b[0m\n\u001b[0;32m      3\u001b[0m     \u001b[0mprint\u001b[0m\u001b[1;33m(\u001b[0m\u001b[0mvalues\u001b[0m\u001b[1;33m)\u001b[0m\u001b[1;33m\u001b[0m\u001b[0m\n\u001b[1;32m----> 4\u001b[1;33m     \u001b[0mlst\u001b[0m\u001b[1;33m.\u001b[0m\u001b[0mapend\u001b[0m\u001b[1;33m(\u001b[0m\u001b[0mvalues\u001b[0m\u001b[1;33m)\u001b[0m\u001b[1;33m\u001b[0m\u001b[0m\n\u001b[0m",
      "\u001b[1;31mAttributeError\u001b[0m: 'list' object has no attribute 'apend'"
     ]
    }
   ],
   "source": [
    "lst = []\n",
    "for key , values in heterogeneity.items():\n",
    "    print(values)\n",
    "    "
   ]
  },
  {
   "cell_type": "code",
   "execution_count": 273,
   "metadata": {},
   "outputs": [
    {
     "data": {
      "text/plain": [
       "[0, 20000, 40000, 60000, 80000, 100000, 120000]"
      ]
     },
     "execution_count": 273,
     "metadata": {},
     "output_type": "execute_result"
    }
   ],
   "source": [
    "[item for item in heterogeneity]"
   ]
  },
  {
   "cell_type": "code",
   "execution_count": 280,
   "metadata": {},
   "outputs": [
    {
     "data": {
      "text/plain": [
       "[171.91387273334385,\n",
       " 151.5168580299174,\n",
       " 153.87470511629974,\n",
       " 129.72987514380287,\n",
       " 136.83209520180444,\n",
       " 189.36364352523506,\n",
       " 161.71281377561166]"
      ]
     },
     "execution_count": 280,
     "metadata": {},
     "output_type": "execute_result"
    }
   ],
   "source": [
    "list(heterogeneity.values())"
   ]
  },
  {
   "cell_type": "code",
   "execution_count": 281,
   "metadata": {},
   "outputs": [
    {
     "data": {
      "image/png": "[encoded data removed]",
      "text/plain": [
       "<Figure size 576x360 with 1 Axes>"
      ]
     },
     "metadata": {
      "needs_background": "light"
     },
     "output_type": "display_data"
    }
   ],
   "source": [
    "plt.figure(figsize=(8,5))\n",
    "plt.boxplot([list(heterogeneity.values()), list(heterogeneity_smart.values())], vert=False)\n",
    "plt.yticks([1, 2], ['k-means', 'k-means++'])\n",
    "plt.rcParams.update({'font.size': 16})\n",
    "plt.tight_layout()"
   ]
  },
  {
   "cell_type": "code",
   "execution_count": 283,
   "metadata": {},
   "outputs": [],
   "source": [
    "def kmeans_multiple_runs(data, k, maxiter, num_runs, seed_list=None, verbose=False):\n",
    "    heterogeneity = {}\n",
    "    \n",
    "    min_heterogeneity_achieved = float('inf')\n",
    "    best_seed = None\n",
    "    final_centroids = None\n",
    "    final_cluster_assignment = None\n",
    "    \n",
    "    for i in range(num_runs):\n",
    "        \n",
    "        # Use UTC time if no seeds are provided \n",
    "        if seed_list is not None: \n",
    "            seed = seed_list[i]\n",
    "            np.random.seed(seed)\n",
    "        else: \n",
    "            seed = int(time.time())\n",
    "            np.random.seed(seed)\n",
    "        \n",
    "        # Use k-means++ initialization\n",
    "        initial_centroids = smart_initialize(data, k, seed=seed)\n",
    "        \n",
    "        # Run k-means\n",
    "        centroids, cluster_assignment = kmeans(data, k, initial_centroids, maxiter=400,\n",
    "                                               record_heterogeneity=None, verbose=False)\n",
    "        \n",
    "        # To save time, compute heterogeneity only once in the end\n",
    "        heterogeneity[seed] = compute_heterogeneity(data, k, centroids, cluster_assignment)\n",
    "        \n",
    "        if verbose:\n",
    "            print('seed={0:06d}, heterogeneity={1:.5f}'.format(seed, heterogeneity[seed]))\n",
    "            sys.stdout.flush()\n",
    "        \n",
    "        # if current measurement of heterogeneity is lower than previously seen,\n",
    "        # update the minimum record of heterogeneity.\n",
    "        if heterogeneity[seed] < min_heterogeneity_achieved:\n",
    "            min_heterogeneity_achieved = heterogeneity[seed]\n",
    "            best_seed = seed\n",
    "            final_centroids = centroids\n",
    "            final_cluster_assignment = cluster_assignment\n",
    "    \n",
    "    # Return the centroids and cluster assignments that minimize heterogeneity.\n",
    "    return final_centroids, final_cluster_assignment"
   ]
  },
  {
   "cell_type": "code",
   "execution_count": 286,
   "metadata": {},
   "outputs": [],
   "source": [
    "num_runs = 10\n",
    "final_centroids, final_cluster_assignment = kmeans_multiple_runs(variables, k, maxiter, num_runs, seed_list=None, verbose=False)"
   ]
  },
  {
   "cell_type": "code",
   "execution_count": 289,
   "metadata": {},
   "outputs": [
    {
     "data": {
      "text/plain": [
       "array([0, 1, 2, 3, 4, 5, 6, 7, 8, 9], dtype=int64)"
      ]
     },
     "execution_count": 289,
     "metadata": {},
     "output_type": "execute_result"
    }
   ],
   "source": [
    "np.unique(final_cluster_assignment)"
   ]
  },
  {
   "cell_type": "code",
   "execution_count": 295,
   "metadata": {},
   "outputs": [
    {
     "name": "stdout",
     "output_type": "stream",
     "text": [
      "seed=000000, heterogeneity=386.45972\n",
      "seed=020000, heterogeneity=386.45972\n",
      "seed=040000, heterogeneity=386.45972\n",
      "seed=060000, heterogeneity=386.45972\n",
      "seed=080000, heterogeneity=386.45972\n",
      "seed=100000, heterogeneity=386.45972\n",
      "seed=120000, heterogeneity=386.45972\n",
      "seed=000000, heterogeneity=183.87770\n",
      "seed=020000, heterogeneity=161.89208\n",
      "seed=040000, heterogeneity=159.34157\n",
      "seed=060000, heterogeneity=150.31168\n",
      "seed=080000, heterogeneity=171.62800\n",
      "seed=100000, heterogeneity=132.24140\n",
      "seed=120000, heterogeneity=133.98515\n",
      "seed=000000, heterogeneity=69.15438\n",
      "seed=020000, heterogeneity=77.54334\n",
      "seed=040000, heterogeneity=65.64864\n",
      "seed=060000, heterogeneity=75.77837\n",
      "seed=080000, heterogeneity=72.26645\n",
      "seed=100000, heterogeneity=72.81816\n",
      "seed=120000, heterogeneity=58.89642\n",
      "seed=000000, heterogeneity=35.38157\n",
      "seed=020000, heterogeneity=26.71428\n",
      "seed=040000, heterogeneity=25.50168\n",
      "seed=060000, heterogeneity=26.74125\n",
      "seed=080000, heterogeneity=30.86361\n",
      "seed=100000, heterogeneity=39.21828\n",
      "seed=120000, heterogeneity=27.17193\n",
      "seed=000000, heterogeneity=11.64958\n",
      "seed=020000, heterogeneity=11.32773\n",
      "seed=040000, heterogeneity=10.29929\n",
      "seed=060000, heterogeneity=8.50289\n",
      "seed=080000, heterogeneity=13.01664\n",
      "seed=100000, heterogeneity=11.36268\n",
      "seed=120000, heterogeneity=9.79852\n",
      "7.752328872680664\n"
     ]
    },
    {
     "data": {
      "image/png": "[encoded data removed]",
      "text/plain": [
       "<Figure size 504x288 with 1 Axes>"
      ]
     },
     "metadata": {
      "needs_background": "light"
     },
     "output_type": "display_data"
    }
   ],
   "source": [
    "def plot_k_vs_heterogeneity(k_values, heterogeneity_values):\n",
    "    plt.figure(figsize=(7,4))\n",
    "    plt.plot(k_values, heterogeneity_values, linewidth=4)\n",
    "    plt.xlabel('K')\n",
    "    plt.ylabel('Heterogeneity')\n",
    "    plt.title('K vs. Heterogeneity')\n",
    "    plt.rcParams.update({'font.size': 16})\n",
    "    plt.tight_layout()\n",
    "\n",
    "start = time.time()\n",
    "centroids = {}\n",
    "cluster_assignment = {}\n",
    "heterogeneity_values = []\n",
    "k_list = [2, 10, 25, 50, 100]\n",
    "seed_list = [0, 20000, 40000, 60000, 80000, 100000, 120000]\n",
    "\n",
    "for k in k_list:\n",
    "    heterogeneity = []\n",
    "    centroids[k], cluster_assignment[k] = kmeans_multiple_runs(tf_idf, k, maxiter=400,\n",
    "                                                               num_runs=len(seed_list),\n",
    "                                                               seed_list=seed_list,\n",
    "                                                               verbose=True)\n",
    "    score = compute_heterogeneity(tf_idf, k, centroids[k], cluster_assignment[k])\n",
    "    heterogeneity_values.append(score)\n",
    "\n",
    "plot_k_vs_heterogeneity(k_list, heterogeneity_values)\n",
    "\n",
    "end = time.time()\n",
    "print(end-start)"
   ]
  },
  {
   "cell_type": "code",
   "execution_count": 317,
   "metadata": {},
   "outputs": [],
   "source": [
    "def visualize_clusters(tf_idf, centroids, cluster_assignment, k, display_content=True):\n",
    "    ''''''\n",
    "    \n",
    "    print('==========================================================')\n",
    "\n",
    "    # Visualize each cluster c\n",
    "    for c in range(k):\n",
    "        # Cluster heading\n",
    "        print('Cluster {0:d}    '.format(c)),\n",
    "        # Print top k words with largest TF-IDF weights in the cluster\n",
    "        idx = centroids[c].argsort()[::-1]\n",
    "        #print(tf_idf[idx])\n",
    "        \n",
    "        if display_content:\n",
    "            # Compute distances from the centroid to all data points in the cluster,\n",
    "            # and compute nearest neighbors of the centroids within the cluster.\n",
    "            distances = pairwise_distances(tf_idf, centroids[c].reshape(1, -1), metric='euclidean').flatten()\n",
    "            distances[cluster_assignment!=c] = float('inf') # remove non-members from consideration\n",
    "            nearest_neighbors = distances.argsort()\n",
    "            # For 3 nearest neighbors, print the title as well as first 180 characters of text.\n",
    "            for i in range(3):\n",
    "                print(nearest_neighbors[i])\n",
    "        print('==========================================================')"
   ]
  },
  {
   "cell_type": "code",
   "execution_count": 318,
   "metadata": {},
   "outputs": [
    {
     "name": "stdout",
     "output_type": "stream",
     "text": [
      "0\n",
      "1\n",
      "       33 elements changed their cluster assignment.\n",
      "2\n",
      "       17 elements changed their cluster assignment.\n",
      "3\n",
      "==========================================================\n",
      "Cluster 0    \n",
      "3091\n",
      "1791\n",
      "3257\n",
      "==========================================================\n",
      "Cluster 1    \n",
      "3343\n",
      "3688\n",
      "1509\n",
      "==========================================================\n"
     ]
    }
   ],
   "source": [
    "k = 2\n",
    "initial_centroids = get_initial_centroids(variables, k, seed=0)\n",
    "heterogeneity = []\n",
    "centroids, cluster_assignment= kmeans(variables, k, initial_centroids, maxiter=400,\n",
    "                                       record_heterogeneity=heterogeneity, verbose=True)\n",
    "visualize_document_clusters( tf_idf, centroids, cluster_assignment, k, display_content=True)"
   ]
  },
  {
   "cell_type": "code",
   "execution_count": null,
   "metadata": {},
   "outputs": [],
   "source": []
  },
  {
   "cell_type": "code",
   "execution_count": null,
   "metadata": {},
   "outputs": [],
   "source": []
  }
 ],
 "metadata": {
  "kernelspec": {
   "display_name": "Python 3",
   "language": "python",
   "name": "python3"
  },
  "language_info": {
   "codemirror_mode": {
    "name": "ipython",
    "version": 3
   },
   "file_extension": ".py",
   "mimetype": "text/x-python",
   "name": "python",
   "nbconvert_exporter": "python",
   "pygments_lexer": "ipython3",
   "version": "3.6.6"
  }
 },
 "nbformat": 4,
 "nbformat_minor": 2
}
