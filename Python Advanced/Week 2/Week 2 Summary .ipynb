{
 "cells": [
  {
   "cell_type": "markdown",
   "metadata": {},
   "source": [
    "## dictionary get "
   ]
  },
  {
   "cell_type": "code",
   "execution_count": 14,
   "metadata": {},
   "outputs": [],
   "source": [
    "# return value if exist else default "
   ]
  },
  {
   "cell_type": "code",
   "execution_count": 1,
   "metadata": {},
   "outputs": [],
   "source": [
    "raw_orgs = [\n",
    "    {'id': 1, 'rubric': 10},\n",
    "    {'id': 2},\n",
    "    {'id': 3, 'rubric': 30}\n",
    "]\n",
    "DEFAULT_PRIORITY = 5\n",
    "rubrics = {\n",
    "    10: {'name': 'stadium','priority': 8}, \n",
    "    30: {'name': 'cafe'}\n",
    "}"
   ]
  },
  {
   "cell_type": "code",
   "execution_count": 2,
   "metadata": {},
   "outputs": [],
   "source": [
    "orgs = []\n",
    "for org in raw_orgs:\n",
    "    rubric = org.get('rubric')\n",
    "    # only append entries has rubric \n",
    "    if rubric is None:\n",
    "        continue \n",
    "    rubric_info = rubrics[rubric]\n",
    "    # set priority to default if not existed \n",
    "    # get return \n",
    "    priority = rubric_info.get('priority', DEFAULT_PRIORITY)\n",
    "    org['priority'] = priority\n",
    "    orgs.append(org)"
   ]
  },
  {
   "cell_type": "code",
   "execution_count": 3,
   "metadata": {
    "scrolled": true
   },
   "outputs": [
    {
     "data": {
      "text/plain": [
       "[{'id': 1, 'rubric': 10, 'priority': 8},\n",
       " {'id': 3, 'rubric': 30, 'priority': 5}]"
      ]
     },
     "execution_count": 3,
     "metadata": {},
     "output_type": "execute_result"
    }
   ],
   "source": [
    "orgs"
   ]
  },
  {
   "cell_type": "markdown",
   "metadata": {},
   "source": [
    "## dict.update, dict.setdefault "
   ]
  },
  {
   "cell_type": "code",
   "execution_count": 4,
   "metadata": {},
   "outputs": [],
   "source": [
    "first_rubrics = {\n",
    "    10: {'name': 'stadium','priority': 8}, \n",
    "    30: {'name': 'cafe'}\n",
    "}\n",
    "second_rubrics = {\n",
    "     10: {'name': 'stadium','priority': 8}, \n",
    "     20: {'name': 'cafe', 'priority': 8},\n",
    "     30: {'priority: 6'}\n",
    "}"
   ]
  },
  {
   "cell_type": "code",
   "execution_count": 5,
   "metadata": {},
   "outputs": [],
   "source": [
    "# merge this two dict "
   ]
  },
  {
   "cell_type": "code",
   "execution_count": 9,
   "metadata": {},
   "outputs": [],
   "source": [
    "for rubric, rubric_info in second_rubrics.items():\n",
    "    # return key if exist; or insert key and return default \n",
    "    first_rubrics.setdefault(rubric, {}).update({rubric:rubric_info})"
   ]
  },
  {
   "cell_type": "code",
   "execution_count": 12,
   "metadata": {},
   "outputs": [],
   "source": [
    "d1 = {10:{'name': 'stadium', 'priority': 8}}\n",
    "d2 = {20:{'name': 'stadium', 'priority': 9,'cafe':110},\n",
    "      30:{'name': 'stadium', 'priority': 120},\n",
    "     }\n",
    "for k, v in d2.items():\n",
    "    d1.setdefault(k,{}).update(v)"
   ]
  },
  {
   "cell_type": "markdown",
   "metadata": {},
   "source": [
    "##  Sorting"
   ]
  },
  {
   "cell_type": "code",
   "execution_count": null,
   "metadata": {},
   "outputs": [],
   "source": [
    "# sorts are guaranteed to be stable. That means, when multiple records have the same key\n",
    "# their orginal order is preserved. "
   ]
  },
  {
   "cell_type": "code",
   "execution_count": 16,
   "metadata": {},
   "outputs": [
    {
     "data": {
      "text/plain": [
       "[1, 2, 3, 4, 5]"
      ]
     },
     "execution_count": 16,
     "metadata": {},
     "output_type": "execute_result"
    }
   ],
   "source": [
    "sorted([5, 2, 3, 1, 4])"
   ]
  },
  {
   "cell_type": "code",
   "execution_count": 18,
   "metadata": {},
   "outputs": [
    {
     "data": {
      "text/plain": [
       "[1, 2, 3, 4, 5]"
      ]
     },
     "execution_count": 18,
     "metadata": {},
     "output_type": "execute_result"
    }
   ],
   "source": [
    "a = [5, 2, 3, 1, 4]\n",
    "a.sort()\n",
    "a"
   ]
  },
  {
   "cell_type": "code",
   "execution_count": 19,
   "metadata": {},
   "outputs": [
    {
     "data": {
      "text/plain": [
       "[1, 2, 3, 4, 5]"
      ]
     },
     "execution_count": 19,
     "metadata": {},
     "output_type": "execute_result"
    }
   ],
   "source": [
    "sorted({1: 'D', 2: 'B', 3: 'B', 4: 'E', 5: 'A'})"
   ]
  },
  {
   "cell_type": "code",
   "execution_count": 20,
   "metadata": {},
   "outputs": [
    {
     "data": {
      "text/plain": [
       "['a', 'Andrew', 'from', 'is', 'string', 'test', 'This']"
      ]
     },
     "execution_count": 20,
     "metadata": {},
     "output_type": "execute_result"
    }
   ],
   "source": [
    "# key functions \n",
    "sorted(\"This is a test string from Andrew\".split(), key=str.lower)\n",
    "# ['a', 'Andrew', 'from', 'is', 'string', 'test', 'This']"
   ]
  },
  {
   "cell_type": "code",
   "execution_count": 21,
   "metadata": {},
   "outputs": [
    {
     "data": {
      "text/plain": [
       "[('dave', 'B', 10), ('jane', 'B', 12), ('john', 'A', 15)]"
      ]
     },
     "execution_count": 21,
     "metadata": {},
     "output_type": "execute_result"
    }
   ],
   "source": [
    "student_tuples = [\n",
    "# (name, grade, age)\n",
    "    ('john', 'A', 15),\n",
    "    ('jane', 'B', 12),\n",
    "    ('dave', 'B', 10),\n",
    "]\n",
    "sorted(student_tuples, key=lambda student: student[2])   # sort by age\n",
    "# [('dave', 'B', 10), ('jane', 'B', 12), ('john', 'A', 15)]"
   ]
  },
  {
   "cell_type": "code",
   "execution_count": 25,
   "metadata": {},
   "outputs": [
    {
     "data": {
      "text/plain": [
       "[('dave', 'B', 10), ('jane', 'B', 12), ('john', 'A', 15)]"
      ]
     },
     "execution_count": 25,
     "metadata": {},
     "output_type": "execute_result"
    }
   ],
   "source": [
    "from operator import itemgetter\n",
    "sorted(student_tuples, key=itemgetter(2))\n",
    "# [('dave', 'B', 10), ('jane', 'B', 12), ('john', 'A', 15)]"
   ]
  },
  {
   "cell_type": "code",
   "execution_count": 26,
   "metadata": {},
   "outputs": [
    {
     "data": {
      "text/plain": [
       "[('john', 'A', 15), ('dave', 'B', 10), ('jane', 'B', 12)]"
      ]
     },
     "execution_count": 26,
     "metadata": {},
     "output_type": "execute_result"
    }
   ],
   "source": [
    "sorted(student_tuples, key=itemgetter(1, 2))\n",
    "# [('john', 'A', 15), ('dave', 'B', 10), ('jane', 'B', 12)]"
   ]
  },
  {
   "cell_type": "code",
   "execution_count": 27,
   "metadata": {},
   "outputs": [
    {
     "data": {
      "text/plain": [
       "[('john', 'A', 15), ('jane', 'B', 12), ('dave', 'B', 10)]"
      ]
     },
     "execution_count": 27,
     "metadata": {},
     "output_type": "execute_result"
    }
   ],
   "source": [
    "sorted(student_tuples, key=itemgetter(2), reverse=True)\n",
    "# [('john', 'A', 15), ('jane', 'B', 12), ('dave', 'B', 10)]"
   ]
  },
  {
   "cell_type": "code",
   "execution_count": 28,
   "metadata": {},
   "outputs": [
    {
     "data": {
      "text/plain": [
       "[('blue', 2), ('blue', 1), ('red', 1), ('red', 2)]"
      ]
     },
     "execution_count": 28,
     "metadata": {},
     "output_type": "execute_result"
    }
   ],
   "source": [
    "data = [('red', 1), ('blue', 2), ('red', 2), ('blue', 1)]\n",
    "sorted(data, key=itemgetter(0))\n",
    "# [('blue', 2), ('blue', 1), ('red', 1), ('red', 2)]"
   ]
  },
  {
   "cell_type": "code",
   "execution_count": 30,
   "metadata": {},
   "outputs": [],
   "source": [
    "# Method to deal with new single value \n",
    "# guidebook[name][product] = guidebook[name].get(product, 0) + count\n",
    "# Method to deal with new value with out assign \n",
    "# first_rubrics.setdefault(rubric, {}).update({rubric:rubric_info})"
   ]
  },
  {
   "cell_type": "code",
   "execution_count": 42,
   "metadata": {},
   "outputs": [
    {
     "name": "stdout",
     "output_type": "stream",
     "text": [
      "abc\n",
      "bcd\n",
      "zdfes\n",
      "zdfaefg\n"
     ]
    }
   ],
   "source": [
    "# lambda function \n",
    "words = ['abc','bcd','zdfaefg','zdfes']\n",
    "# compare the len of words first then the lexicograph order from right to left \n",
    "words.sort(key=lambda word: (len(word), word[::-1]))\n",
    "print(*words, sep='\\n')"
   ]
  },
  {
   "cell_type": "code",
   "execution_count": 43,
   "metadata": {},
   "outputs": [
    {
     "name": "stdout",
     "output_type": "stream",
     "text": [
      "aws\n",
      "we\n",
      "name\n",
      "us\n"
     ]
    }
   ],
   "source": [
    "# intuition: more flexible to compare list tuple instead of dictionary \n",
    "word_count_dict = {\n",
    "    \"name\" : 3,\n",
    "    \"we\" : 8,\n",
    "    \"aws\" : 8,\n",
    "    \"us\" : 1\n",
    "}\n",
    "word_count_list = list(word_count_dict.items())\n",
    "word_count_list.sort(key=lambda x: (-x[1], x[0]))\n",
    "for word, cnt in word_count_list:\n",
    "    print(word)"
   ]
  },
  {
   "cell_type": "code",
   "execution_count": 44,
   "metadata": {},
   "outputs": [
    {
     "name": "stdout",
     "output_type": "stream",
     "text": [
      "498\n",
      "7092\n",
      "6558\n",
      "1744\n"
     ]
    }
   ],
   "source": [
    "# customized function and number value \n",
    "def calc_cmp_value(number):\n",
    "    s = str(number)\n",
    "    cmp_value = 0\n",
    "    \n",
    "    for i in range(len(s) // 2):\n",
    "        cmp_value += int(s[i]) - int(s[-i - 1])\n",
    "    return cmp_value\n",
    "\n",
    "numbers = [7092, 6558, 1744, 498]\n",
    "numbers.sort(key=lambda number: (calc_cmp_value(number), number))\n",
    "print(*numbers, sep='\\n')\n"
   ]
  },
  {
   "cell_type": "code",
   "execution_count": null,
   "metadata": {},
   "outputs": [],
   "source": []
  }
 ],
 "metadata": {
  "kernelspec": {
   "display_name": "Python 3",
   "language": "python",
   "name": "python3"
  },
  "language_info": {
   "codemirror_mode": {
    "name": "ipython",
    "version": 3
   },
   "file_extension": ".py",
   "mimetype": "text/x-python",
   "name": "python",
   "nbconvert_exporter": "python",
   "pygments_lexer": "ipython3",
   "version": "3.7.3"
  },
  "nbTranslate": {
   "displayLangs": [
    "*"
   ],
   "hotkey": "alt-t",
   "langInMainMenu": true,
   "sourceLang": "en",
   "targetLang": "fr",
   "useGoogleTranslate": true
  },
  "toc": {
   "base_numbering": 1,
   "nav_menu": {},
   "number_sections": true,
   "sideBar": true,
   "skip_h1_title": false,
   "title_cell": "Table of Contents",
   "title_sidebar": "Contents",
   "toc_cell": false,
   "toc_position": {},
   "toc_section_display": true,
   "toc_window_display": false
  },
  "varInspector": {
   "cols": {
    "lenName": 16,
    "lenType": 16,
    "lenVar": 40
   },
   "kernels_config": {
    "python": {
     "delete_cmd_postfix": "",
     "delete_cmd_prefix": "del ",
     "library": "var_list.py",
     "varRefreshCmd": "print(var_dic_list())"
    },
    "r": {
     "delete_cmd_postfix": ") ",
     "delete_cmd_prefix": "rm(",
     "library": "var_list.r",
     "varRefreshCmd": "cat(var_dic_list()) "
    }
   },
   "types_to_exclude": [
    "module",
    "function",
    "builtin_function_or_method",
    "instance",
    "_Feature"
   ],
   "window_display": false
  }
 },
 "nbformat": 4,
 "nbformat_minor": 2
}
