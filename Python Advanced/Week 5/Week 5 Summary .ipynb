{
 "cells": [
  {
   "cell_type": "markdown",
   "metadata": {},
   "source": [
    "## Magic methods"
   ]
  },
  {
   "cell_type": "markdown",
   "metadata": {},
   "source": [
    "### init\n",
    "Attach data field/ Attribute to object"
   ]
  },
  {
   "cell_type": "markdown",
   "metadata": {},
   "source": [
    "### __len__()"
   ]
  },
  {
   "cell_type": "raw",
   "metadata": {},
   "source": [
    "len(b)\n",
    "b.__len__()"
   ]
  },
  {
   "cell_type": "markdown",
   "metadata": {},
   "source": [
    "### __contains__()"
   ]
  },
  {
   "cell_type": "raw",
   "metadata": {},
   "source": [
    "__contains__(): quick check \n",
    "uid = 10 \n",
    "uid in chat"
   ]
  },
  {
   "cell_type": "markdown",
   "metadata": {},
   "source": [
    "### getitem"
   ]
  },
  {
   "cell_type": "raw",
   "metadata": {},
   "source": [
    "__getitem__(self, uid)\n",
    "chat[0]"
   ]
  },
  {
   "cell_type": "code",
   "execution_count": 38,
   "metadata": {},
   "outputs": [],
   "source": [
    "class Chat:\n",
    "    def __init__(self, name, users):\n",
    "        self.name = name \n",
    "        self.users = users \n",
    "        self.messages = []\n",
    "        self.index = {}\n",
    "    def __len__(self):\n",
    "        return len(self.messages)\n",
    "    \n",
    "    def __contains__(self, uid):\n",
    "        return uid in self.users\n",
    "    \n",
    "    def __getitem__(self, uid):\n",
    "         return self.index.get(uid, [])\n",
    "    \n",
    "    def send_message(self, uid, content):\n",
    "        self.messages.append({\"uid\": uid, 'content': content})\n",
    "        self.index.setdefault(uid, []).append(self.messages[-1])\n",
    "    "
   ]
  },
  {
   "cell_type": "code",
   "execution_count": 61,
   "metadata": {},
   "outputs": [],
   "source": [
    "chat = Chat('party', {0, 1, 2})"
   ]
  },
  {
   "cell_type": "code",
   "execution_count": 62,
   "metadata": {},
   "outputs": [],
   "source": [
    "for _ in range(3):\n",
    "    chat.send_message(uid, \"HELLO\")"
   ]
  },
  {
   "cell_type": "code",
   "execution_count": 63,
   "metadata": {},
   "outputs": [
    {
     "data": {
      "text/plain": [
       "3"
      ]
     },
     "execution_count": 63,
     "metadata": {},
     "output_type": "execute_result"
    }
   ],
   "source": [
    "# __len__(self)\n",
    "len(chat)"
   ]
  },
  {
   "cell_type": "code",
   "execution_count": 64,
   "metadata": {},
   "outputs": [
    {
     "data": {
      "text/plain": [
       "False"
      ]
     },
     "execution_count": 64,
     "metadata": {},
     "output_type": "execute_result"
    }
   ],
   "source": [
    "# __contains__()\n",
    "uid = 10 \n",
    "uid in chat"
   ]
  },
  {
   "cell_type": "code",
   "execution_count": 65,
   "metadata": {},
   "outputs": [
    {
     "data": {
      "text/plain": [
       "{10: [{'uid': 10, 'content': 'HELLO'},\n",
       "  {'uid': 10, 'content': 'HELLO'},\n",
       "  {'uid': 10, 'content': 'HELLO'}]}"
      ]
     },
     "execution_count": 65,
     "metadata": {},
     "output_type": "execute_result"
    }
   ],
   "source": [
    "chat.index"
   ]
  },
  {
   "cell_type": "code",
   "execution_count": 66,
   "metadata": {},
   "outputs": [
    {
     "data": {
      "text/plain": [
       "[]"
      ]
     },
     "execution_count": 66,
     "metadata": {},
     "output_type": "execute_result"
    }
   ],
   "source": [
    "# __getitem__\n",
    "chat[0]"
   ]
  },
  {
   "cell_type": "markdown",
   "metadata": {},
   "source": [
    "### __call__"
   ]
  },
  {
   "cell_type": "raw",
   "metadata": {},
   "source": [
    "def __call__():"
   ]
  },
  {
   "cell_type": "code",
   "execution_count": 74,
   "metadata": {},
   "outputs": [],
   "source": [
    "class Multiplier:\n",
    "    def __init__(self, coefficient):\n",
    "        self.coefficient = coefficient \n",
    "    def __call__(self, number):\n",
    "        return self.coefficient * number"
   ]
  },
  {
   "cell_type": "code",
   "execution_count": 75,
   "metadata": {},
   "outputs": [
    {
     "data": {
      "text/plain": [
       "50"
      ]
     },
     "execution_count": 75,
     "metadata": {},
     "output_type": "execute_result"
    }
   ],
   "source": [
    "m = Multiplier(5)\n",
    "m(10)"
   ]
  },
  {
   "cell_type": "code",
   "execution_count": 76,
   "metadata": {},
   "outputs": [
    {
     "name": "stdout",
     "output_type": "stream",
     "text": [
      "999\n"
     ]
    }
   ],
   "source": [
    "class Factorial:\n",
    "    def __init__(self):\n",
    "        self.cache = {0: 1}\n",
    "        self.cache_miss_count = 0\n",
    "\n",
    "    def __call__(self, n):\n",
    "        result = self.cache.get(n)\n",
    "        if result is None:\n",
    "            self.cache_miss_count += 1\n",
    "            # The recursions is used just for an illustration;\n",
    "            # the solution with a while-loop would be more efficient\n",
    "            result = n * self(n - 1)\n",
    "            self.cache[n] = result\n",
    "        return result\n",
    "    \n",
    "f = Factorial()\n",
    "for x in range(1000):\n",
    "    f(x)\n",
    "    \n",
    "print(f.cache_miss_count)"
   ]
  },
  {
   "cell_type": "markdown",
   "metadata": {},
   "source": [
    "## Inheritance "
   ]
  },
  {
   "cell_type": "code",
   "execution_count": 105,
   "metadata": {},
   "outputs": [],
   "source": [
    "class GenerativeNeuralNetwork:\n",
    "    def __init__(self, name):\n",
    "        self._name = name\n",
    "    def get_name(self):\n",
    "        return self._name\n",
    "    def __call__(self):\n",
    "        raise NotImplementedError()\n",
    "        \n",
    "class TalkingNeuralNetwork(GenerativeNeuralNetwork):\n",
    "    def __init__(self, name, phrases):\n",
    "        super(). __init__(name)\n",
    "        self.name = name\n",
    "        self.phrases = phrases\n",
    "    def __call__(self):\n",
    "        return random.choice([\"HELLO\", \"Hi!\"])"
   ]
  },
  {
   "cell_type": "code",
   "execution_count": 84,
   "metadata": {},
   "outputs": [],
   "source": [
    "nn = GenerativeNeuralNetwork(\"GNN v1.0\")"
   ]
  },
  {
   "cell_type": "code",
   "execution_count": 102,
   "metadata": {},
   "outputs": [],
   "source": [
    "import random\n",
    "#random.choice([1,2,3])"
   ]
  },
  {
   "cell_type": "code",
   "execution_count": 100,
   "metadata": {},
   "outputs": [
    {
     "data": {
      "text/plain": [
       "'HELLO'"
      ]
     },
     "execution_count": 100,
     "metadata": {},
     "output_type": "execute_result"
    }
   ],
   "source": [
    "nn = TalkingNeuralNetwork(\"TNN v2.0\",[\"HELLO\", \"HI\", \"Goodbye\",\"Bye\"])\n",
    "nn()"
   ]
  },
  {
   "cell_type": "code",
   "execution_count": 101,
   "metadata": {},
   "outputs": [
    {
     "data": {
      "text/plain": [
       "'TNN v2.0'"
      ]
     },
     "execution_count": 101,
     "metadata": {},
     "output_type": "execute_result"
    }
   ],
   "source": [
    "nn.get_name()"
   ]
  },
  {
   "cell_type": "code",
   "execution_count": 103,
   "metadata": {},
   "outputs": [
    {
     "name": "stdout",
     "output_type": "stream",
     "text": [
      "c\n"
     ]
    }
   ],
   "source": [
    "class A:\n",
    "    def __init__(self):\n",
    "        self.name = 'a'\n",
    "        \n",
    "class B(A):\n",
    "    def get_name(self):\n",
    "        return 'b'\n",
    "\n",
    "class C(B):\n",
    "    def __init__(self):\n",
    "        self.name = 'c'\n",
    "        \n",
    "class D(C):\n",
    "    def get_name(self):\n",
    "        return self.name\n",
    "    \n",
    "print(D().get_name())"
   ]
  },
  {
   "cell_type": "code",
   "execution_count": 104,
   "metadata": {},
   "outputs": [
    {
     "name": "stdout",
     "output_type": "stream",
     "text": [
      "a\n"
     ]
    }
   ],
   "source": [
    "class A:\n",
    "    def __init__(self):\n",
    "        self.name = 'a'\n",
    "        \n",
    "class B(A):\n",
    "    def get_name(self):\n",
    "        return 'b'\n",
    "        \n",
    "class D(B):\n",
    "    def get_name(self):\n",
    "        return self.name\n",
    "    \n",
    "print(D().get_name())"
   ]
  },
  {
   "cell_type": "markdown",
   "metadata": {},
   "source": [
    "## isinstance, object-oriented programming"
   ]
  },
  {
   "cell_type": "code",
   "execution_count": 141,
   "metadata": {},
   "outputs": [],
   "source": [
    "class GenerativeNeuralNetwork:\n",
    "    def __init__(self, name):\n",
    "        self._name = name\n",
    "    def get_name(self):\n",
    "        return self._name\n",
    "    def __call__(self):\n",
    "        raise NotImplementedError()\n",
    "# polymorphism        \n",
    "class TalkingNeuralNetwork(GenerativeNeuralNetwork):\n",
    "    def __init__(self, name, phrases):\n",
    "        super(). __init__(name)\n",
    "        self.name = name\n",
    "        self.phrases = phrases\n",
    "    def __call__(self):\n",
    "        return random.choice([\"HELLO\", \"Hi!\"])"
   ]
  },
  {
   "cell_type": "code",
   "execution_count": 142,
   "metadata": {},
   "outputs": [
    {
     "data": {
      "text/plain": [
       "'HELLO'"
      ]
     },
     "execution_count": 142,
     "metadata": {},
     "output_type": "execute_result"
    }
   ],
   "source": [
    "nn = TalkingNeuralNetwork(\"TNN v2.0\",[\"HELLO\", \"HI\", \"Goodbye\",\"Bye\"])\n",
    "nn()"
   ]
  },
  {
   "cell_type": "code",
   "execution_count": 143,
   "metadata": {},
   "outputs": [],
   "source": [
    "def generate_text(tnn, count):\n",
    "    if not isinstance(tnn, TalkingNeuralNetwork):\n",
    "        raise TypeError(\"tnn must be TalkingNerualNetwork\")\n",
    "    return '\\n'.join(tnn() for _ in range(count))\n",
    "    "
   ]
  },
  {
   "cell_type": "code",
   "execution_count": 144,
   "metadata": {},
   "outputs": [
    {
     "name": "stdout",
     "output_type": "stream",
     "text": [
      "Hi!\n",
      "Hi!\n",
      "HELLO\n"
     ]
    }
   ],
   "source": [
    "print(generate_text(nn, 3))"
   ]
  },
  {
   "cell_type": "code",
   "execution_count": 145,
   "metadata": {},
   "outputs": [],
   "source": [
    "class SmartTalkingNeuralNetwork:\n",
    "    pass"
   ]
  },
  {
   "cell_type": "code",
   "execution_count": 146,
   "metadata": {},
   "outputs": [],
   "source": [
    "snn = SmartTalkingNeuralNetwork()"
   ]
  },
  {
   "cell_type": "code",
   "execution_count": 147,
   "metadata": {},
   "outputs": [
    {
     "name": "stdout",
     "output_type": "stream",
     "text": [
      "Hi!\n",
      "HELLO\n",
      "Hi!\n"
     ]
    }
   ],
   "source": [
    "print(generate_text(nn, 3))"
   ]
  },
  {
   "cell_type": "code",
   "execution_count": 148,
   "metadata": {},
   "outputs": [],
   "source": [
    "class User:\n",
    "    def __init__(self, name):\n",
    "        self._name = name \n",
    "    def get_name(self):\n",
    "        return self.name \n",
    "    # encapsulation \n",
    "    def set_name (self, new_name):\n",
    "        self._name = new_name"
   ]
  },
  {
   "cell_type": "markdown",
   "metadata": {},
   "source": [
    "## Exceptions and inheritance"
   ]
  },
  {
   "cell_type": "code",
   "execution_count": 151,
   "metadata": {},
   "outputs": [],
   "source": [
    "def parse(raw_info):\n",
    "    # raw_info ~ \"name, year\"\n",
    "    info = {}\n",
    "    splitted = raw_info.split(\",\")\n",
    "    info['name'] = splitted[0]\n",
    "    info['year'] = int(splitted[1])\n",
    "    return info"
   ]
  },
  {
   "cell_type": "code",
   "execution_count": 159,
   "metadata": {},
   "outputs": [],
   "source": [
    "def parse_records(records):\n",
    "    result = []\n",
    "    fail_count = 0\n",
    "    for raw_info in records:\n",
    "        try: \n",
    "            record = parse(raw_info)\n",
    "        except : \n",
    "            fail_count += 1\n",
    "            continue \n",
    "        result.append(record)\n",
    "    return result, fail_count"
   ]
  },
  {
   "cell_type": "code",
   "execution_count": 160,
   "metadata": {},
   "outputs": [
    {
     "data": {
      "text/plain": [
       "([{'name': 'Google', 'year': 1998}], 2)"
      ]
     },
     "execution_count": 160,
     "metadata": {},
     "output_type": "execute_result"
    }
   ],
   "source": [
    "parse_records([\n",
    "    \"Google, 1998\", \n",
    "    \"Facebook 2004\", \n",
    "    None\n",
    "])"
   ]
  },
  {
   "cell_type": "markdown",
   "metadata": {},
   "source": [
    "### inhereitance for the error "
   ]
  },
  {
   "cell_type": "code",
   "execution_count": 162,
   "metadata": {},
   "outputs": [
    {
     "data": {
      "text/plain": [
       "True"
      ]
     },
     "execution_count": 162,
     "metadata": {},
     "output_type": "execute_result"
    }
   ],
   "source": [
    "issubclass(ValueError, Exception)"
   ]
  },
  {
   "cell_type": "code",
   "execution_count": 163,
   "metadata": {},
   "outputs": [],
   "source": [
    "class NetworkError(Exception):\n",
    "    pass"
   ]
  },
  {
   "cell_type": "code",
   "execution_count": 164,
   "metadata": {},
   "outputs": [
    {
     "ename": "NetworkError",
     "evalue": "Connection is lost",
     "output_type": "error",
     "traceback": [
      "\u001b[0;31m---------------------------------------------------------------------------\u001b[0m",
      "\u001b[0;31mNetworkError\u001b[0m                              Traceback (most recent call last)",
      "\u001b[0;32m<ipython-input-164-702fa28165bb>\u001b[0m in \u001b[0;36m<module>\u001b[0;34m\u001b[0m\n\u001b[0;32m----> 1\u001b[0;31m \u001b[0;32mraise\u001b[0m \u001b[0mNetworkError\u001b[0m\u001b[0;34m(\u001b[0m\u001b[0;34m\"Connection is lost\"\u001b[0m\u001b[0;34m)\u001b[0m\u001b[0;34m\u001b[0m\u001b[0;34m\u001b[0m\u001b[0m\n\u001b[0m",
      "\u001b[0;31mNetworkError\u001b[0m: Connection is lost"
     ]
    }
   ],
   "source": [
    "raise NetworkError(\"Connection is lost\")"
   ]
  },
  {
   "cell_type": "markdown",
   "metadata": {},
   "source": [
    "## Decorators"
   ]
  },
  {
   "cell_type": "code",
   "execution_count": null,
   "metadata": {},
   "outputs": [],
   "source": [
    "# transform, modified functions, classes, etc  "
   ]
  },
  {
   "cell_type": "markdown",
   "metadata": {},
   "source": [
    "### How to use Decrorator "
   ]
  },
  {
   "cell_type": "code",
   "execution_count": 189,
   "metadata": {},
   "outputs": [],
   "source": [
    "def parse(raw_info):\n",
    "    # raw_info ~ \"name,year\"\n",
    "    print(\"The function is deprecated\")\n",
    "    info = {}\n",
    "    splitted = raw_info.split(\",\")\n",
    "    info['name'] = splitted[0]\n",
    "    info['year'] = int(splitted[1])\n",
    "    return info"
   ]
  },
  {
   "cell_type": "code",
   "execution_count": 190,
   "metadata": {},
   "outputs": [
    {
     "name": "stdout",
     "output_type": "stream",
     "text": [
      "The function is deprecated\n"
     ]
    },
    {
     "data": {
      "text/plain": [
       "{'name': 'Google', 'year': 1998}"
      ]
     },
     "execution_count": 190,
     "metadata": {},
     "output_type": "execute_result"
    }
   ],
   "source": [
    "parse(\"Google,1998\")"
   ]
  },
  {
   "cell_type": "code",
   "execution_count": 196,
   "metadata": {},
   "outputs": [],
   "source": [
    "def deprecated(func):\n",
    "    def new_func(x):\n",
    "        print(\"The function is deprecated\")\n",
    "        return func(x)\n",
    "    return new_func"
   ]
  },
  {
   "cell_type": "code",
   "execution_count": 197,
   "metadata": {},
   "outputs": [],
   "source": [
    "# someday, you want to deprecated this function\n",
    "#from deprecated import deprecated\n",
    "def parse(raw_info):\n",
    "    # raw_info ~ \"name,year\"\n",
    "    info = {}\n",
    "    splitted = raw_info.split(\",\")\n",
    "    info['name'] = splitted[0]\n",
    "    info['year'] = int(splitted[1])\n",
    "    return info\n",
    "parse = deprecated(parse)"
   ]
  },
  {
   "cell_type": "code",
   "execution_count": 198,
   "metadata": {},
   "outputs": [
    {
     "name": "stdout",
     "output_type": "stream",
     "text": [
      "The function is deprecated\n"
     ]
    },
    {
     "data": {
      "text/plain": [
       "{'name': 'Google', 'year': 1998}"
      ]
     },
     "execution_count": 198,
     "metadata": {},
     "output_type": "execute_result"
    }
   ],
   "source": [
    "parse(\"Google,1998\")"
   ]
  },
  {
   "cell_type": "code",
   "execution_count": 200,
   "metadata": {},
   "outputs": [],
   "source": [
    "@deprecated\n",
    "def parse(raw_info):\n",
    "    # raw_info ~ \"name,year\"\n",
    "    info = {}\n",
    "    splitted = raw_info.split(\",\")\n",
    "    info['name'] = splitted[0]\n",
    "    info['year'] = int(splitted[1])\n",
    "    return info"
   ]
  },
  {
   "cell_type": "code",
   "execution_count": 201,
   "metadata": {},
   "outputs": [
    {
     "name": "stdout",
     "output_type": "stream",
     "text": [
      "The function is deprecated\n"
     ]
    },
    {
     "data": {
      "text/plain": [
       "{'name': 'Google', 'year': 1998}"
      ]
     },
     "execution_count": 201,
     "metadata": {},
     "output_type": "execute_result"
    }
   ],
   "source": [
    "parse(\"Google,1998\")"
   ]
  },
  {
   "cell_type": "markdown",
   "metadata": {},
   "source": [
    "### The Most Common Used decrorator "
   ]
  },
  {
   "cell_type": "code",
   "execution_count": 205,
   "metadata": {},
   "outputs": [],
   "source": [
    "class User:\n",
    "    def __init__(self, name):\n",
    "        self._name = name\n",
    "    def get_name(self):\n",
    "        return self._name\n",
    "    def set_name(self):\n",
    "        self._name = name"
   ]
  },
  {
   "cell_type": "code",
   "execution_count": 206,
   "metadata": {},
   "outputs": [],
   "source": [
    "user = User(\"Yura Go\")"
   ]
  },
  {
   "cell_type": "code",
   "execution_count": 207,
   "metadata": {},
   "outputs": [
    {
     "data": {
      "text/plain": [
       "'Yura Go'"
      ]
     },
     "execution_count": 207,
     "metadata": {},
     "output_type": "execute_result"
    }
   ],
   "source": [
    "user.get_name()"
   ]
  },
  {
   "cell_type": "code",
   "execution_count": 218,
   "metadata": {},
   "outputs": [],
   "source": [
    "class User:\n",
    "    def __init__(self, name):\n",
    "        self._name = name\n",
    "    # return the val, can not set \n",
    "    @property\n",
    "    def name(self):\n",
    "        print(\"Access Name\")\n",
    "        return self._name\n",
    "    @name.setter\n",
    "    def name(self, new_name):\n",
    "        print(\"Change Name\")\n",
    "        if not isinstance(new_name, str):\n",
    "            raise TypeError(\"New name must be a string\")\n",
    "        self._name = new_name \n",
    "#     def get_name(self):\n",
    "#         return self._name\n",
    "#     def set_name(self):\n",
    "#         self._name = name"
   ]
  },
  {
   "cell_type": "code",
   "execution_count": 219,
   "metadata": {},
   "outputs": [
    {
     "name": "stdout",
     "output_type": "stream",
     "text": [
      "Access Name\n"
     ]
    },
    {
     "data": {
      "text/plain": [
       "'Yura Go'"
      ]
     },
     "execution_count": 219,
     "metadata": {},
     "output_type": "execute_result"
    }
   ],
   "source": [
    "user = User(\"Yura Go\")\n",
    "user.name"
   ]
  },
  {
   "cell_type": "code",
   "execution_count": 220,
   "metadata": {},
   "outputs": [
    {
     "name": "stdout",
     "output_type": "stream",
     "text": [
      "Change Name\n"
     ]
    }
   ],
   "source": [
    "user.name = \"George\""
   ]
  },
  {
   "cell_type": "markdown",
   "metadata": {},
   "source": [
    "## args, kwargs "
   ]
  },
  {
   "cell_type": "code",
   "execution_count": 275,
   "metadata": {},
   "outputs": [],
   "source": [
    "def deprecated(func):\n",
    "    def new_func(*args, **kwargs):\n",
    "        print(\"The function is deprecated\")\n",
    "        return func(*args, **kwargs)\n",
    "    return new_func"
   ]
  },
  {
   "cell_type": "code",
   "execution_count": 276,
   "metadata": {},
   "outputs": [],
   "source": [
    "@deprecated\n",
    "def sqrt(x):\n",
    "    return x**2 "
   ]
  },
  {
   "cell_type": "code",
   "execution_count": 277,
   "metadata": {},
   "outputs": [
    {
     "name": "stdout",
     "output_type": "stream",
     "text": [
      "The function is deprecated\n"
     ]
    },
    {
     "data": {
      "text/plain": [
       "625"
      ]
     },
     "execution_count": 277,
     "metadata": {},
     "output_type": "execute_result"
    }
   ],
   "source": [
    "sqrt(25)"
   ]
  },
  {
   "cell_type": "code",
   "execution_count": 278,
   "metadata": {},
   "outputs": [],
   "source": [
    "@deprecated\n",
    "def add(a, b):\n",
    "    return a+b"
   ]
  },
  {
   "cell_type": "markdown",
   "metadata": {},
   "source": [
    "### args "
   ]
  },
  {
   "cell_type": "code",
   "execution_count": 280,
   "metadata": {},
   "outputs": [],
   "source": [
    "def my_print(*args, **kwargs):\n",
    "    # all other documents are packed in tuple \n",
    "    print(type(kwargs))\n",
    "    print(\"MY_PRINT\", args, kwargs)\n",
    "    print(\"MY_PRINT\", *args, sep=\" $$$ \")"
   ]
  },
  {
   "cell_type": "markdown",
   "metadata": {},
   "source": [
    "### kwargs "
   ]
  },
  {
   "cell_type": "code",
   "execution_count": 282,
   "metadata": {},
   "outputs": [
    {
     "name": "stdout",
     "output_type": "stream",
     "text": [
      "<class 'dict'>\n",
      "MY_PRINT (1, 2, 3) {'c': 3, 'd': 4}\n",
      "MY_PRINT $$$ 1 $$$ 2 $$$ 3\n"
     ]
    }
   ],
   "source": [
    " my_print(1,2,3, c=3,d=4)"
   ]
  },
  {
   "cell_type": "code",
   "execution_count": 286,
   "metadata": {},
   "outputs": [
    {
     "name": "stdout",
     "output_type": "stream",
     "text": [
      "a: 0, b: 1 \n",
      "2\n",
      "a: 1, b: 0 \n",
      "a: 2, b: 3 \n",
      "11\n",
      "a: 3, b: 2 \n",
      "18\n"
     ]
    }
   ],
   "source": [
    "def f(a, b):\n",
    "    print(f'a: {a}, b: {b} ')\n",
    "    return a + 2 * b\n",
    "\n",
    "s = 0\n",
    "for args in [(0, 1), (2, 3)]:\n",
    "    s += f(*args)\n",
    "    print(s)\n",
    "    s += f(**{'a': args[1], 'b': args[0]})\n",
    "print(s)\n"
   ]
  },
  {
   "cell_type": "code",
   "execution_count": null,
   "metadata": {},
   "outputs": [],
   "source": []
  },
  {
   "cell_type": "code",
   "execution_count": null,
   "metadata": {},
   "outputs": [],
   "source": []
  }
 ],
 "metadata": {
  "kernelspec": {
   "display_name": "Python 3",
   "language": "python",
   "name": "python3"
  },
  "language_info": {
   "codemirror_mode": {
    "name": "ipython",
    "version": 3
   },
   "file_extension": ".py",
   "mimetype": "text/x-python",
   "name": "python",
   "nbconvert_exporter": "python",
   "pygments_lexer": "ipython3",
   "version": "3.7.3"
  },
  "nbTranslate": {
   "displayLangs": [
    "*"
   ],
   "hotkey": "alt-t",
   "langInMainMenu": true,
   "sourceLang": "en",
   "targetLang": "fr",
   "useGoogleTranslate": true
  },
  "toc": {
   "base_numbering": 1,
   "nav_menu": {},
   "number_sections": true,
   "sideBar": true,
   "skip_h1_title": false,
   "title_cell": "Table of Contents",
   "title_sidebar": "Contents",
   "toc_cell": false,
   "toc_position": {},
   "toc_section_display": true,
   "toc_window_display": false
  },
  "varInspector": {
   "cols": {
    "lenName": 16,
    "lenType": 16,
    "lenVar": 40
   },
   "kernels_config": {
    "python": {
     "delete_cmd_postfix": "",
     "delete_cmd_prefix": "del ",
     "library": "var_list.py",
     "varRefreshCmd": "print(var_dic_list())"
    },
    "r": {
     "delete_cmd_postfix": ") ",
     "delete_cmd_prefix": "rm(",
     "library": "var_list.r",
     "varRefreshCmd": "cat(var_dic_list()) "
    }
   },
   "types_to_exclude": [
    "module",
    "function",
    "builtin_function_or_method",
    "instance",
    "_Feature"
   ],
   "window_display": false
  }
 },
 "nbformat": 4,
 "nbformat_minor": 2
}
