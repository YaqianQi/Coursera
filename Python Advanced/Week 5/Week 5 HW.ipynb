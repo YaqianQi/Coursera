{
 "cells": [
  {
   "cell_type": "markdown",
   "metadata": {},
   "source": [
    "# Flash 2"
   ]
  },
  {
   "cell_type": "code",
   "execution_count": null,
   "metadata": {},
   "outputs": [],
   "source": [
    "# Write class Flash for modeling work with USB flash drive. \n",
    "# Each Flash has limited capacity and may have a limit on the maximum file size. \n",
    "# The class should only allow to write files.\n",
    "\n",
    "# The class constructor has 22 parameters:\n",
    "\n",
    "# capacity;\n",
    "# max_file_size − must be None, default value = None.\n",
    "# Iimplement method write:\n",
    "\n",
    "# First, it must check that the size of the file being written is no larger than max_file_size, \n",
    "# otherwise it must throw a FlashMaxFileSizeError exception. \n",
    "# If the max_file_size is None, this check is skipped;\n",
    "# Then it need to check that the flash drive has enough memory to write this file,\n",
    "# otherwise it need to throw the FlashMemoryLimitError exception. \n",
    "# If there is enough free memory, you need to write the file.\n",
    "# The FlashMaxFileSizeError and FlashMemoryLimitError exceptions must be inherited from the \n",
    "# FlashError exception."
   ]
  },
  {
   "cell_type": "code",
   "execution_count": 2,
   "metadata": {},
   "outputs": [],
   "source": [
    "class FlashError(Exception):\n",
    "    pass\n",
    "class FlashMaxFileSizeError(FlashError):\n",
    "    pass \n",
    "class FlashMemoryLimitError(FlashError):\n",
    "    pass "
   ]
  },
  {
   "cell_type": "code",
   "execution_count": 10,
   "metadata": {},
   "outputs": [],
   "source": [
    "class Flash:\n",
    "    def __init__(self, capacity, max_file_size=None):\n",
    "        self.capacity = capacity \n",
    "        self.max_file_size = max_file_size\n",
    "\n",
    "    def write(self, v):\n",
    "        if self.max_file_size != None and v > self.max_file_size:\n",
    "            raise FlashMaxFileSizeError(\"The file is too large\")\n",
    "        if v > self.capacity:\n",
    "            raise FlashMemoryLimitError(\"Not enough memory\")\n"
   ]
  },
  {
   "cell_type": "code",
   "execution_count": 11,
   "metadata": {},
   "outputs": [],
   "source": [
    "#Flash(10,15).write(20)\n",
    "Flash(10,15).write(8)"
   ]
  },
  {
   "cell_type": "markdown",
   "metadata": {},
   "source": [
    "# Catch the exception"
   ]
  },
  {
   "cell_type": "code",
   "execution_count": null,
   "metadata": {},
   "outputs": [],
   "source": [
    "# Write the decorator exception_logger that for the wrapped function catches exceptions\n",
    "# ArithmeticError, AssertionError, ZeroDivisionError and prints their names."
   ]
  },
  {
   "cell_type": "code",
   "execution_count": 51,
   "metadata": {},
   "outputs": [],
   "source": [
    "def exception_logger(func):\n",
    "    def inner(*args, **kwargs):\n",
    "        try:\n",
    "            return func(*args, **kwargs)\n",
    "        except Exception as err:\n",
    "            if isinstance(err, ArithmeticError):\n",
    "                print(\"ArithmeticError\")\n",
    "            if isinstance(err, AssertionError):\n",
    "                print(\"AssertionError\")\n",
    "            if isinstance(err, ZeroDivisionError):\n",
    "                print(\"ZeroDivisionError\")\n",
    "    return inner"
   ]
  },
  {
   "cell_type": "code",
   "execution_count": 52,
   "metadata": {},
   "outputs": [],
   "source": [
    "def test_func():\n",
    "    #raise ArithmeticError(\"JUST FOR TEST\")\n",
    "    raise ZeroDivisionError(\"JUST FOR TEST\")"
   ]
  },
  {
   "cell_type": "code",
   "execution_count": 53,
   "metadata": {},
   "outputs": [
    {
     "ename": "ZeroDivisionError",
     "evalue": "JUST FOR TEST",
     "output_type": "error",
     "traceback": [
      "\u001b[0;31m---------------------------------------------------------------------------\u001b[0m",
      "\u001b[0;31mZeroDivisionError\u001b[0m                         Traceback (most recent call last)",
      "\u001b[0;32m<ipython-input-53-73ed4c3f2495>\u001b[0m in \u001b[0;36m<module>\u001b[0;34m\u001b[0m\n\u001b[0;32m----> 1\u001b[0;31m \u001b[0mtest_func\u001b[0m\u001b[0;34m(\u001b[0m\u001b[0;34m)\u001b[0m\u001b[0;34m\u001b[0m\u001b[0;34m\u001b[0m\u001b[0m\n\u001b[0m",
      "\u001b[0;32m<ipython-input-52-277ae1d73c77>\u001b[0m in \u001b[0;36mtest_func\u001b[0;34m()\u001b[0m\n\u001b[1;32m      1\u001b[0m \u001b[0;32mdef\u001b[0m \u001b[0mtest_func\u001b[0m\u001b[0;34m(\u001b[0m\u001b[0;34m)\u001b[0m\u001b[0;34m:\u001b[0m\u001b[0;34m\u001b[0m\u001b[0;34m\u001b[0m\u001b[0m\n\u001b[1;32m      2\u001b[0m     \u001b[0;31m#raise ArithmeticError(\"JUST FOR TEST\")\u001b[0m\u001b[0;34m\u001b[0m\u001b[0;34m\u001b[0m\u001b[0;34m\u001b[0m\u001b[0m\n\u001b[0;32m----> 3\u001b[0;31m     \u001b[0;32mraise\u001b[0m \u001b[0mZeroDivisionError\u001b[0m\u001b[0;34m(\u001b[0m\u001b[0;34m\"JUST FOR TEST\"\u001b[0m\u001b[0;34m)\u001b[0m\u001b[0;34m\u001b[0m\u001b[0;34m\u001b[0m\u001b[0m\n\u001b[0m",
      "\u001b[0;31mZeroDivisionError\u001b[0m: JUST FOR TEST"
     ]
    }
   ],
   "source": [
    "test_func()"
   ]
  },
  {
   "cell_type": "markdown",
   "metadata": {},
   "source": [
    "# Non-negative list"
   ]
  },
  {
   "cell_type": "code",
   "execution_count": 54,
   "metadata": {},
   "outputs": [],
   "source": [
    "# Implement class PositiveList to store positive integers. \n",
    "# Inherit it from class list. Also implement new exception NonPositiveError.\n",
    "\n",
    "# In the class PositiveList, redefine the method append so that when you try to add a non-positive\n",
    "# integer, a NonPositiveError exception is thrown and the number is not added,\n",
    "# and when you try to add a positive integer, the number is added as in a standard list.\n",
    "\n",
    "# It is guaranteed that only integers will always be passed as an argument to the method append."
   ]
  },
  {
   "cell_type": "code",
   "execution_count": 82,
   "metadata": {},
   "outputs": [],
   "source": [
    "class NonPositiveError(Exception):\n",
    "    pass \n",
    "\n",
    "class PositiveList(list):\n",
    "    def append(self, item):\n",
    "        if item < 0:\n",
    "            raise NonPositiveError(\"This is a non positive item\")\n",
    "        super().append(item)"
   ]
  },
  {
   "cell_type": "code",
   "execution_count": 83,
   "metadata": {},
   "outputs": [],
   "source": [
    "pl = PositiveList([3])\n",
    "pl.append(4)"
   ]
  },
  {
   "cell_type": "code",
   "execution_count": 85,
   "metadata": {},
   "outputs": [],
   "source": [
    "#pl.append(-3)"
   ]
  },
  {
   "cell_type": "markdown",
   "metadata": {},
   "source": [
    "# Complex numbers"
   ]
  },
  {
   "cell_type": "code",
   "execution_count": 86,
   "metadata": {},
   "outputs": [],
   "source": [
    "# Implement class Complex to work with complex numbers. To do this, implement the methods:\n",
    "\n",
    "# class constructor and method str;\n",
    "# addition and subtraction operators with objects from classes int, float and Complex;\n",
    "# multiplication and division operators with objects from classes int, float and Complex;\n",
    "# comparison operator and method for calculating the modulus of a complex number."
   ]
  },
  {
   "cell_type": "code",
   "execution_count": 31,
   "metadata": {},
   "outputs": [],
   "source": [
    "import math \n",
    "class Complex:\n",
    "    # Part 1\n",
    "    def __init__(self, re=0, im=0):\n",
    "        if isinstance(re, (float, int)) and isinstance(im, (float, int)):\n",
    "            self.re = re\n",
    "            self.im = im\n",
    "        else:\n",
    "            raise TypeError\n",
    "\n",
    "    def __str__(self):\n",
    "        return f'{self.re}{\"+\" if self.im >= 0 else \"\"}{self.im}i'\n",
    "    # Part 2\n",
    "    def __add__(self, other):\n",
    "        if isinstance(other, Complex):\n",
    "            new_re = self.re + other.re\n",
    "            new_im = self.im + other.im\n",
    "        elif isinstance(other, (float, int)):\n",
    "            new_re = self.re + other\n",
    "            new_im = self.im\n",
    "        else:\n",
    "            raise TypeError\n",
    "\n",
    "        return Complex(new_re, new_im)\n",
    "    \n",
    "    def __sub__(self, other):\n",
    "        if isinstance(other, Complex):\n",
    "            new_re = self.re - other.re\n",
    "            new_im = self.im - other.im\n",
    "        elif isinstance(other, (float, int)):\n",
    "            new_re = self.re - other\n",
    "            new_im = self.im\n",
    "        else:\n",
    "            raise TypeError\n",
    "\n",
    "        return Complex(new_re, new_im)\n",
    "\n",
    "    # Part 3\n",
    "    \n",
    "    def __mul__(self, other):\n",
    "        if isinstance(other, Complex):\n",
    "            new_re = self.re * other.re - self.im * other.im\n",
    "            new_im = self.re * other.im + self.im * other.re\n",
    "        elif isinstance(other, (float, int)):\n",
    "            new_re = self.re * other\n",
    "            new_im = self.im * other\n",
    "        else:\n",
    "            raise TypeError\n",
    "\n",
    "        return Complex(new_re, new_im)\n",
    "    \n",
    "    def __truediv__(self, other):\n",
    "        if isinstance(other, Complex):\n",
    "            denominator = other.re ** 2 + other.im ** 2\n",
    "            new_re = (self.re * other.re + self.im * other.im) / denominator\n",
    "            new_im = (-self.re * other.im + self.im * other.re) / denominator\n",
    "        elif isinstance(other, (float, int)):\n",
    "            new_re = self.re / other\n",
    "            new_im = self.im / other\n",
    "        else:\n",
    "            raise TypeError\n",
    "\n",
    "        return Complex(new_re, new_im)\n",
    "\n",
    "    # Part 4\n",
    "    def __eq__(self, other):\n",
    "        return self.re == other.re and self.im == other.im\n",
    "\n",
    "    def __abs__(self):\n",
    "        return math.sqrt(self.re ** 2 + self.im ** 2)\n",
    "\n"
   ]
  },
  {
   "cell_type": "code",
   "execution_count": 32,
   "metadata": {},
   "outputs": [],
   "source": [
    "c1 = Complex(1,3)\n",
    "c2 = Complex(2,3)"
   ]
  },
  {
   "cell_type": "code",
   "execution_count": 33,
   "metadata": {
    "scrolled": true
   },
   "outputs": [
    {
     "data": {
      "text/plain": [
       "('1+3i', '2+3i')"
      ]
     },
     "execution_count": 33,
     "metadata": {},
     "output_type": "execute_result"
    }
   ],
   "source": [
    "str(c1) ,str(c2)"
   ]
  },
  {
   "cell_type": "code",
   "execution_count": 34,
   "metadata": {},
   "outputs": [],
   "source": [
    "c2 = Complex(1,3)"
   ]
  },
  {
   "cell_type": "code",
   "execution_count": 35,
   "metadata": {},
   "outputs": [
    {
     "data": {
      "text/plain": [
       "True"
      ]
     },
     "execution_count": 35,
     "metadata": {},
     "output_type": "execute_result"
    }
   ],
   "source": [
    "c1 == c2"
   ]
  },
  {
   "cell_type": "code",
   "execution_count": 36,
   "metadata": {},
   "outputs": [
    {
     "data": {
      "text/plain": [
       "3.1622776601683795"
      ]
     },
     "execution_count": 36,
     "metadata": {},
     "output_type": "execute_result"
    }
   ],
   "source": [
    "abs(c1)"
   ]
  },
  {
   "cell_type": "code",
   "execution_count": 39,
   "metadata": {},
   "outputs": [
    {
     "data": {
      "text/plain": [
       "(1.0, 0.0)"
      ]
     },
     "execution_count": 39,
     "metadata": {},
     "output_type": "execute_result"
    }
   ],
   "source": [
    "(c1 / c2).re, (c1 / c2).im"
   ]
  },
  {
   "cell_type": "code",
   "execution_count": 40,
   "metadata": {},
   "outputs": [
    {
     "data": {
      "text/plain": [
       "<__main__.Complex at 0x10fed3b70>"
      ]
     },
     "execution_count": 40,
     "metadata": {},
     "output_type": "execute_result"
    }
   ],
   "source": [
    "c1 + c2"
   ]
  },
  {
   "cell_type": "code",
   "execution_count": 41,
   "metadata": {},
   "outputs": [
    {
     "data": {
      "text/plain": [
       "<__main__.Complex at 0x10ebecc18>"
      ]
     },
     "execution_count": 41,
     "metadata": {},
     "output_type": "execute_result"
    }
   ],
   "source": [
    "c1 * c2"
   ]
  },
  {
   "cell_type": "markdown",
   "metadata": {},
   "source": [
    "# Reversed decorator"
   ]
  },
  {
   "cell_type": "code",
   "execution_count": null,
   "metadata": {},
   "outputs": [],
   "source": [
    "# Write a decorator that uses the reverse order for positional arguments in the decorated function.\n",
    "# Decorator should save a name of a decorated function, study functools.wraps."
   ]
  },
  {
   "cell_type": "code",
   "execution_count": 45,
   "metadata": {},
   "outputs": [],
   "source": [
    "from functools import wraps \n",
    "def reversed_dec(func):\n",
    "    @wraps(func)\n",
    "    def inner(*args, **kwargs):\n",
    "        return func(*args[::-1], **kwargs)\n",
    "    return inner"
   ]
  },
  {
   "cell_type": "code",
   "execution_count": 46,
   "metadata": {},
   "outputs": [],
   "source": [
    "@reversed_dec\n",
    "def test_wrapper(x,y):\n",
    "    \"\"\"\n",
    "    test the wrapper function \n",
    "    \"\"\"\n",
    "    return x/y"
   ]
  },
  {
   "cell_type": "code",
   "execution_count": 47,
   "metadata": {},
   "outputs": [
    {
     "data": {
      "text/plain": [
       "0.6666666666666666"
      ]
     },
     "execution_count": 47,
     "metadata": {},
     "output_type": "execute_result"
    }
   ],
   "source": [
    "test_wrapper(3,2)"
   ]
  },
  {
   "cell_type": "code",
   "execution_count": 49,
   "metadata": {},
   "outputs": [
    {
     "data": {
      "text/plain": [
       "'test_wrapper'"
      ]
     },
     "execution_count": 49,
     "metadata": {},
     "output_type": "execute_result"
    }
   ],
   "source": [
    "test_wrapper.__name__"
   ]
  },
  {
   "cell_type": "code",
   "execution_count": 51,
   "metadata": {},
   "outputs": [
    {
     "data": {
      "text/plain": [
       "'\\n    test the wrapper function \\n    '"
      ]
     },
     "execution_count": 51,
     "metadata": {},
     "output_type": "execute_result"
    }
   ],
   "source": [
    "test_wrapper.__doc__"
   ]
  },
  {
   "cell_type": "markdown",
   "metadata": {},
   "source": [
    "# Matrix"
   ]
  },
  {
   "cell_type": "code",
   "execution_count": null,
   "metadata": {},
   "outputs": [],
   "source": [
    "# Implement class Matrix and exception MatrixSizeError.\n",
    "\n",
    "# Class Matrix has methods:\n",
    "\n",
    "# __init__, __str__. Method __init__ accepts a list of lists. \n",
    "# Internal lists are the same size. The method __str__ should return a string in a special form. \n",
    "# Examples: matrix [[1, 2, 3], [7, 8, 9]] → '1\\t2\\t3\\n7\\t8\\t9', \n",
    "# matrix [[1, 2,], [4, 5], [7, 8]] → '1\\t2\\n4\\t5\\n7\\t8'.\n",
    "\n",
    "# __eq__, size. Method size should return tuple with 2 elements -\n",
    "# (number of rows, number of columns); Method __eq__ should return True if two matrices are equal,\n",
    "# False otherwise;\n",
    "\n",
    "# __add__, __sub__ − implement operators + and − for matrices. \n",
    "#If the sizes of matrices are not suitable for these operations, \n",
    "# throw an exception MatrixSizeError;\n",
    "\n",
    "# __mul__ − multiplying a matrix by a matrix, when multiplying by another data type, \n",
    "# throw an exception TypeError. If the sizes of matrices are not suitable for multiplication, \n",
    "# throw an exception MatrixSizeError;\n",
    "\n",
    "# transpose − return a new matrix that is transposed to the current matrix;\n",
    "# for square matrix implement methods tr(trace) and det(determinant, recursively is allowed).\n",
    "# For non-square matrix throw an exception MatrixSizeError"
   ]
  },
  {
   "cell_type": "code",
   "execution_count": 13,
   "metadata": {},
   "outputs": [],
   "source": [
    "import copy\n",
    "class MatrixSizeError(Exception):\n",
    "    pass \n",
    "\n",
    "def handler_matrix_size(func):\n",
    "    def new_func(*args, **kwargs):\n",
    "        if args[0].size() != args[1].size():\n",
    "            raise MatrixSizeError\n",
    "        return func(*args)\n",
    "    return new_func\n",
    "\n",
    "class Matrix:\n",
    "    # Part 1\n",
    "    def __init__(self, matrix):\n",
    "        # matrix is mutable, so we need deep copy \n",
    "        self._matrix = copy.deepcopy(matrix)\n",
    "    \n",
    "    def __str__(self):\n",
    "        return '\\n'.join('\\t'.join(map(str, line)) for line in self._matrix)\n",
    "    \n",
    "    # Part 2\n",
    "    def __eq__(self, other):\n",
    "        if isinstance(other, Matrix):\n",
    "            return self._matrix == other._matrix\n",
    "        else:\n",
    "            raise TypeError \n",
    "        \n",
    "    def size(self):\n",
    "        row = len(self._matrix)\n",
    "        col = len(self._matrix[0])\n",
    "        return row, col\n",
    "    \n",
    "    # Part 3\n",
    "    def __add__(self, other):\n",
    "        if not isinstance(other, Matrix):\n",
    "            raise TypeError\n",
    "\n",
    "        if self.size() != other.size():\n",
    "            raise MatrixSizeError\n",
    "\n",
    "        n_rows, n_cols = self.size()\n",
    "        new_matrix_data = [\n",
    "            [\n",
    "                self._matrix[i][j] + other._matrix[i][j]\n",
    "                for j in range(n_cols)\n",
    "            ]\n",
    "            for i in range(n_rows)\n",
    "        ]\n",
    "        return Matrix(new_matrix_data)\n",
    "\n",
    "    def __sub__(self, other):\n",
    "        if not isinstance(other, Matrix):\n",
    "            raise TypeError\n",
    "\n",
    "        if self.size() != other.size():\n",
    "            raise MatrixSizeError\n",
    "\n",
    "        n_rows, n_cols = self.size()\n",
    "        new_matrix_data = [\n",
    "            [\n",
    "                self._matrix[i][j] - other._matrix[i][j]\n",
    "                for j in range(n_cols)\n",
    "            ]\n",
    "            for i in range(n_rows)\n",
    "        ]\n",
    "        return Matrix(new_matrix_data)\n",
    "\n",
    "    # Part 4\n",
    "    def __mul__(self, other):\n",
    "        if not isinstance(other, Matrix):\n",
    "            raise TypeError\n",
    "\n",
    "        if self.size()[1] != other.size()[0]:\n",
    "            raise MatrixSizeError\n",
    "\n",
    "        new_matrix_data = [\n",
    "            [\n",
    "                sum([\n",
    "                    self._matrix[i][k] * other._matrix[k][j]\n",
    "                    for k in range(self.size()[1])\n",
    "                ])\n",
    "                for j in range(other.size()[1])\n",
    "            ]\n",
    "            for i in range(self.size()[0])\n",
    "        ]\n",
    "        return Matrix(new_matrix_data)\n",
    "\n",
    "    # Part 5\n",
    "    def transpose(self):\n",
    "        n_rows, n_cols = self.size()\n",
    "        new_matrix_data = [\n",
    "            [\n",
    "                self._matrix[i][j]\n",
    "                for i in range(n_rows)\n",
    "            ]\n",
    "            for j in range(n_cols)\n",
    "        ]\n",
    "        return Matrix(new_matrix_data)\n",
    "\n",
    "    # Part 6\n",
    "    def tr(self):\n",
    "        n_rows, n_cols = self.size()\n",
    "        if n_rows != n_cols:\n",
    "            raise MatrixSizeError\n",
    "\n",
    "        return sum([self._matrix[i][i] for i in range(n_rows)])\n",
    "\n",
    "    @staticmethod\n",
    "    def additional_minor(matrix, minor_row, minor_col):\n",
    "        n_rows, n_cols = matrix.size()\n",
    "        new_matrix_data = [\n",
    "            [\n",
    "                matrix._matrix[i][j]\n",
    "                for j in range(n_cols)\n",
    "                if j != minor_col\n",
    "            ]\n",
    "            for i in range(n_rows)\n",
    "            if i != minor_row\n",
    "        ]\n",
    "        return Matrix(new_matrix_data)\n",
    "\n",
    "    def det(self):\n",
    "        n_rows, n_cols = self.size()\n",
    "        if n_rows != n_cols:\n",
    "            raise MatrixSizeError\n",
    "\n",
    "        if n_rows == 1:\n",
    "            return self._matrix[0][0]\n",
    "        else:\n",
    "            return sum([\n",
    "                (-1)**j * self._matrix[0][j] * self.additional_minor(self, 0, j).det()\n",
    "                for j in range(n_cols)\n",
    "            ])\n"
   ]
  },
  {
   "cell_type": "code",
   "execution_count": 14,
   "metadata": {},
   "outputs": [],
   "source": [
    "matrix = [[1,2,3],[7,8,9]]"
   ]
  },
  {
   "cell_type": "code",
   "execution_count": 15,
   "metadata": {},
   "outputs": [],
   "source": [
    "m1 = Matrix(matrix)"
   ]
  },
  {
   "cell_type": "code",
   "execution_count": 16,
   "metadata": {},
   "outputs": [],
   "source": [
    "m2 = Matrix([[1,2,3],[4,5,6]])"
   ]
  },
  {
   "cell_type": "code",
   "execution_count": 17,
   "metadata": {},
   "outputs": [
    {
     "data": {
      "text/plain": [
       "False"
      ]
     },
     "execution_count": 17,
     "metadata": {},
     "output_type": "execute_result"
    }
   ],
   "source": [
    "m1 == m2"
   ]
  },
  {
   "cell_type": "code",
   "execution_count": 18,
   "metadata": {},
   "outputs": [
    {
     "data": {
      "text/plain": [
       "<__main__.Matrix at 0x10fed3fd0>"
      ]
     },
     "execution_count": 18,
     "metadata": {},
     "output_type": "execute_result"
    }
   ],
   "source": [
    "m1 - m2"
   ]
  },
  {
   "cell_type": "code",
   "execution_count": 19,
   "metadata": {},
   "outputs": [
    {
     "data": {
      "text/plain": [
       "[[2, 4, 6], [11, 13, 15]]"
      ]
     },
     "execution_count": 19,
     "metadata": {},
     "output_type": "execute_result"
    }
   ],
   "source": [
    "(m1+m2)._matrix"
   ]
  },
  {
   "cell_type": "code",
   "execution_count": 20,
   "metadata": {},
   "outputs": [
    {
     "data": {
      "text/plain": [
       "[[3, 14], [6, 21]]"
      ]
     },
     "execution_count": 20,
     "metadata": {},
     "output_type": "execute_result"
    }
   ],
   "source": [
    "(Matrix([[1,2],[2,3]]) * Matrix([[1,2],[3,4]]))._matrix"
   ]
  },
  {
   "cell_type": "code",
   "execution_count": 21,
   "metadata": {},
   "outputs": [
    {
     "data": {
      "text/plain": [
       "-1"
      ]
     },
     "execution_count": 21,
     "metadata": {},
     "output_type": "execute_result"
    }
   ],
   "source": [
    "Matrix([[1,2],[2,3]]) .det()"
   ]
  },
  {
   "cell_type": "code",
   "execution_count": 23,
   "metadata": {},
   "outputs": [
    {
     "data": {
      "text/plain": [
       "[[1, 2], [3, 1]]"
      ]
     },
     "execution_count": 23,
     "metadata": {},
     "output_type": "execute_result"
    }
   ],
   "source": [
    "m = Matrix([[1,3],[2,1]])\n",
    "m.transpose()._matrix"
   ]
  },
  {
   "cell_type": "code",
   "execution_count": null,
   "metadata": {},
   "outputs": [],
   "source": []
  },
  {
   "cell_type": "code",
   "execution_count": null,
   "metadata": {},
   "outputs": [],
   "source": []
  }
 ],
 "metadata": {
  "kernelspec": {
   "display_name": "Python 3",
   "language": "python",
   "name": "python3"
  },
  "language_info": {
   "codemirror_mode": {
    "name": "ipython",
    "version": 3
   },
   "file_extension": ".py",
   "mimetype": "text/x-python",
   "name": "python",
   "nbconvert_exporter": "python",
   "pygments_lexer": "ipython3",
   "version": "3.7.3"
  },
  "nbTranslate": {
   "displayLangs": [
    "*"
   ],
   "hotkey": "alt-t",
   "langInMainMenu": true,
   "sourceLang": "en",
   "targetLang": "fr",
   "useGoogleTranslate": true
  },
  "toc": {
   "base_numbering": 1,
   "nav_menu": {},
   "number_sections": true,
   "sideBar": true,
   "skip_h1_title": false,
   "title_cell": "Table of Contents",
   "title_sidebar": "Contents",
   "toc_cell": false,
   "toc_position": {},
   "toc_section_display": true,
   "toc_window_display": false
  },
  "varInspector": {
   "cols": {
    "lenName": 16,
    "lenType": 16,
    "lenVar": 40
   },
   "kernels_config": {
    "python": {
     "delete_cmd_postfix": "",
     "delete_cmd_prefix": "del ",
     "library": "var_list.py",
     "varRefreshCmd": "print(var_dic_list())"
    },
    "r": {
     "delete_cmd_postfix": ") ",
     "delete_cmd_prefix": "rm(",
     "library": "var_list.r",
     "varRefreshCmd": "cat(var_dic_list()) "
    }
   },
   "types_to_exclude": [
    "module",
    "function",
    "builtin_function_or_method",
    "instance",
    "_Feature"
   ],
   "window_display": false
  }
 },
 "nbformat": 4,
 "nbformat_minor": 2
}
