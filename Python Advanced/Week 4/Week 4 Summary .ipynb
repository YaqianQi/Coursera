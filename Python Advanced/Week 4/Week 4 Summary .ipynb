{
 "cells": [
  {
   "cell_type": "markdown",
   "metadata": {},
   "source": [
    "## Introduction to classes"
   ]
  },
  {
   "cell_type": "code",
   "execution_count": null,
   "metadata": {},
   "outputs": [],
   "source": [
    "class A:\n",
    "    def get_self_id(self):\n",
    "        return id(self)\n",
    "    \n",
    "a = A()\n",
    "print(id(a) == a.get_self_id())"
   ]
  },
  {
   "cell_type": "code",
   "execution_count": 17,
   "metadata": {},
   "outputs": [
    {
     "name": "stdout",
     "output_type": "stream",
     "text": [
      "False\n"
     ]
    }
   ],
   "source": [
    "class A:\n",
    "    def get_self_id(self):\n",
    "        return id(self)\n",
    "    \n",
    "b = A()\n",
    "c = A()\n",
    "print(b.get_self_id() == c.get_self_id())"
   ]
  },
  {
   "cell_type": "markdown",
   "metadata": {},
   "source": [
    "## __init__, object fields"
   ]
  },
  {
   "cell_type": "code",
   "execution_count": 63,
   "metadata": {},
   "outputs": [],
   "source": [
    "class User:\n",
    "    # constructor \n",
    "    def __init__(self, first_name, second_name, age):\n",
    "        # \n",
    "        self.first_name = first_name\n",
    "        self.second_name = second_name\n",
    "        self.age = age \n",
    "    def greet(self, phrase):\n",
    "        print(f'{phrase} self:self')\n",
    "        \n",
    "    def set_name(self, new_name):\n",
    "        old_name = self.name\n",
    "        self.name = new_name\n",
    "        print(f'User: {old_name} --> {new_name}')\n",
    "        \n",
    "    def get_name(self):\n",
    "        # You can still implement if something changes \n",
    "        return f'{self.first_name} {self.second_name}'\n",
    "    "
   ]
  },
  {
   "cell_type": "code",
   "execution_count": 64,
   "metadata": {},
   "outputs": [],
   "source": [
    "a = User(\"Yura\",\"shiva\", 24)"
   ]
  },
  {
   "cell_type": "code",
   "execution_count": 66,
   "metadata": {},
   "outputs": [],
   "source": [
    "#a.set_name(\"George\")"
   ]
  },
  {
   "cell_type": "code",
   "execution_count": 67,
   "metadata": {},
   "outputs": [
    {
     "data": {
      "text/plain": [
       "'Yura shiva'"
      ]
     },
     "execution_count": 67,
     "metadata": {},
     "output_type": "execute_result"
    }
   ],
   "source": [
    "a.get_name()"
   ]
  },
  {
   "cell_type": "code",
   "execution_count": 62,
   "metadata": {},
   "outputs": [
    {
     "name": "stdout",
     "output_type": "stream",
     "text": [
      "1\n"
     ]
    }
   ],
   "source": [
    "# quiz 1\n",
    "class Storage:\n",
    "    def __init__(self):\n",
    "        self.data = [0]\n",
    "\n",
    "    def set_data(self, new_data):\n",
    "        self.data = new_data\n",
    "\n",
    "l = []\n",
    "a = Storage()\n",
    "a.set_data(l)\n",
    "l.append(0)\n",
    "print(len(a.data))"
   ]
  },
  {
   "cell_type": "code",
   "execution_count": null,
   "metadata": {},
   "outputs": [],
   "source": [
    "class User:\n",
    "    def __init__(self, name, age):\n",
    "        # emphasis do not access to field \n",
    "        self._name = name\n",
    "        self._age = age\n",
    "        \n",
    "    def set_name(self, new_name):\n",
    "        old_name = self._name\n",
    "        self._name = new_name\n",
    "        print(f'User: {old_name} --> {new_name}')\n",
    "        \n",
    "    def get_name(self):\n",
    "        return self._name"
   ]
  },
  {
   "cell_type": "code",
   "execution_count": 68,
   "metadata": {},
   "outputs": [
    {
     "name": "stdout",
     "output_type": "stream",
     "text": [
      "5\n"
     ]
    }
   ],
   "source": [
    "# quiz 2\n",
    "class Storage:\n",
    "    def __init__(self, data):\n",
    "        self._data = data\n",
    "        \n",
    "    def get_data(self):\n",
    "        return self._data\n",
    "\n",
    "l = []\n",
    "a = Storage(l)\n",
    "b = Storage([])\n",
    "c = Storage(l)\n",
    "\n",
    "a.get_data().append(0)\n",
    "b.get_data().append(0)\n",
    "c.get_data().append(0)\n",
    "\n",
    "print(len(a.get_data()) + len(b.get_data()) + len(c.get_data()))"
   ]
  },
  {
   "cell_type": "code",
   "execution_count": 69,
   "metadata": {},
   "outputs": [
    {
     "data": {
      "text/plain": [
       "[0, 0]"
      ]
     },
     "execution_count": 69,
     "metadata": {},
     "output_type": "execute_result"
    }
   ],
   "source": [
    "a.get_data()"
   ]
  },
  {
   "cell_type": "code",
   "execution_count": 70,
   "metadata": {},
   "outputs": [
    {
     "data": {
      "text/plain": [
       "[0]"
      ]
     },
     "execution_count": 70,
     "metadata": {},
     "output_type": "execute_result"
    }
   ],
   "source": [
    "b.get_data()"
   ]
  },
  {
   "cell_type": "code",
   "execution_count": 71,
   "metadata": {},
   "outputs": [
    {
     "data": {
      "text/plain": [
       "[0, 0]"
      ]
     },
     "execution_count": 71,
     "metadata": {},
     "output_type": "execute_result"
    }
   ],
   "source": [
    "c.get_data()"
   ]
  },
  {
   "cell_type": "markdown",
   "metadata": {},
   "source": [
    "## Class attributes"
   ]
  },
  {
   "cell_type": "code",
   "execution_count": 72,
   "metadata": {},
   "outputs": [],
   "source": [
    "class User:\n",
    "    # global variable, class variable  \n",
    "    password_ttl = 365\n",
    "    \n",
    "    # constructor \n",
    "    def __init__(self, first_name, second_name, age):\n",
    "        # \n",
    "        self._name = name\n",
    "        \n",
    "    def set_name(self, new_name):\n",
    "        self._name = name\n",
    "        print(f'User: {old_name} --> {new_name}')\n",
    "        \n",
    "    def get_name(self):\n",
    "        # You can still implement if something changes \n",
    "        return self._name"
   ]
  },
  {
   "cell_type": "code",
   "execution_count": 87,
   "metadata": {},
   "outputs": [],
   "source": [
    "lines = (f'{x}\\n' for x in (map(str, range(5))))"
   ]
  },
  {
   "cell_type": "code",
   "execution_count": 85,
   "metadata": {},
   "outputs": [
    {
     "name": "stdout",
     "output_type": "stream",
     "text": [
      "0\n",
      "1\n",
      "2\n",
      "3\n",
      "4\n"
     ]
    }
   ],
   "source": [
    "for x in map(lambda x: x.rstrip(), lines):\n",
    "    print(x)"
   ]
  },
  {
   "cell_type": "code",
   "execution_count": 89,
   "metadata": {},
   "outputs": [
    {
     "name": "stdout",
     "output_type": "stream",
     "text": [
      "0\n",
      "1\n",
      "2\n",
      "3\n",
      "4\n"
     ]
    }
   ],
   "source": [
    "for x in map(str.rstrip, lines):\n",
    "    print(x)"
   ]
  },
  {
   "cell_type": "markdown",
   "metadata": {},
   "source": [
    "## Exampe of interaction between classes"
   ]
  },
  {
   "cell_type": "code",
   "execution_count": 97,
   "metadata": {},
   "outputs": [],
   "source": [
    "import random \n",
    "def generate_id():\n",
    "    return random.randint(0, 1000)"
   ]
  },
  {
   "cell_type": "code",
   "execution_count": 179,
   "metadata": {},
   "outputs": [],
   "source": [
    "class User: \n",
    "    def __init__(self, name, age):\n",
    "        self.id = generate_id()\n",
    "        self.name = name\n",
    "        self.age = age \n",
    "        self.friends = {}\n",
    "        users[self.id] = self\n",
    "    def add_friend(self, uid, chat):\n",
    "        self.friends[uid] = chat \n",
    "    def send_message(self, uid, content):\n",
    "        self.friends[uid].send_message(self.id, content)"
   ]
  },
  {
   "cell_type": "code",
   "execution_count": 180,
   "metadata": {},
   "outputs": [],
   "source": [
    "class Chat: \n",
    "    def __init__(self, name, users):\n",
    "        self.id = generate_id()\n",
    "        self.name = name \n",
    "        self.users = users\n",
    "        self.messages = []\n",
    "    def send_message(self, uid, content):\n",
    "        self.messages.append({\"uid\": uid, \"content\": content})"
   ]
  },
  {
   "cell_type": "code",
   "execution_count": 181,
   "metadata": {},
   "outputs": [],
   "source": [
    "def make_friends(first_id, second_id):\n",
    "    first = users[first_id]\n",
    "    second = users[second_id]\n",
    "    chat = Chat(f'private_{first_id}_{second_id}', {first_id, second_id})\n",
    "    first.add_friend(second_id, chat)\n",
    "    second.add_friend(first_id, chat)"
   ]
  },
  {
   "cell_type": "code",
   "execution_count": 182,
   "metadata": {},
   "outputs": [],
   "source": [
    "a = User(\"Yura\", 24)\n",
    "b = User(\"John\", 25)"
   ]
  },
  {
   "cell_type": "code",
   "execution_count": 183,
   "metadata": {},
   "outputs": [],
   "source": [
    "make_friends(a.id, b.id)"
   ]
  },
  {
   "cell_type": "code",
   "execution_count": 185,
   "metadata": {},
   "outputs": [],
   "source": [
    "a.send_message(b.id, \"hello\")"
   ]
  },
  {
   "cell_type": "code",
   "execution_count": 187,
   "metadata": {},
   "outputs": [
    {
     "data": {
      "text/plain": [
       "[{'uid': 250, 'content': 'hello'}]"
      ]
     },
     "execution_count": 187,
     "metadata": {},
     "output_type": "execute_result"
    }
   ],
   "source": [
    "a.friends[b.id].messages"
   ]
  },
  {
   "cell_type": "code",
   "execution_count": null,
   "metadata": {},
   "outputs": [],
   "source": []
  }
 ],
 "metadata": {
  "kernelspec": {
   "display_name": "Python 3",
   "language": "python",
   "name": "python3"
  },
  "language_info": {
   "codemirror_mode": {
    "name": "ipython",
    "version": 3
   },
   "file_extension": ".py",
   "mimetype": "text/x-python",
   "name": "python",
   "nbconvert_exporter": "python",
   "pygments_lexer": "ipython3",
   "version": "3.7.3"
  },
  "nbTranslate": {
   "displayLangs": [
    "*"
   ],
   "hotkey": "alt-t",
   "langInMainMenu": true,
   "sourceLang": "en",
   "targetLang": "fr",
   "useGoogleTranslate": true
  },
  "toc": {
   "base_numbering": 1,
   "nav_menu": {},
   "number_sections": true,
   "sideBar": true,
   "skip_h1_title": false,
   "title_cell": "Table of Contents",
   "title_sidebar": "Contents",
   "toc_cell": false,
   "toc_position": {},
   "toc_section_display": true,
   "toc_window_display": false
  },
  "varInspector": {
   "cols": {
    "lenName": 16,
    "lenType": 16,
    "lenVar": 40
   },
   "kernels_config": {
    "python": {
     "delete_cmd_postfix": "",
     "delete_cmd_prefix": "del ",
     "library": "var_list.py",
     "varRefreshCmd": "print(var_dic_list())"
    },
    "r": {
     "delete_cmd_postfix": ") ",
     "delete_cmd_prefix": "rm(",
     "library": "var_list.r",
     "varRefreshCmd": "cat(var_dic_list()) "
    }
   },
   "types_to_exclude": [
    "module",
    "function",
    "builtin_function_or_method",
    "instance",
    "_Feature"
   ],
   "window_display": false
  }
 },
 "nbformat": 4,
 "nbformat_minor": 2
}
