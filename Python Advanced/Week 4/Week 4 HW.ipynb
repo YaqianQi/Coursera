{
 "cells": [
  {
   "cell_type": "markdown",
   "metadata": {},
   "source": [
    "## Programming Assignment: Flash"
   ]
  },
  {
   "cell_type": "code",
   "execution_count": null,
   "metadata": {},
   "outputs": [],
   "source": [
    "#Write class Flash for modeling work with USB flash drive. Each Flash has limited capacity. \n",
    "#The class should only allow to write files. The class constructor has a parameter capacity.\n",
    "\n",
    "# #Implement method write.\n",
    "# First, it must check that the flash drive has enough memory to write this file, \n",
    "# otherwise it need to throw the ValueError exception. \n",
    "# If there is enough free memory, you need to write the file."
   ]
  },
  {
   "cell_type": "code",
   "execution_count": 55,
   "metadata": {},
   "outputs": [],
   "source": [
    "class Flash:\n",
    "    def __init__(self, capacity):\n",
    "        self.capacity = capacity\n",
    "        self.size = 0\n",
    "\n",
    "    def write(self, v):\n",
    "        if v + self.size > self.capacity:\n",
    "            raise ValueError\n",
    "        else:\n",
    "            self.size += v            "
   ]
  },
  {
   "cell_type": "code",
   "execution_count": 56,
   "metadata": {},
   "outputs": [],
   "source": [
    "f = Flash(15)\n",
    "f.write(12)"
   ]
  },
  {
   "cell_type": "markdown",
   "metadata": {},
   "source": [
    "## Buffer"
   ]
  },
  {
   "cell_type": "code",
   "execution_count": 11,
   "metadata": {},
   "outputs": [],
   "source": [
    "# Implement class Buffer, which accumulates the elements of a sequence and \n",
    "# prints the sum of the elements when it is full. \n",
    "\n",
    "# The class parameter is the maximum size of the buffer.\n",
    "# Once the buffer is filled, you should print the sum of elements in the buffer and empty it.\n",
    "\n",
    "# Elements are added to the buffer using the method add, which takes a sequence of elements, \n",
    "# the number of received elements is unknown and can be larger than the buffer size. \n",
    "# Also implement the method get_current_part, which returns the current buffer state."
   ]
  },
  {
   "cell_type": "code",
   "execution_count": 64,
   "metadata": {},
   "outputs": [],
   "source": [
    "class Buffer:\n",
    "    def __init__(self, max_size):\n",
    "        self.buf = []\n",
    "        self.max_size = max_size\n",
    "\n",
    "    def add(self, *a):\n",
    "        self.buf.extend(a)\n",
    "        while len(self.buf) >= self.max_size:\n",
    "            print(sum(self.buf[:self.max_size]))\n",
    "            self.buf = self.buf[self.max_size:]\n",
    "\n",
    "    def get_current_part(self):\n",
    "        return self.buf"
   ]
  },
  {
   "cell_type": "code",
   "execution_count": 65,
   "metadata": {},
   "outputs": [
    {
     "name": "stdout",
     "output_type": "stream",
     "text": [
      "15\n",
      "40\n",
      "5\n",
      "5\n"
     ]
    },
    {
     "data": {
      "text/plain": [
       "[1]"
      ]
     },
     "execution_count": 65,
     "metadata": {},
     "output_type": "execute_result"
    }
   ],
   "source": [
    "buf = Buffer(max_size=5)\n",
    "buf.add(1, 2, 3)\n",
    "buf.get_current_part()  # return [1, 2, 3]\n",
    "buf.add(4, 5, 6)  # print(15) – print sum of elements [1, 2, 3, 4, 5]\n",
    "buf.get_current_part() # return [6]\n",
    "buf.add(7, 8, 9, 10)  # print(40)\n",
    "buf.get_current_part()  # return []\n",
    "buf.add(1, 1, 1, 1, 1, 1, 1, 1, 1, 1, 1)  # print(5), print(5)\n",
    "buf.get_current_part()  # return [1]"
   ]
  },
  {
   "cell_type": "markdown",
   "metadata": {},
   "source": [
    "## Queue on 2 stacks"
   ]
  },
  {
   "cell_type": "code",
   "execution_count": null,
   "metadata": {},
   "outputs": [],
   "source": [
    "# There is an abstract data type Stack that implements LIFO contract. \n",
    "# The stack has methods push and pop - \n",
    "# add an element to the end of the stack and pick up an element at the end of the stack. \n",
    "# In Python type list implements stack: \n",
    "# push method is replaced by append method, pop method remains the same.\n",
    "\n",
    "# There is an another abstract data type Queue that implements FIFO contract. \n",
    "# The queue also has methods push and pop. \n",
    "# However, method push adds an element to the end of the queue,\n",
    "# and method pop extracts the element from the beginning of the queue. \n",
    "# Using list in this case is not very good because method pop(index=0) method\n",
    "# works over a linear time, but we want the push and pop methods to work over O(1)O(1).\n",
    "\n",
    "# In this task, you need to implement a queue on two stacks.\n",
    "# One stack is used only for writing elements, \n",
    "# and the second stack is used only for extracting elements. \n",
    "# If the method pop is called for an empty queue throw an exception IndexError \n",
    "# with the message 'pop from an empty queue'."
   ]
  },
  {
   "cell_type": "code",
   "execution_count": 126,
   "metadata": {},
   "outputs": [],
   "source": [
    "class Queue:\n",
    "    def __init__(self):\n",
    "        self.stack = []\n",
    "    \n",
    "    def push(self, x):\n",
    "        self.stack.append(x)\n",
    "    def show_stack(self):\n",
    "        return self.stack\n",
    "    def pop(self):\n",
    "        if len(self.stack) == 0: \n",
    "            raise IndexError(\"pop from an empty queue\")\n",
    "        pop_item = self.stack[0]\n",
    "        self.stack = self.stack[1:]\n",
    "        return pop_item"
   ]
  },
  {
   "cell_type": "code",
   "execution_count": 98,
   "metadata": {},
   "outputs": [
    {
     "data": {
      "text/plain": [
       "3"
      ]
     },
     "execution_count": 98,
     "metadata": {},
     "output_type": "execute_result"
    }
   ],
   "source": [
    "queue = Queue()\n",
    "#queue.pop()  # IndexError('pop from an empty queue')\n",
    "\n",
    "queue.push(3)\n",
    "queue.push(5)\n",
    "queue.push(7)\n",
    "queue.push(9)\n",
    "\n",
    "queue.show_stack()\n",
    "queue.pop()  # return 3\n",
    "queue.pop()  # return 5\n",
    "queue.pop()  # return 7\n",
    "queue.pop()  # return 9\n",
    "queue.pop()  # IndexError('pop from an empty queue')\n"
   ]
  },
  {
   "cell_type": "markdown",
   "metadata": {},
   "source": [
    "## CountVectorizer"
   ]
  },
  {
   "cell_type": "code",
   "execution_count": null,
   "metadata": {},
   "outputs": [],
   "source": [
    "# Most traditional machine learning algorithms work with structured data\n",
    "# (numbers, categories, boolean data).\n",
    "# But how to work with sequences? We can vectorize this sequence: \n",
    "# cut the sequence into pieces and increment the value on the corresponding index in the vector.\n",
    "# In this task, you need to write a class for vectorizing strings. \n",
    "# The work of the class will be tested on genomic chains.\n",
    "\n",
    "# An important parameter is ngram_size.\n",
    "# It is responsible for what size we need to take the pieces of the string, will call them tokens.\n",
    "# For ngram_size = 44: 'TTTCTGCCA' \\rightarrow→ ['TTTC', 'TTCT', 'TCTG', 'CTGC', 'TGCC', 'GCCA']. \n",
    "# To encode tokens into indexes, first sort them in lexicographic order, \n",
    "# and then give integer indexes starting from zero in the same order.\n",
    "# Tokens can appear more than once in one row, so we will count the total number of each token \n",
    "# in this row. The list of strings is usually called a corpus. \n",
    "# The dictionary for converting tokens to indexes is built for the entire corpus. \n",
    "# Example of transformation:"
   ]
  },
  {
   "cell_type": "code",
   "execution_count": 16,
   "metadata": {},
   "outputs": [],
   "source": [
    "from collections import OrderedDict \n",
    "class CountVectorizer:\n",
    "    \"\"\"\n",
    "    __init__ − take the parameter ngram_size and save it as an attribute of the class;\n",
    "    fit − build a dictionary \"token to index\" from the input corpus \n",
    "          and save it as an attribute of the class;\n",
    "    transform − transform a new corpus based on a saved dictionary, should return a list of lists. \n",
    "                If some token from the new corpus is not represented in the dictionary,\n",
    "                then you need to ignore it;\n",
    "    fit_transform − fit and transform on the same corpus, should return a list of lists.\n",
    "\n",
    "    \"\"\"\n",
    "    def __init__(self, ngram_size):\n",
    "        self.ngram_size = ngram_size\n",
    "        \n",
    "        self.vocab = OrderedDict()\n",
    "        \n",
    "    def fit(self, corpus):\n",
    "        corpus = sorted(corpus)\n",
    "        token_set = set()\n",
    "        for s in corpus:\n",
    "            for i in range(self.ngram_size, len(s) + 1):\n",
    "                token = s[i - self.ngram_size : i]\n",
    "                token_set.add(token)\n",
    "        \n",
    "        for idx, val in enumerate(sorted(token_set)):\n",
    "            self.vocab[val] = idx\n",
    "        \n",
    "    def transform(self, corpus):\n",
    "        transformation = []\n",
    "        for s in corpus:\n",
    "            temp_list = [0 for x in range(len(self.vocab))]\n",
    "            for i in range(self.ngram_size, len(s) + 1):\n",
    "                token = s[i - self.ngram_size : i]\n",
    "                if token in self.vocab: \n",
    "                    idx = self.vocab[token]\n",
    "                    temp_list[idx] += 1\n",
    "            transformation.append(temp_list)\n",
    "        return transformation\n",
    "    \n",
    "    def fit_transform(self, corpus):\n",
    "        self.vocab = OrderedDict()\n",
    "        self.fit(corpus)\n",
    "        return self.transform(corpus)"
   ]
  },
  {
   "cell_type": "code",
   "execution_count": 17,
   "metadata": {},
   "outputs": [
    {
     "data": {
      "text/plain": [
       "True"
      ]
     },
     "execution_count": 17,
     "metadata": {},
     "output_type": "execute_result"
    }
   ],
   "source": [
    "corpus = [\n",
    "    'AATACAT',  # 'AA', 'AT', 'TA', 'AC', 'CA', 'AT'\n",
    "    'CTACCCT',  # 'CT', 'TA', 'AC', 'CC', 'CC', 'CT'\n",
    "    'TACCTAC',  # 'TA', 'AC', 'CC', 'CT', 'TA', 'AC'\n",
    "]\n",
    "\n",
    "correct_transformation = [\n",
    "    [1, 1, 2, 1, 0, 0, 1],\n",
    "    [0, 1, 0, 0, 2, 2, 1],\n",
    "    [0, 2, 0, 0, 1, 1, 2],\n",
    "]\n",
    "\n",
    "# case 1\n",
    "vectorizer = CountVectorizer(ngram_size=2)\n",
    "vectorizer.fit(corpus)\n",
    "vectorizer.transform(corpus) == correct_transformation  # True"
   ]
  },
  {
   "cell_type": "code",
   "execution_count": 18,
   "metadata": {},
   "outputs": [
    {
     "data": {
      "text/plain": [
       "True"
      ]
     },
     "execution_count": 18,
     "metadata": {},
     "output_type": "execute_result"
    }
   ],
   "source": [
    "vectorizer = CountVectorizer(ngram_size=2)\n",
    "vectorizer.fit_transform(corpus) == correct_transformation  # True"
   ]
  },
  {
   "cell_type": "code",
   "execution_count": 19,
   "metadata": {},
   "outputs": [
    {
     "data": {
      "text/plain": [
       "True"
      ]
     },
     "execution_count": 19,
     "metadata": {},
     "output_type": "execute_result"
    }
   ],
   "source": [
    "# case 3\n",
    "corpus_2 = ['TCAATCAC', 'GGGGGGGGGGG', 'AAAA']\n",
    "vectorizer = CountVectorizer(ngram_size=2)\n",
    "vectorizer.fit(corpus)\n",
    "vectorizer.transform(corpus_2) == [\n",
    "    [1, 1, 1, 2, 0, 0, 0],\n",
    "    [0, 0, 0, 0, 0, 0, 0],\n",
    "    [3, 0, 0, 0, 0, 0, 0]\n",
    "]  # True"
   ]
  },
  {
   "cell_type": "markdown",
   "metadata": {},
   "source": [
    "## Optional practical tasks"
   ]
  },
  {
   "cell_type": "code",
   "execution_count": null,
   "metadata": {},
   "outputs": [],
   "source": []
  },
  {
   "cell_type": "code",
   "execution_count": null,
   "metadata": {},
   "outputs": [],
   "source": [
    "# Rules:\n",
    "\n",
    "# These tasks are optional. They do not affect your grade. You can solve any number of tasks.\n",
    "# Don't share your solutions with other students.\n",
    "# No grader or testing system. You can share your test cases for tasks. \n",
    "# Do it publicly for a greater number of students. Corresponding thread on the forum.\n",
    "# Send your solutions as a single zip archive to mds-support@hse.ru until April 25, 10 AM MSK \n",
    "# with topic Python_Advanced_optional_tasks. \n",
    "# Name your files by the template {task_number}_{your_name}.py and pack them to one zip archive.\n",
    "# We will not do a personal code review. We will collect common mistakes and analyze them. \n",
    "# We will also show you our solution and the solution process on the webinar on April 25, 5 PM MSK.\n",
    "# Try to write clear and efficient code.\n",
    "# Have fun!"
   ]
  },
  {
   "cell_type": "markdown",
   "metadata": {},
   "source": [
    "### 1. Mean"
   ]
  },
  {
   "cell_type": "code",
   "execution_count": 9,
   "metadata": {},
   "outputs": [],
   "source": [
    "def mean(array):\n",
    "    # for an empty array return nan (use the module math)\n",
    "    return sum(array)/len(array)\n",
    "\n",
    "assert mean([1.0, 1.0, 1.0, 1.0]) == 1.0\n",
    "assert mean([0.0, 1.0, 2.0, 3.0, 4.0, 5.0]) == 2.5"
   ]
  },
  {
   "cell_type": "markdown",
   "metadata": {},
   "source": [
    "### 2. STD"
   ]
  },
  {
   "cell_type": "code",
   "execution_count": 10,
   "metadata": {},
   "outputs": [],
   "source": [
    "def std(array):\n",
    "    mean_val = mean(array)\n",
    "    n = len(array)\n",
    "    return np.sqrt(sum([1/n * (x - mean_val)**2 for x in array]))\n",
    "\n",
    "# Examples:\n",
    "assert std([1.0, 1.0, 1.0, 1.0]) == 0.0\n",
    "assert round(std([0.0, 1.0, 2.0, 3.0, 4.0, 5.0]), 6) == 1.707825"
   ]
  },
  {
   "cell_type": "markdown",
   "metadata": {},
   "source": [
    "### 3. Remove consecutive duplicates"
   ]
  },
  {
   "cell_type": "code",
   "execution_count": 17,
   "metadata": {},
   "outputs": [],
   "source": [
    "def remove_consecutive_duplicates(array):\n",
    "    res = []\n",
    "    i = 0\n",
    "    while i < len(array):\n",
    "        res.append(array[i])\n",
    "        while i + 1 < len(array) and array[i+1] == array[i]:\n",
    "            i += 1\n",
    "        i += 1\n",
    "    return res\n",
    "            \n",
    "\n",
    "# Examples:\n",
    "assert remove_consecutive_duplicates([1, 1, 2, 2]) == [1, 2]\n",
    "assert remove_consecutive_duplicates([1, 1, 2, 2, 1, 1]) == [1, 2, 1]"
   ]
  },
  {
   "cell_type": "markdown",
   "metadata": {},
   "source": [
    " ### 4. RLE. Implement run-length encoding for an array of integers."
   ]
  },
  {
   "cell_type": "code",
   "execution_count": 35,
   "metadata": {},
   "outputs": [],
   "source": [
    "from collections import OrderedDict \n",
    "def run_length_encode(array):\n",
    "    word_count_dict = {}\n",
    "    for x in array: \n",
    "        word_count_dict[x] = word_count_dict.setdefault(x, 0) + 1\n",
    "    \n",
    "    return sorted(list(word_count_dict.items()), key=lambda x: x[0])\n",
    "    \n",
    "run_length_encode([1,2,3])\n",
    "# Examples:\n",
    "assert run_length_encode([1, 1, 1, 1]) == [(1, 4)]\n",
    "assert run_length_encode([1, 3, 3, 3, 4, 4, 5]) == [(1, 1), (3, 3), (4, 2), (5, 1)]"
   ]
  },
  {
   "cell_type": "markdown",
   "metadata": {},
   "source": [
    "### 5. JOIN. "
   ]
  },
  {
   "cell_type": "code",
   "execution_count": 112,
   "metadata": {},
   "outputs": [],
   "source": [
    "lst1 = [[1, 2],\n",
    "        [3, 4],\n",
    "        [5, 6]]\n",
    "lst2 = [[1, 3],\n",
    "        [3, 5],\n",
    "        [7, 9]]\n",
    "method = \"INNER\" #left # Right "
   ]
  },
  {
   "cell_type": "markdown",
   "metadata": {},
   "source": [
    "### 6. Max session count."
   ]
  },
  {
   "cell_type": "code",
   "execution_count": 114,
   "metadata": {},
   "outputs": [],
   "source": [
    "# You are given a list of user session.\n",
    "# Every session is described with two integers: the time, when the session started and \n",
    "# the time, when the session ended. \n",
    "# Your task is to find the maximum number of sessions that were active simultaneously."
   ]
  },
  {
   "cell_type": "code",
   "execution_count": 121,
   "metadata": {},
   "outputs": [],
   "source": [
    "def count_simultaneous(sessions):\n",
    "    sessions.sort()\n",
    "\n",
    "    start = sessions[0][0]\n",
    "    end = sessions[0][1]\n",
    "    cnt = 0\n",
    "    for session in sessions:\n",
    "        if session[0] < end :\n",
    "            end = min(session[1], end)\n",
    "            cnt += 1\n",
    "    return cnt"
   ]
  },
  {
   "cell_type": "code",
   "execution_count": 122,
   "metadata": {
    "scrolled": true
   },
   "outputs": [
    {
     "data": {
      "text/plain": [
       "3"
      ]
     },
     "execution_count": 122,
     "metadata": {},
     "output_type": "execute_result"
    }
   ],
   "source": [
    "sessions = [[3, 4],\n",
    "            [1, 6],\n",
    "            [0, 7]]\n",
    "# cnt = 3|\n",
    "count_simultaneous(sessions)"
   ]
  },
  {
   "cell_type": "code",
   "execution_count": 123,
   "metadata": {},
   "outputs": [
    {
     "data": {
      "text/plain": [
       "2"
      ]
     },
     "execution_count": 123,
     "metadata": {},
     "output_type": "execute_result"
    }
   ],
   "source": [
    "sessions = [[3, 4],\n",
    "            [1, 2],\n",
    "            [0, 7]]\n",
    "# cnt = 2\n",
    "count_simultaneous(sessions)"
   ]
  },
  {
   "cell_type": "code",
   "execution_count": 124,
   "metadata": {},
   "outputs": [
    {
     "data": {
      "text/plain": [
       "3"
      ]
     },
     "execution_count": 124,
     "metadata": {},
     "output_type": "execute_result"
    }
   ],
   "source": [
    "sessions = [[4, 5],\n",
    "            [0, 3],\n",
    "            [1, 9],\n",
    "            [7, 8],\n",
    "            [2 ,6]]\n",
    "# cnt = 3\n",
    "count_simultaneous(sessions)"
   ]
  },
  {
   "cell_type": "code",
   "execution_count": 125,
   "metadata": {},
   "outputs": [
    {
     "data": {
      "text/plain": [
       "2"
      ]
     },
     "execution_count": 125,
     "metadata": {},
     "output_type": "execute_result"
    }
   ],
   "source": [
    "sessions = [[3, 4],\n",
    "            [1, 2],\n",
    "            [0, 7]]\n",
    "# cnt = 2\n",
    "count_simultaneous(sessions)"
   ]
  },
  {
   "cell_type": "code",
   "execution_count": null,
   "metadata": {},
   "outputs": [],
   "source": []
  },
  {
   "cell_type": "code",
   "execution_count": null,
   "metadata": {},
   "outputs": [],
   "source": []
  }
 ],
 "metadata": {
  "kernelspec": {
   "display_name": "Python 3",
   "language": "python",
   "name": "python3"
  },
  "language_info": {
   "codemirror_mode": {
    "name": "ipython",
    "version": 3
   },
   "file_extension": ".py",
   "mimetype": "text/x-python",
   "name": "python",
   "nbconvert_exporter": "python",
   "pygments_lexer": "ipython3",
   "version": "3.7.3"
  },
  "nbTranslate": {
   "displayLangs": [
    "*"
   ],
   "hotkey": "alt-t",
   "langInMainMenu": true,
   "sourceLang": "en",
   "targetLang": "fr",
   "useGoogleTranslate": true
  },
  "toc": {
   "base_numbering": 1,
   "nav_menu": {},
   "number_sections": true,
   "sideBar": true,
   "skip_h1_title": false,
   "title_cell": "Table of Contents",
   "title_sidebar": "Contents",
   "toc_cell": false,
   "toc_position": {},
   "toc_section_display": true,
   "toc_window_display": false
  },
  "varInspector": {
   "cols": {
    "lenName": 16,
    "lenType": 16,
    "lenVar": 40
   },
   "kernels_config": {
    "python": {
     "delete_cmd_postfix": "",
     "delete_cmd_prefix": "del ",
     "library": "var_list.py",
     "varRefreshCmd": "print(var_dic_list())"
    },
    "r": {
     "delete_cmd_postfix": ") ",
     "delete_cmd_prefix": "rm(",
     "library": "var_list.r",
     "varRefreshCmd": "cat(var_dic_list()) "
    }
   },
   "types_to_exclude": [
    "module",
    "function",
    "builtin_function_or_method",
    "instance",
    "_Feature"
   ],
   "window_display": false
  }
 },
 "nbformat": 4,
 "nbformat_minor": 2
}
