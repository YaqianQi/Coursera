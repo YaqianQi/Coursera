{
 "cells": [
  {
   "cell_type": "markdown",
   "metadata": {},
   "source": [
    "# Debug Binary "
   ]
  },
  {
   "cell_type": "markdown",
   "metadata": {},
   "source": [
    "## Debug 1 "
   ]
  },
  {
   "cell_type": "code",
   "execution_count": 13,
   "metadata": {},
   "outputs": [],
   "source": [
    "# origin debug function \n",
    "def bsearch1(arr, key):\n",
    "    low, high = 0, len(arr)\n",
    "    while high - low > 1:\n",
    "        mid = (low + high) // 2\n",
    "        if arr[mid] == key:\n",
    "            return mid\n",
    "        elif arr[mid] < key:\n",
    "            low = mid\n",
    "        else:\n",
    "            high = mid\n",
    "    return None"
   ]
  },
  {
   "cell_type": "code",
   "execution_count": 16,
   "metadata": {},
   "outputs": [],
   "source": [
    "def bsearch_debug(arr, key):\n",
    "    low, high = 0, len(arr)\n",
    "    while high > 1 + low: \n",
    "        mid = (low + high) // 2\n",
    "        if arr[mid] == key:\n",
    "             return mid \n",
    "        elif arr[mid] < key: \n",
    "            low = mid\n",
    "        else: \n",
    "            high = mid \n",
    "    if arr[low] == key: \n",
    "         return low \n",
    "    elif arr[high] == key: \n",
    "        return high\n",
    "    return None"
   ]
  },
  {
   "cell_type": "code",
   "execution_count": 156,
   "metadata": {},
   "outputs": [
    {
     "name": "stdout",
     "output_type": "stream",
     "text": [
      "None\n"
     ]
    }
   ],
   "source": [
    "s = bsearch1([1,2,3], 1)\n",
    "print(s)"
   ]
  },
  {
   "cell_type": "code",
   "execution_count": 157,
   "metadata": {},
   "outputs": [
    {
     "name": "stdout",
     "output_type": "stream",
     "text": [
      "0\n"
     ]
    }
   ],
   "source": [
    "s2 = bsearch_debug([1,2,3], 1)\n",
    "print(s2)"
   ]
  },
  {
   "cell_type": "markdown",
   "metadata": {},
   "source": [
    "1. bug: the algorithm doesn't work for the target value on the first element.\n",
    "Input: arr = [1], key = 1, exp output: 0, before debug: None. Input: arr = [2,3,4,5], key = 2, output: 0.   \n",
    "\n",
    "2. suggestion: we can add an if statement to see whether the corner point satisfied the requirement \n",
    "\n",
    "3. Natural test: we can put some corner cases to test the algorithm. Input: arr = [1], key = 1, exp output: 0, before debug: None. Input: arr = [2,3,4,5], key = 2, output: 0.  "
   ]
  },
  {
   "cell_type": "markdown",
   "metadata": {},
   "source": [
    "## Debug 2"
   ]
  },
  {
   "cell_type": "code",
   "execution_count": 160,
   "metadata": {},
   "outputs": [],
   "source": [
    "# origin debug function \n",
    "def bsearch2(arr, key, left=0, right=None):\n",
    "    if right is None:\n",
    "        right = len(arr)\n",
    "    if right < left:\n",
    "        return None\n",
    "    middle = (left + right) >> 1\n",
    "    if arr[middle] > key:\n",
    "        return bsearch2(arr, key, left, middle)\n",
    "    if arr[middle] < key:\n",
    "        return bsearch2(arr, key, middle + 1, right)\n",
    "    return middle"
   ]
  },
  {
   "cell_type": "code",
   "execution_count": 161,
   "metadata": {},
   "outputs": [],
   "source": [
    "def bsearch2_debug(arr, key, left=0, right=None): \n",
    "    if right is None: \n",
    "        right = len(arr) - 1 \n",
    "    if right < left: \n",
    "        return None \n",
    "    middle = (left + right) >> 1 \n",
    "    if arr[middle] > key:\n",
    "        return bsearch2(arr, key, left, middle-1) \n",
    "    if arr[middle] < key:\n",
    "        return bsearch2(arr, key, middle + 1, right)\n",
    "    return middle"
   ]
  },
  {
   "cell_type": "code",
   "execution_count": 162,
   "metadata": {},
   "outputs": [
    {
     "ename": "IndexError",
     "evalue": "list index out of range",
     "output_type": "error",
     "traceback": [
      "\u001b[0;31m---------------------------------------------------------------------------\u001b[0m",
      "\u001b[0;31mIndexError\u001b[0m                                Traceback (most recent call last)",
      "\u001b[0;32m<ipython-input-162-f67673ecddbc>\u001b[0m in \u001b[0;36m<module>\u001b[0;34m\u001b[0m\n\u001b[0;32m----> 1\u001b[0;31m \u001b[0mbsearch2\u001b[0m\u001b[0;34m(\u001b[0m\u001b[0marr\u001b[0m \u001b[0;34m=\u001b[0m \u001b[0;34m[\u001b[0m\u001b[0;36m1\u001b[0m\u001b[0;34m,\u001b[0m\u001b[0;36m2\u001b[0m\u001b[0;34m,\u001b[0m\u001b[0;36m3\u001b[0m\u001b[0;34m,\u001b[0m\u001b[0;36m4\u001b[0m\u001b[0;34m,\u001b[0m\u001b[0;36m5\u001b[0m\u001b[0;34m]\u001b[0m\u001b[0;34m,\u001b[0m \u001b[0mkey\u001b[0m \u001b[0;34m=\u001b[0m \u001b[0;36m9\u001b[0m \u001b[0;34m,\u001b[0m\u001b[0mleft\u001b[0m\u001b[0;34m=\u001b[0m\u001b[0;36m0\u001b[0m\u001b[0;34m,\u001b[0m \u001b[0mright\u001b[0m\u001b[0;34m=\u001b[0m\u001b[0;32mNone\u001b[0m\u001b[0;34m)\u001b[0m\u001b[0;34m\u001b[0m\u001b[0;34m\u001b[0m\u001b[0m\n\u001b[0m",
      "\u001b[0;32m<ipython-input-160-c2a9eaaac192>\u001b[0m in \u001b[0;36mbsearch2\u001b[0;34m(arr, key, left, right)\u001b[0m\n\u001b[1;32m      9\u001b[0m         \u001b[0;32mreturn\u001b[0m \u001b[0mbsearch2\u001b[0m\u001b[0;34m(\u001b[0m\u001b[0marr\u001b[0m\u001b[0;34m,\u001b[0m \u001b[0mkey\u001b[0m\u001b[0;34m,\u001b[0m \u001b[0mleft\u001b[0m\u001b[0;34m,\u001b[0m \u001b[0mmiddle\u001b[0m\u001b[0;34m)\u001b[0m\u001b[0;34m\u001b[0m\u001b[0;34m\u001b[0m\u001b[0m\n\u001b[1;32m     10\u001b[0m     \u001b[0;32mif\u001b[0m \u001b[0marr\u001b[0m\u001b[0;34m[\u001b[0m\u001b[0mmiddle\u001b[0m\u001b[0;34m]\u001b[0m \u001b[0;34m<\u001b[0m \u001b[0mkey\u001b[0m\u001b[0;34m:\u001b[0m\u001b[0;34m\u001b[0m\u001b[0;34m\u001b[0m\u001b[0m\n\u001b[0;32m---> 11\u001b[0;31m         \u001b[0;32mreturn\u001b[0m \u001b[0mbsearch2\u001b[0m\u001b[0;34m(\u001b[0m\u001b[0marr\u001b[0m\u001b[0;34m,\u001b[0m \u001b[0mkey\u001b[0m\u001b[0;34m,\u001b[0m \u001b[0mmiddle\u001b[0m \u001b[0;34m+\u001b[0m \u001b[0;36m1\u001b[0m\u001b[0;34m,\u001b[0m \u001b[0mright\u001b[0m\u001b[0;34m)\u001b[0m\u001b[0;34m\u001b[0m\u001b[0;34m\u001b[0m\u001b[0m\n\u001b[0m\u001b[1;32m     12\u001b[0m     \u001b[0;32mreturn\u001b[0m \u001b[0mmiddle\u001b[0m\u001b[0;34m\u001b[0m\u001b[0;34m\u001b[0m\u001b[0m\n",
      "\u001b[0;32m<ipython-input-160-c2a9eaaac192>\u001b[0m in \u001b[0;36mbsearch2\u001b[0;34m(arr, key, left, right)\u001b[0m\n\u001b[1;32m      9\u001b[0m         \u001b[0;32mreturn\u001b[0m \u001b[0mbsearch2\u001b[0m\u001b[0;34m(\u001b[0m\u001b[0marr\u001b[0m\u001b[0;34m,\u001b[0m \u001b[0mkey\u001b[0m\u001b[0;34m,\u001b[0m \u001b[0mleft\u001b[0m\u001b[0;34m,\u001b[0m \u001b[0mmiddle\u001b[0m\u001b[0;34m)\u001b[0m\u001b[0;34m\u001b[0m\u001b[0;34m\u001b[0m\u001b[0m\n\u001b[1;32m     10\u001b[0m     \u001b[0;32mif\u001b[0m \u001b[0marr\u001b[0m\u001b[0;34m[\u001b[0m\u001b[0mmiddle\u001b[0m\u001b[0;34m]\u001b[0m \u001b[0;34m<\u001b[0m \u001b[0mkey\u001b[0m\u001b[0;34m:\u001b[0m\u001b[0;34m\u001b[0m\u001b[0;34m\u001b[0m\u001b[0m\n\u001b[0;32m---> 11\u001b[0;31m         \u001b[0;32mreturn\u001b[0m \u001b[0mbsearch2\u001b[0m\u001b[0;34m(\u001b[0m\u001b[0marr\u001b[0m\u001b[0;34m,\u001b[0m \u001b[0mkey\u001b[0m\u001b[0;34m,\u001b[0m \u001b[0mmiddle\u001b[0m \u001b[0;34m+\u001b[0m \u001b[0;36m1\u001b[0m\u001b[0;34m,\u001b[0m \u001b[0mright\u001b[0m\u001b[0;34m)\u001b[0m\u001b[0;34m\u001b[0m\u001b[0;34m\u001b[0m\u001b[0m\n\u001b[0m\u001b[1;32m     12\u001b[0m     \u001b[0;32mreturn\u001b[0m \u001b[0mmiddle\u001b[0m\u001b[0;34m\u001b[0m\u001b[0;34m\u001b[0m\u001b[0m\n",
      "\u001b[0;32m<ipython-input-160-c2a9eaaac192>\u001b[0m in \u001b[0;36mbsearch2\u001b[0;34m(arr, key, left, right)\u001b[0m\n\u001b[1;32m      6\u001b[0m         \u001b[0;32mreturn\u001b[0m \u001b[0;32mNone\u001b[0m\u001b[0;34m\u001b[0m\u001b[0;34m\u001b[0m\u001b[0m\n\u001b[1;32m      7\u001b[0m     \u001b[0mmiddle\u001b[0m \u001b[0;34m=\u001b[0m \u001b[0;34m(\u001b[0m\u001b[0mleft\u001b[0m \u001b[0;34m+\u001b[0m \u001b[0mright\u001b[0m\u001b[0;34m)\u001b[0m \u001b[0;34m>>\u001b[0m \u001b[0;36m1\u001b[0m\u001b[0;34m\u001b[0m\u001b[0;34m\u001b[0m\u001b[0m\n\u001b[0;32m----> 8\u001b[0;31m     \u001b[0;32mif\u001b[0m \u001b[0marr\u001b[0m\u001b[0;34m[\u001b[0m\u001b[0mmiddle\u001b[0m\u001b[0;34m]\u001b[0m \u001b[0;34m>\u001b[0m \u001b[0mkey\u001b[0m\u001b[0;34m:\u001b[0m\u001b[0;34m\u001b[0m\u001b[0;34m\u001b[0m\u001b[0m\n\u001b[0m\u001b[1;32m      9\u001b[0m         \u001b[0;32mreturn\u001b[0m \u001b[0mbsearch2\u001b[0m\u001b[0;34m(\u001b[0m\u001b[0marr\u001b[0m\u001b[0;34m,\u001b[0m \u001b[0mkey\u001b[0m\u001b[0;34m,\u001b[0m \u001b[0mleft\u001b[0m\u001b[0;34m,\u001b[0m \u001b[0mmiddle\u001b[0m\u001b[0;34m)\u001b[0m\u001b[0;34m\u001b[0m\u001b[0;34m\u001b[0m\u001b[0m\n\u001b[1;32m     10\u001b[0m     \u001b[0;32mif\u001b[0m \u001b[0marr\u001b[0m\u001b[0;34m[\u001b[0m\u001b[0mmiddle\u001b[0m\u001b[0;34m]\u001b[0m \u001b[0;34m<\u001b[0m \u001b[0mkey\u001b[0m\u001b[0;34m:\u001b[0m\u001b[0;34m\u001b[0m\u001b[0;34m\u001b[0m\u001b[0m\n",
      "\u001b[0;31mIndexError\u001b[0m: list index out of range"
     ]
    }
   ],
   "source": [
    "bsearch2(arr = [1,2,3,4,5], key = 9 ,left=0, right=None)"
   ]
  },
  {
   "cell_type": "code",
   "execution_count": 164,
   "metadata": {},
   "outputs": [
    {
     "name": "stdout",
     "output_type": "stream",
     "text": [
      "None\n"
     ]
    }
   ],
   "source": [
    "s3 = bsearch2_debug(arr = [1,2,3,4,5], key = 9 ,left=0, right=None)\n",
    "print(s3)"
   ]
  },
  {
   "cell_type": "markdown",
   "metadata": {},
   "source": [
    "1.bug: oversearch the arr. raise IndexError  \n",
    "\n",
    "2. suggestion: the stop condition is right < left, in other words, the algorithm searches while (right >= left). Since there is an overlap between the left and right areas. The search area should not be the length of the arr, or it risks over searching. To fix it, we need to reduce the search area and place the left and right sides appropriately. (right = len(arr) - 1,     if arr[middle] > key: return bsearch2(arr, key, left, middle-1)) \n",
    "\n",
    "3. Natural test: arr = [1,2,3,4,5], key = 9,  exp output = None, before debug: raise IndexError  \n"
   ]
  },
  {
   "cell_type": "markdown",
   "metadata": {},
   "source": [
    "## Debug 3"
   ]
  },
  {
   "cell_type": "code",
   "execution_count": 2,
   "metadata": {},
   "outputs": [],
   "source": [
    "import matplotlib.pyplot as plt\n",
    "import random\n",
    "import time"
   ]
  },
  {
   "cell_type": "code",
   "execution_count": 3,
   "metadata": {},
   "outputs": [],
   "source": [
    "def bsearch3(arr, key):\n",
    "    n = len(arr)\n",
    "    if n < 2:\n",
    "        return (0 if (n == 1 and arr[0] == key) else None)\n",
    "    m = int(0.5 * n)\n",
    "    if arr[m] > key:\n",
    "        return bsearch3(arr[:m], key)\n",
    "    result = bsearch3(arr[m:], key)\n",
    "    if result!= None:\n",
    "        return result + m\n",
    "    else:\n",
    "        return result "
   ]
  },
  {
   "cell_type": "code",
   "execution_count": 4,
   "metadata": {},
   "outputs": [],
   "source": [
    "def bs1(A, t):\n",
    "    l = 0\n",
    "    r = len(A)-1\n",
    "    while(l <= r):\n",
    "        mid = (l+r)//2\n",
    "        if A[mid] == t:\n",
    "            return mid\n",
    "        if A[mid] > t:\n",
    "            r = mid-1\n",
    "        else:\n",
    "            l = mid +1 \n",
    "    return -1"
   ]
  },
  {
   "cell_type": "code",
   "execution_count": 73,
   "metadata": {},
   "outputs": [],
   "source": [
    "def generate_random_lst(size, right_border):\n",
    "    numList = []\n",
    "    for i in range(0, size):\n",
    "        numList.append(random.randint(0, right_border))\n",
    "    return sorted(numList)"
   ]
  },
  {
   "cell_type": "code",
   "execution_count": 165,
   "metadata": {},
   "outputs": [],
   "source": [
    "def main():\n",
    "    time_lst = []\n",
    "\n",
    "    # We do 10000 trials for each value of n\n",
    "    for size in range(4000):\n",
    "        sumSlicingBinaryTime = 0  # total time, over 100 trials, that slicing recursive binarySearch takes\n",
    "        sumONTime = 0  # total time, over 100 trials, that standard binarySearch takes\n",
    "        for right_border in range(0, 10):\n",
    "            # print(size, right_border)\n",
    "            numList = generate_random_lst(size, right_border) # generate random test with size and border\n",
    "\n",
    "            # Generate a number to search for\n",
    "            x = random.randint(0, right_border)\n",
    "\n",
    "            # Compute the time it takes for recursive binarySearch \n",
    "            sbt = time.time()\n",
    "            slicingbinaryFound = bsearch3(numList,x)\n",
    "            ebt = time.time()\n",
    "            elapsedSlicingBinaryTime = ebt - sbt\n",
    "\n",
    "            # Compute the time it takes for lstandard binarySearch\n",
    "            slt = time.time()\n",
    "            onFound = bs1(numList, x)\n",
    "            elt = time.time()\n",
    "            elapsedONTime = elt - slt\n",
    "\n",
    "            sumSlicingBinaryTime  += elapsedSlicingBinaryTime\n",
    "            sumONTime += elapsedONTime\n",
    "            \n",
    "        time_lst.append((sumSlicingBinaryTime, sumONTime))\n",
    "    times = round(sumSlicingBinaryTime/sumONTime)  \n",
    "    \n",
    "    print(f\"slicing is {times} time compare with standard binary search \")\n",
    "    return time_lst "
   ]
  },
  {
   "cell_type": "code",
   "execution_count": 166,
   "metadata": {
    "scrolled": true
   },
   "outputs": [
    {
     "name": "stdout",
     "output_type": "stream",
     "text": [
      "slicing is 10 time compare with standard binary search \n"
     ]
    }
   ],
   "source": [
    "time_lst = main()"
   ]
  },
  {
   "cell_type": "code",
   "execution_count": 167,
   "metadata": {},
   "outputs": [],
   "source": [
    "recursive_search = [x[0] for x in time_lst]\n",
    "regular_search = [x[1] for x in time_lst]"
   ]
  },
  {
   "cell_type": "code",
   "execution_count": 168,
   "metadata": {},
   "outputs": [
    {
     "data": {
      "text/plain": [
       "[<matplotlib.lines.Line2D at 0x11bd14978>]"
      ]
     },
     "execution_count": 168,
     "metadata": {},
     "output_type": "execute_result"
    },
    {
     "data": {
      "image/png": "[encoded data removed]",
      "text/plain": [
       "<Figure size 432x288 with 1 Axes>"
      ]
     },
     "metadata": {
      "needs_background": "light"
     },
     "output_type": "display_data"
    }
   ],
   "source": [
    "plt.plot([i for i in range(len(recursive_search))],recursive_search, 'r-')\n",
    "plt.plot([i for i in range(len(regular_search))],regular_search,'b-')"
   ]
  },
  {
   "cell_type": "code",
   "execution_count": 169,
   "metadata": {},
   "outputs": [
    {
     "data": {
      "text/plain": [
       "[<matplotlib.lines.Line2D at 0x11be997b8>]"
      ]
     },
     "execution_count": 169,
     "metadata": {},
     "output_type": "execute_result"
    },
    {
     "data": {
      "image/png": "[encoded data removed]",
      "text/plain": [
       "<Figure size 432x288 with 1 Axes>"
      ]
     },
     "metadata": {
      "needs_background": "light"
     },
     "output_type": "display_data"
    }
   ],
   "source": [
    "plt.loglog([i for i in range(len(recursive_search))],recursive_search, 'r-')\n",
    "plt.loglog([i for i in range(len(regular_search))],regular_search,'b-')"
   ]
  },
  {
   "cell_type": "markdown",
   "metadata": {},
   "source": [
    "1. \n",
    "- bug1: time complexity exceeded. For binary search, the time complexity should be O(logn). However, in implementation3, the time complexity is O(nlogn) due to slicing operation. \n",
    "\n",
    "- bug2: when I run this with arr = [1,2,3], key = 9, I got TypeError. Clearly, the algorithm doesn't take the scenarios that the target element is not on the list. \n",
    "\n",
    "\n",
    "2. suggestion: \n",
    "- Time Complexity Error: use standard binary search code or dont use slicing in the current code. \n",
    "- Type Error: should take the case that the element is not in the list into consideration. \n",
    "\n",
    "standard code \n",
    "```\n",
    "def bsearch3_debug(arr, key): \n",
    "    n = len(arr) \n",
    "    if n < 2: \n",
    "        return (0 if (n == 1 and arr[0] == key) else None) \n",
    "    m = int(0.5 * n)\n",
    "    if arr[m] > key: \n",
    "        return bsearch3(arr[:m], key) \n",
    "    result = bsearch3(arr[m:], key) \n",
    "    if result!= None: \n",
    "        return result + m \n",
    "   else: \n",
    "        return result ```\n",
    "\n",
    "3. test: \n",
    "1. Time complexity: run 100,000 iteration and observe their running time. Clearly, the run time for recursive slicing way of binary search is higher than the standard one. \n",
    "\n",
    "2. TypeError arr[1,2,3], key = 9, exp output: none, output before debug: raise TypeError \n"
   ]
  },
  {
   "cell_type": "code",
   "execution_count": null,
   "metadata": {},
   "outputs": [],
   "source": []
  },
  {
   "cell_type": "code",
   "execution_count": null,
   "metadata": {},
   "outputs": [],
   "source": []
  },
  {
   "cell_type": "code",
   "execution_count": null,
   "metadata": {},
   "outputs": [],
   "source": []
  },
  {
   "cell_type": "code",
   "execution_count": null,
   "metadata": {},
   "outputs": [],
   "source": []
  },
  {
   "cell_type": "code",
   "execution_count": null,
   "metadata": {},
   "outputs": [],
   "source": []
  }
 ],
 "metadata": {
  "kernelspec": {
   "display_name": "Python 3",
   "language": "python",
   "name": "python3"
  },
  "language_info": {
   "codemirror_mode": {
    "name": "ipython",
    "version": 3
   },
   "file_extension": ".py",
   "mimetype": "text/x-python",
   "name": "python",
   "nbconvert_exporter": "python",
   "pygments_lexer": "ipython3",
   "version": "3.7.3"
  },
  "nbTranslate": {
   "displayLangs": [
    "*"
   ],
   "hotkey": "alt-t",
   "langInMainMenu": true,
   "sourceLang": "en",
   "targetLang": "fr",
   "useGoogleTranslate": true
  },
  "toc": {
   "base_numbering": 1,
   "nav_menu": {},
   "number_sections": true,
   "sideBar": true,
   "skip_h1_title": false,
   "title_cell": "Table of Contents",
   "title_sidebar": "Contents",
   "toc_cell": false,
   "toc_position": {},
   "toc_section_display": true,
   "toc_window_display": false
  },
  "varInspector": {
   "cols": {
    "lenName": 16,
    "lenType": 16,
    "lenVar": 40
   },
   "kernels_config": {
    "python": {
     "delete_cmd_postfix": "",
     "delete_cmd_prefix": "del ",
     "library": "var_list.py",
     "varRefreshCmd": "print(var_dic_list())"
    },
    "r": {
     "delete_cmd_postfix": ") ",
     "delete_cmd_prefix": "rm(",
     "library": "var_list.r",
     "varRefreshCmd": "cat(var_dic_list()) "
    }
   },
   "types_to_exclude": [
    "module",
    "function",
    "builtin_function_or_method",
    "instance",
    "_Feature"
   ],
   "window_display": false
  }
 },
 "nbformat": 4,
 "nbformat_minor": 2
}
