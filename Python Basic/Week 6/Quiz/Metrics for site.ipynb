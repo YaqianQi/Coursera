{
 "cells": [
  {
   "cell_type": "code",
   "execution_count": 1,
   "metadata": {},
   "outputs": [
    {
     "data": {
      "text/plain": [
       "'OVERVIEW\\nCreate a set of functions that will calculate metrics for a news site \\n(CTR, CR, average page time, share of readings)\\n\\nCTR (Click-through rate) - ad conversion,\\ni.e. the ratio of the number of clicks to the number of ad displays.\\n\\nCR (Conversion rate) - conversion to a particular section of the site,\\nI.e. the ration of the number of users on previous page and number of users on current page.\\n\\nAverage page time - the ratio all time to the number of users. \\nIn this case you shouldn’t count time less than 5 seconds on page.\\n\\nShare of readings - how many times users share this page,\\ni.e. the ratio of the number of share and the number of users.\\n\\nNews site has main page and categories: politics, sport, science, technologies.\\nEvery category has about 10 new posts every day. You can use this information for solving task.\\n\\nComplete the task in Jupyter Notebook. \\nInsert the programming code in code cells and text explanations in markdown cells\\nthen apply formatting and headings. When you finish, send your work to staff.'"
      ]
     },
     "execution_count": 1,
     "metadata": {},
     "output_type": "execute_result"
    }
   ],
   "source": [
    "\"\"\"OVERVIEW\n",
    "Create a set of functions that will calculate metrics for a news site \n",
    "(CTR, CR, average page time, share of readings)\n",
    "\n",
    "CTR (Click-through rate) - ad conversion,\n",
    "i.e. the ratio of the number of clicks to the number of ad displays.\n",
    "\n",
    "CR (Conversion rate) - conversion to a particular section of the site,\n",
    "I.e. the ration of the number of users on previous page and number of users on current page.\n",
    "\n",
    "Average page time - the ratio all time to the number of users. \n",
    "In this case you shouldn’t count time less than 5 seconds on page.\n",
    "\n",
    "Share of readings - how many times users share this page,\n",
    "i.e. the ratio of the number of share and the number of users.\n",
    "\n",
    "News site has main page and categories: politics, sport, science, technologies.\n",
    "Every category has about 10 new posts every day. You can use this information for solving task.\n",
    "\n",
    "Complete the task in Jupyter Notebook. \n",
    "Insert the programming code in code cells and text explanations in markdown cells\n",
    "then apply formatting and headings. When you finish, send your work to staff.\"\"\""
   ]
  },
  {
   "cell_type": "markdown",
   "metadata": {},
   "source": [
    "# CALCULATE CTR "
   ]
  },
  {
   "cell_type": "code",
   "execution_count": 2,
   "metadata": {},
   "outputs": [],
   "source": [
    "def cal_CTR(df):\n",
    "    \"\"\"\n",
    "    CTR (Click-through rate) - ad conversion,\n",
    "    The ratio of the number of clicks to the number of ad displays.\n",
    "    \n",
    "    input: dataframe \n",
    "    output: float \n",
    "    \n",
    "    col1: DATE. Can be any type of time. \n",
    "    col2: ad_num. Multiple ads display in the platform at the same time.\n",
    "    col3: click_times \n",
    "    col4: category for the information above\n",
    "    \n",
    "    I assume, there are multiple ads in the platform at the same time.\n",
    "    users click the ads that may interest them.\n",
    "    \"\"\"\n",
    "    total_ad_num = sum(df['ad_num'])\n",
    "    total_click = sum(df['click_times'])\n",
    "    CRT = round(total_click/total_ad_num,2)\n",
    "    print('The Click-through rate is {}'.format(CRT))\n",
    "    return CRT"
   ]
  },
  {
   "cell_type": "code",
   "execution_count": 3,
   "metadata": {},
   "outputs": [
    {
     "data": {
      "text/html": [
       "<div>\n",
       "<style scoped>\n",
       "    .dataframe tbody tr th:only-of-type {\n",
       "        vertical-align: middle;\n",
       "    }\n",
       "\n",
       "    .dataframe tbody tr th {\n",
       "        vertical-align: top;\n",
       "    }\n",
       "\n",
       "    .dataframe thead th {\n",
       "        text-align: right;\n",
       "    }\n",
       "</style>\n",
       "<table border=\"1\" class=\"dataframe\">\n",
       "  <thead>\n",
       "    <tr style=\"text-align: right;\">\n",
       "      <th></th>\n",
       "      <th>DATE</th>\n",
       "      <th>Category</th>\n",
       "      <th>ad_num</th>\n",
       "      <th>click_times</th>\n",
       "    </tr>\n",
       "  </thead>\n",
       "  <tbody>\n",
       "    <tr>\n",
       "      <th>0</th>\n",
       "      <td>2020-03-01</td>\n",
       "      <td>politics</td>\n",
       "      <td>3</td>\n",
       "      <td>2</td>\n",
       "    </tr>\n",
       "    <tr>\n",
       "      <th>1</th>\n",
       "      <td>2020-03-01</td>\n",
       "      <td>sport</td>\n",
       "      <td>2</td>\n",
       "      <td>0</td>\n",
       "    </tr>\n",
       "    <tr>\n",
       "      <th>2</th>\n",
       "      <td>2020-03-01</td>\n",
       "      <td>science</td>\n",
       "      <td>5</td>\n",
       "      <td>0</td>\n",
       "    </tr>\n",
       "    <tr>\n",
       "      <th>3</th>\n",
       "      <td>2020-03-01</td>\n",
       "      <td>technologies</td>\n",
       "      <td>1</td>\n",
       "      <td>1</td>\n",
       "    </tr>\n",
       "  </tbody>\n",
       "</table>\n",
       "</div>"
      ],
      "text/plain": [
       "         DATE      Category  ad_num  click_times\n",
       "0  2020-03-01      politics       3            2\n",
       "1  2020-03-01         sport       2            0\n",
       "2  2020-03-01       science       5            0\n",
       "3  2020-03-01  technologies       1            1"
      ]
     },
     "execution_count": 3,
     "metadata": {},
     "output_type": "execute_result"
    }
   ],
   "source": [
    "import pandas as pd\n",
    "data1 = {'DATE':['2020-03-01', '2020-03-01', '2020-03-01', '2020-03-01'], \n",
    "         'Category':['politics', 'sport', 'science', 'technologies'],\n",
    "        'ad_num':[3, 2, 5, 1],\n",
    "        'click_times': [2, 0, 0, 1]\n",
    "       }  \n",
    "# Create DataFrame \n",
    "table1 = pd.DataFrame(data1) \n",
    "# Print the output. \n",
    "table1"
   ]
  },
  {
   "cell_type": "code",
   "execution_count": 17,
   "metadata": {},
   "outputs": [
    {
     "name": "stdout",
     "output_type": "stream",
     "text": [
      "The Click-through rate is 0.27\n"
     ]
    }
   ],
   "source": [
    "ctr = cal_CTR(table1)"
   ]
  },
  {
   "cell_type": "markdown",
   "metadata": {},
   "source": [
    "# CALCULATE CR (Conversion rate)"
   ]
  },
  {
   "cell_type": "code",
   "execution_count": 5,
   "metadata": {},
   "outputs": [],
   "source": [
    "def cal_CR(df):\n",
    "    \"\"\"\n",
    "    CR (Conversion rate) - conversion to a particular section of the site,\n",
    "    I.e. the ratio of the number of users on previous page and number of users on current page.\n",
    "    \n",
    "    input: dataframe \n",
    "    output: float \n",
    "    \n",
    "    col1: UserName. Can be user id or similar items. \n",
    "    col2: prev_category. prev page category.\n",
    "    col3: cur_category. current page category.\n",
    "    col4: Prev_Page. The previous page index.\n",
    "    col5: Current_Page.The current page index.\n",
    "    \"\"\"\n",
    "    t = df[(df['Prev_Page']+1 == df['Current_Page']) & (df['prev_category'] == df['cur_category'])]\n",
    "    total_page = df.shape[0]\n",
    "    p_to_c_page = t.shape[0]\n",
    "    CR = round(p_to_c_page/total_page,2)\n",
    "    print('The CR (Conversion rate) is {}'.format(CR) )\n",
    "    return CR"
   ]
  },
  {
   "cell_type": "code",
   "execution_count": 6,
   "metadata": {},
   "outputs": [
    {
     "data": {
      "text/html": [
       "<div>\n",
       "<style scoped>\n",
       "    .dataframe tbody tr th:only-of-type {\n",
       "        vertical-align: middle;\n",
       "    }\n",
       "\n",
       "    .dataframe tbody tr th {\n",
       "        vertical-align: top;\n",
       "    }\n",
       "\n",
       "    .dataframe thead th {\n",
       "        text-align: right;\n",
       "    }\n",
       "</style>\n",
       "<table border=\"1\" class=\"dataframe\">\n",
       "  <thead>\n",
       "    <tr style=\"text-align: right;\">\n",
       "      <th></th>\n",
       "      <th>UserName</th>\n",
       "      <th>prev_category</th>\n",
       "      <th>cur_category</th>\n",
       "      <th>Prev_Page</th>\n",
       "      <th>Current_Page</th>\n",
       "    </tr>\n",
       "  </thead>\n",
       "  <tbody>\n",
       "    <tr>\n",
       "      <th>0</th>\n",
       "      <td>Tom</td>\n",
       "      <td>politics</td>\n",
       "      <td>politics</td>\n",
       "      <td>1</td>\n",
       "      <td>2</td>\n",
       "    </tr>\n",
       "    <tr>\n",
       "      <th>1</th>\n",
       "      <td>nick</td>\n",
       "      <td>science</td>\n",
       "      <td>sport</td>\n",
       "      <td>2</td>\n",
       "      <td>9</td>\n",
       "    </tr>\n",
       "    <tr>\n",
       "      <th>2</th>\n",
       "      <td>krish</td>\n",
       "      <td>technologies</td>\n",
       "      <td>science</td>\n",
       "      <td>3</td>\n",
       "      <td>3</td>\n",
       "    </tr>\n",
       "    <tr>\n",
       "      <th>3</th>\n",
       "      <td>jack</td>\n",
       "      <td>technologies</td>\n",
       "      <td>technologies</td>\n",
       "      <td>1</td>\n",
       "      <td>2</td>\n",
       "    </tr>\n",
       "  </tbody>\n",
       "</table>\n",
       "</div>"
      ],
      "text/plain": [
       "  UserName prev_category  cur_category  Prev_Page  Current_Page\n",
       "0      Tom      politics      politics          1             2\n",
       "1     nick       science         sport          2             9\n",
       "2    krish  technologies       science          3             3\n",
       "3     jack  technologies  technologies          1             2"
      ]
     },
     "execution_count": 6,
     "metadata": {},
     "output_type": "execute_result"
    }
   ],
   "source": [
    "import pandas as pd\n",
    "data2 = {'UserName':['Tom', 'nick', 'krish', 'jack'], \n",
    "         'prev_category':['politics', 'science', 'technologies', 'technologies'],\n",
    "         'cur_category':['politics', 'sport', 'science', 'technologies'],\n",
    "        'Prev_Page':[1, 2, 3, 1],\n",
    "        'Current_Page': [2, 9, 3, 2]\n",
    "       }  \n",
    "# Create DataFrame \n",
    "table2 = pd.DataFrame(data2) \n",
    "# Print the output. \n",
    "table2"
   ]
  },
  {
   "cell_type": "code",
   "execution_count": 16,
   "metadata": {},
   "outputs": [
    {
     "name": "stdout",
     "output_type": "stream",
     "text": [
      "The CR (Conversion rate) is 0.5\n"
     ]
    }
   ],
   "source": [
    "cr = cal_CR(table2)"
   ]
  },
  {
   "cell_type": "markdown",
   "metadata": {},
   "source": [
    "# CALCULATE Average page time"
   ]
  },
  {
   "cell_type": "code",
   "execution_count": 8,
   "metadata": {},
   "outputs": [],
   "source": [
    "def cal_AVG_TIME(df):\n",
    "    \"\"\"\n",
    "    Average page time - the ratio all time to the number of users. \n",
    "    In this case you shouldn’t count time less than 5 seconds on page.\n",
    "    \n",
    "    \n",
    "    input: dataframe \n",
    "    output: int\n",
    "    \n",
    "    col1: UserName. Can be user id or similar items. \n",
    "    col2: Page category\n",
    "    col3: Time. Number of time spend on the current page (Second).\n",
    "    col4: Current_Page.The current page index.\n",
    "    \"\"\"\n",
    "    t = df[df['Time'] > 5]\n",
    "    total_time = sum(t['Time'])\n",
    "    total_user = len(df.UserName.unique())\n",
    "    AVG_TIME = int(total_time /total_user) \n",
    "    print('Average page time is {}'.format(AVG_TIME) )\n",
    "    return AVG_TIME "
   ]
  },
  {
   "cell_type": "code",
   "execution_count": 9,
   "metadata": {},
   "outputs": [
    {
     "data": {
      "text/html": [
       "<div>\n",
       "<style scoped>\n",
       "    .dataframe tbody tr th:only-of-type {\n",
       "        vertical-align: middle;\n",
       "    }\n",
       "\n",
       "    .dataframe tbody tr th {\n",
       "        vertical-align: top;\n",
       "    }\n",
       "\n",
       "    .dataframe thead th {\n",
       "        text-align: right;\n",
       "    }\n",
       "</style>\n",
       "<table border=\"1\" class=\"dataframe\">\n",
       "  <thead>\n",
       "    <tr style=\"text-align: right;\">\n",
       "      <th></th>\n",
       "      <th>UserName</th>\n",
       "      <th>Category</th>\n",
       "      <th>Time</th>\n",
       "      <th>Current_Page</th>\n",
       "    </tr>\n",
       "  </thead>\n",
       "  <tbody>\n",
       "    <tr>\n",
       "      <th>0</th>\n",
       "      <td>Tom</td>\n",
       "      <td>politics</td>\n",
       "      <td>90</td>\n",
       "      <td>2</td>\n",
       "    </tr>\n",
       "    <tr>\n",
       "      <th>1</th>\n",
       "      <td>nick</td>\n",
       "      <td>sport</td>\n",
       "      <td>180</td>\n",
       "      <td>9</td>\n",
       "    </tr>\n",
       "    <tr>\n",
       "      <th>2</th>\n",
       "      <td>jack</td>\n",
       "      <td>science</td>\n",
       "      <td>10</td>\n",
       "      <td>3</td>\n",
       "    </tr>\n",
       "    <tr>\n",
       "      <th>3</th>\n",
       "      <td>jack</td>\n",
       "      <td>technologies</td>\n",
       "      <td>3</td>\n",
       "      <td>2</td>\n",
       "    </tr>\n",
       "  </tbody>\n",
       "</table>\n",
       "</div>"
      ],
      "text/plain": [
       "  UserName      Category  Time  Current_Page\n",
       "0      Tom      politics    90             2\n",
       "1     nick         sport   180             9\n",
       "2     jack       science    10             3\n",
       "3     jack  technologies     3             2"
      ]
     },
     "execution_count": 9,
     "metadata": {},
     "output_type": "execute_result"
    }
   ],
   "source": [
    "import pandas as pd\n",
    "data3 = {'UserName':['Tom', 'nick', 'jack', 'jack'], \n",
    "         'Category':['politics', 'sport', 'science', 'technologies'],\n",
    "        'Time':[90, 180, 10, 3],\n",
    "        'Current_Page': [2, 9, 3, 2]\n",
    "       }  \n",
    "# Create DataFrame \n",
    "table3 = pd.DataFrame(data3) \n",
    "# Print the output. \n",
    "table3"
   ]
  },
  {
   "cell_type": "code",
   "execution_count": 15,
   "metadata": {},
   "outputs": [
    {
     "name": "stdout",
     "output_type": "stream",
     "text": [
      "Average page time is 93\n"
     ]
    }
   ],
   "source": [
    "apt = cal_AVG_TIME(table3)"
   ]
  },
  {
   "cell_type": "markdown",
   "metadata": {},
   "source": [
    "# CALCULATE Share of readings"
   ]
  },
  {
   "cell_type": "code",
   "execution_count": 11,
   "metadata": {},
   "outputs": [],
   "source": [
    "def cal_sharing_times(df):\n",
    "    \"\"\"\n",
    "    Share of readings - how many times users share this page,\n",
    "    i.e. the ratio of the number of share and the number of users.\n",
    "    \n",
    "    \n",
    "    input: dataframe \n",
    "    output: float\n",
    "    \n",
    "    col1: UserName. Can be user id or similar items. \n",
    "    col2: sharing page category \n",
    "    col3: Sharing_Times. how many times users share this page.\n",
    "    \"\"\"\n",
    "    total_sharing = sum(df['Sharing_Time'])\n",
    "    total_user = len(df.UserName.unique())\n",
    "    AVG_sharing_times = round(total_sharing/total_user,2) \n",
    "    print('Share of readings is {}'.format(AVG_sharing_times) )\n",
    "    return AVG_sharing_times"
   ]
  },
  {
   "cell_type": "code",
   "execution_count": 12,
   "metadata": {},
   "outputs": [
    {
     "data": {
      "text/html": [
       "<div>\n",
       "<style scoped>\n",
       "    .dataframe tbody tr th:only-of-type {\n",
       "        vertical-align: middle;\n",
       "    }\n",
       "\n",
       "    .dataframe tbody tr th {\n",
       "        vertical-align: top;\n",
       "    }\n",
       "\n",
       "    .dataframe thead th {\n",
       "        text-align: right;\n",
       "    }\n",
       "</style>\n",
       "<table border=\"1\" class=\"dataframe\">\n",
       "  <thead>\n",
       "    <tr style=\"text-align: right;\">\n",
       "      <th></th>\n",
       "      <th>UserName</th>\n",
       "      <th>Category</th>\n",
       "      <th>Sharing_Time</th>\n",
       "    </tr>\n",
       "  </thead>\n",
       "  <tbody>\n",
       "    <tr>\n",
       "      <th>0</th>\n",
       "      <td>Tom</td>\n",
       "      <td>politics</td>\n",
       "      <td>2</td>\n",
       "    </tr>\n",
       "    <tr>\n",
       "      <th>1</th>\n",
       "      <td>nick</td>\n",
       "      <td>sport</td>\n",
       "      <td>9</td>\n",
       "    </tr>\n",
       "    <tr>\n",
       "      <th>2</th>\n",
       "      <td>jack</td>\n",
       "      <td>science</td>\n",
       "      <td>3</td>\n",
       "    </tr>\n",
       "    <tr>\n",
       "      <th>3</th>\n",
       "      <td>jack</td>\n",
       "      <td>technologies</td>\n",
       "      <td>2</td>\n",
       "    </tr>\n",
       "  </tbody>\n",
       "</table>\n",
       "</div>"
      ],
      "text/plain": [
       "  UserName      Category  Sharing_Time\n",
       "0      Tom      politics             2\n",
       "1     nick         sport             9\n",
       "2     jack       science             3\n",
       "3     jack  technologies             2"
      ]
     },
     "execution_count": 12,
     "metadata": {},
     "output_type": "execute_result"
    }
   ],
   "source": [
    "data4 = {'UserName':['Tom', 'nick', 'jack', 'jack'], \n",
    "        'Category':['politics', 'sport', 'science', 'technologies'],\n",
    "        'Sharing_Time': [2, 9, 3, 2]\n",
    "       }  \n",
    "# Create DataFrame \n",
    "table4 = pd.DataFrame(data4) \n",
    "# Print the output. \n",
    "table4"
   ]
  },
  {
   "cell_type": "code",
   "execution_count": 14,
   "metadata": {},
   "outputs": [
    {
     "name": "stdout",
     "output_type": "stream",
     "text": [
      "Share of readings is 5.33\n"
     ]
    }
   ],
   "source": [
    "st = cal_sharing_times(table4)"
   ]
  },
  {
   "cell_type": "code",
   "execution_count": null,
   "metadata": {},
   "outputs": [],
   "source": []
  }
 ],
 "metadata": {
  "kernelspec": {
   "display_name": "Python 3",
   "language": "python",
   "name": "python3"
  },
  "language_info": {
   "codemirror_mode": {
    "name": "ipython",
    "version": 3
   },
   "file_extension": ".py",
   "mimetype": "text/x-python",
   "name": "python",
   "nbconvert_exporter": "python",
   "pygments_lexer": "ipython3",
   "version": "3.7.3"
  },
  "nbTranslate": {
   "displayLangs": [
    "*"
   ],
   "hotkey": "alt-t",
   "langInMainMenu": true,
   "sourceLang": "en",
   "targetLang": "fr",
   "useGoogleTranslate": true
  },
  "toc": {
   "base_numbering": 1,
   "nav_menu": {},
   "number_sections": true,
   "sideBar": true,
   "skip_h1_title": false,
   "title_cell": "Table of Contents",
   "title_sidebar": "Contents",
   "toc_cell": false,
   "toc_position": {},
   "toc_section_display": true,
   "toc_window_display": false
  },
  "varInspector": {
   "cols": {
    "lenName": 16,
    "lenType": 16,
    "lenVar": 40
   },
   "kernels_config": {
    "python": {
     "delete_cmd_postfix": "",
     "delete_cmd_prefix": "del ",
     "library": "var_list.py",
     "varRefreshCmd": "print(var_dic_list())"
    },
    "r": {
     "delete_cmd_postfix": ") ",
     "delete_cmd_prefix": "rm(",
     "library": "var_list.r",
     "varRefreshCmd": "cat(var_dic_list()) "
    }
   },
   "types_to_exclude": [
    "module",
    "function",
    "builtin_function_or_method",
    "instance",
    "_Feature"
   ],
   "window_display": false
  }
 },
 "nbformat": 4,
 "nbformat_minor": 2
}
