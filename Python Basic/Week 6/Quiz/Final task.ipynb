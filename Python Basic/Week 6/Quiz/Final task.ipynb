{
 "cells": [
  {
   "cell_type": "code",
   "execution_count": 1,
   "metadata": {},
   "outputs": [
    {
     "data": {
      "text/plain": [
       "'\\nOVERVIEW\\nAny game consists of a set of functions that the hero performs. Write functions for the game.\\n\\n1. You need the hero to be able to move around the location. \\nTo do this, for the forward and backward keys, write functions that will add or subtract one.\\n\\n2. You need to create a hero with different characteristics. \\nCreate a function that allows you to create a hero and set parameters for it.\\n\\n3. The Hero carries inventory with him. \\nYou need to create a function that allows you to display the current inventory on the screen,\\nas well as add a new one.\\n\\n4. The Hero needs special combinations that will allow him to defeat enemies.\\nWrite a function that will generate a set of combinations.\\n\\n5. Support the possibility of different scenarios. \\nAt the beginning of the program, you need to choose the mode-easy or difficult. \\nNext, run a set of functions depending on the mode.\\n\\nREVIEW CRITERIA\\nThis task evaluates the task completion and the use of the studied methods.\\n'"
      ]
     },
     "execution_count": 1,
     "metadata": {},
     "output_type": "execute_result"
    }
   ],
   "source": [
    "\"\"\"\n",
    "OVERVIEW\n",
    "Any game consists of a set of functions that the hero performs. Write functions for the game.\n",
    "\n",
    "1. You need the hero to be able to move around the location. \n",
    "To do this, for the forward and backward keys, write functions that will add or subtract one.\n",
    "\n",
    "2. You need to create a hero with different characteristics. \n",
    "Create a function that allows you to create a hero and set parameters for it.\n",
    "\n",
    "3. The Hero carries inventory with him. \n",
    "You need to create a function that allows you to display the current inventory on the screen,\n",
    "as well as add a new one.\n",
    "\n",
    "4. The Hero needs special combinations that will allow him to defeat enemies.\n",
    "Write a function that will generate a set of combinations.\n",
    "\n",
    "5. Support the possibility of different scenarios. \n",
    "At the beginning of the program, you need to choose the mode-easy or difficult. \n",
    "Next, run a set of functions depending on the mode.\n",
    "\n",
    "REVIEW CRITERIA\n",
    "This task evaluates the task completion and the use of the studied methods.\n",
    "\"\"\""
   ]
  },
  {
   "cell_type": "code",
   "execution_count": 23,
   "metadata": {},
   "outputs": [],
   "source": [
    "class Game:\n",
    "    def __init__(self,mode = 'Easy'):\n",
    "        self.mode = mode\n",
    "    def show_mode_in_game(self):\n",
    "        return self.mode\n",
    "class Hero(Game):\n",
    "    def __init__(self,name, age,gender):\n",
    "        Game.__init__(self)\n",
    "        self.location = 0 \n",
    "        self.name = name\n",
    "        self.age = age\n",
    "        self.gender = gender\n",
    "        self.skill = ['s1','s2','s3','s4']\n",
    "        self.inventory = ['helmet','dagger','cloak']\n",
    "    def move(self, step = 1):\n",
    "        self.location += step\n",
    "    def show_location(self):\n",
    "        return self.location\n",
    "    def show_inventory(self):\n",
    "        return self.inventory\n",
    "    def add_inventory(self,item):\n",
    "        self.inventory.append(item)\n",
    "    def generate_skill(self,sequence):\n",
    "        lst = []\n",
    "        for x in sequence:\n",
    "            lst.append(self.skill[x-1])\n",
    "        return ' '.join(x for x in lst)\n",
    "    def show_hero_mode(self):\n",
    "        return self.mode\n",
    "        #print('current mode {}'.format(super.mode))\n",
    "    "
   ]
  },
  {
   "cell_type": "code",
   "execution_count": 25,
   "metadata": {},
   "outputs": [
    {
     "data": {
      "text/plain": [
       "'Easy'"
      ]
     },
     "execution_count": 25,
     "metadata": {},
     "output_type": "execute_result"
    }
   ],
   "source": [
    "g = Game()\n",
    "g.show_mode_in_game()"
   ]
  },
  {
   "cell_type": "code",
   "execution_count": 26,
   "metadata": {},
   "outputs": [
    {
     "data": {
      "text/plain": [
       "2"
      ]
     },
     "execution_count": 26,
     "metadata": {},
     "output_type": "execute_result"
    }
   ],
   "source": [
    "\"\"\"\n",
    "2. You need to create a hero with different characteristics. \n",
    "Create a function that allows you to create a hero and set parameters for it.\n",
    "\"\"\"\n",
    "arther = Hero('Arther', 20,'male')\n",
    "\"\"\"\n",
    "1. You need the hero to be able to move around the location. \n",
    "To do this, for the forward and backward keys, write functions that will add or subtract one.\n",
    "\"\"\"\n",
    "arther.move(1)\n",
    "arther.move(1)\n",
    "arther.move(-1)\n",
    "arther.move()\n",
    "arther.show_location()"
   ]
  },
  {
   "cell_type": "code",
   "execution_count": 27,
   "metadata": {},
   "outputs": [
    {
     "data": {
      "text/plain": [
       "['helmet', 'dagger', 'cloak', 'Energy potion']"
      ]
     },
     "execution_count": 27,
     "metadata": {},
     "output_type": "execute_result"
    }
   ],
   "source": [
    "\"\"\"\n",
    "3. The Hero carries inventory with him. \n",
    "You need to create a function that allows you to display the current inventory on the screen,\n",
    "as well as add a new one.\n",
    "\"\"\"\n",
    "arther.show_inventory()\n",
    "arther.add_inventory('Energy potion')\n",
    "arther.show_inventory()"
   ]
  },
  {
   "cell_type": "code",
   "execution_count": 28,
   "metadata": {},
   "outputs": [
    {
     "data": {
      "text/plain": [
       "'s2 s3 s4 s1'"
      ]
     },
     "execution_count": 28,
     "metadata": {},
     "output_type": "execute_result"
    }
   ],
   "source": [
    "\"\"\"\n",
    "4. The Hero needs special combinations that will allow him to defeat enemies.\n",
    "Write a function that will generate a set of combinations.\n",
    "\"\"\"\n",
    "sequence = [2,3,4,1]\n",
    "skill_combination = arther.generate_skill(sequence)\n",
    "skill_combination "
   ]
  },
  {
   "cell_type": "code",
   "execution_count": 30,
   "metadata": {},
   "outputs": [
    {
     "data": {
      "text/plain": [
       "'Easy'"
      ]
     },
     "execution_count": 30,
     "metadata": {},
     "output_type": "execute_result"
    }
   ],
   "source": [
    "\"\"\"\n",
    "5. Support the possibility of different scenarios. \n",
    "At the beginning of the program, you need to choose the mode-easy or difficult. \n",
    "Next, run a set of functions depending on the mode.\n",
    "\"\"\"\n",
    "arther.show_hero_mode() "
   ]
  },
  {
   "cell_type": "code",
   "execution_count": 31,
   "metadata": {},
   "outputs": [
    {
     "data": {
      "text/plain": [
       "'Difficult'"
      ]
     },
     "execution_count": 31,
     "metadata": {},
     "output_type": "execute_result"
    }
   ],
   "source": [
    "g = Game('Difficult')\n",
    "g.show_mode_in_game()"
   ]
  },
  {
   "cell_type": "code",
   "execution_count": null,
   "metadata": {},
   "outputs": [],
   "source": []
  }
 ],
 "metadata": {
  "kernelspec": {
   "display_name": "Python 3",
   "language": "python",
   "name": "python3"
  },
  "language_info": {
   "codemirror_mode": {
    "name": "ipython",
    "version": 3
   },
   "file_extension": ".py",
   "mimetype": "text/x-python",
   "name": "python",
   "nbconvert_exporter": "python",
   "pygments_lexer": "ipython3",
   "version": "3.7.3"
  },
  "nbTranslate": {
   "displayLangs": [
    "*"
   ],
   "hotkey": "alt-t",
   "langInMainMenu": true,
   "sourceLang": "en",
   "targetLang": "fr",
   "useGoogleTranslate": true
  },
  "toc": {
   "base_numbering": 1,
   "nav_menu": {},
   "number_sections": true,
   "sideBar": true,
   "skip_h1_title": false,
   "title_cell": "Table of Contents",
   "title_sidebar": "Contents",
   "toc_cell": false,
   "toc_position": {},
   "toc_section_display": true,
   "toc_window_display": false
  },
  "varInspector": {
   "cols": {
    "lenName": 16,
    "lenType": 16,
    "lenVar": 40
   },
   "kernels_config": {
    "python": {
     "delete_cmd_postfix": "",
     "delete_cmd_prefix": "del ",
     "library": "var_list.py",
     "varRefreshCmd": "print(var_dic_list())"
    },
    "r": {
     "delete_cmd_postfix": ") ",
     "delete_cmd_prefix": "rm(",
     "library": "var_list.r",
     "varRefreshCmd": "cat(var_dic_list()) "
    }
   },
   "types_to_exclude": [
    "module",
    "function",
    "builtin_function_or_method",
    "instance",
    "_Feature"
   ],
   "window_display": false
  }
 },
 "nbformat": 4,
 "nbformat_minor": 2
}
